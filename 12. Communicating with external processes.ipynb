{
 "cells": [
  {
   "cell_type": "markdown",
   "id": "8d37fef4-4df8-4e18-a486-b384f113ea88",
   "metadata": {},
   "source": [
    "The `subprocess` module in Python is used to spawn new processes, connect to their input/output/error pipes, and obtain their return codes. It allows you to start new applications or programs from your Python script. \n",
    "\n",
    "### Basic Usage\n",
    "\n",
    "1. **Import the subprocess module:**"
   ]
  },
  {
   "cell_type": "code",
   "execution_count": 1,
   "id": "7d1cd0c9-aa07-4b4d-b47a-a8efb9d0269a",
   "metadata": {},
   "outputs": [],
   "source": [
    "import subprocess"
   ]
  },
  {
   "cell_type": "markdown",
   "id": "3631b04d-3c01-4028-bf47-43b17ef52f1a",
   "metadata": {},
   "source": [
    "2. **Running a Simple Command:**\n",
    "   Use `subprocess.run()` to run a command and wait for it to complete.\n",
    "   ```python\n",
    "   \n",
    "   ```"
   ]
  },
  {
   "cell_type": "code",
   "execution_count": 13,
   "id": "a70762b8-3825-424a-95ec-bdf485f22883",
   "metadata": {},
   "outputs": [
    {
     "name": "stdout",
     "output_type": "stream",
     "text": [
      "total 856\n",
      "-rw-r--r--  1 john  staff   3609 Jun 17 08:28 01. Introduction.ipynb\n",
      "-rw-r--r--  1 john  staff  61194 Jun 17 14:12 02. Built-in Types.ipynb\n",
      "-rw-r--r--  1 john  staff  23467 Jun 17 16:58 03. Control Flow.ipynb\n",
      "-rw-r--r--  1 john  staff  61260 Jun 18 15:35 04. More on functions and iterables.ipynb\n",
      "-rw-r--r--  1 john  staff  36848 Jun 19 09:32 05. Advanced Data Structures.ipynb\n",
      "-rw-r--r--@ 1 john  staff  15299 Jun 17 08:28 06. Decorators.ipynb\n",
      "-rw-r--r--@ 1 john  staff  31846 Jun 20 09:47 07. Object-Oriented Programming.ipynb\n",
      "-rw-r--r--  1 john  staff  11324 Jun 20 10:24 08. Context Managers.ipynb\n",
      "-rw-r--r--  1 john  staff  65142 Jun 17 08:28 09. Testing your code.ipynb\n",
      "-rw-r--r--  1 john  staff  17148 Jun 20 15:34 10. Logging.ipynb\n",
      "-rw-r--r--@ 1 john  staff  26466 Jun 20 16:40 11. Concurrent execution.ipynb\n",
      "-rw-r--r--  1 john  staff  18648 Jun 20 16:48 12. Communicating with external processes.ipynb\n",
      "-rw-r--r--  1 john  staff  12150 Jun 17 08:28 books.csv\n",
      "-rw-r--r--@ 1 john  staff     11 Jun 17 08:28 example.txt\n",
      "-rw-r--r--@ 1 john  staff  15222 Jun 17 08:28 multithreading.png\n",
      "-rw-r--r--  1 john  staff     58 Jun 20 10:22 out.txt\n",
      "-rw-r--r--  1 john  staff     27 Jun 20 10:23 out2.txt\n",
      "-rw-r--r--  1 john  staff   1295 Jun 19 19:37 output.txt\n",
      "-rw-r--r--  1 john  staff    899 Jun 20 16:23 process_files.py\n",
      "-rw-r--r--  1 john  staff    593 Jun 17 08:28 users.json\n",
      "\n"
     ]
    }
   ],
   "source": [
    "result = subprocess.run(['ls', '-l'], capture_output=True, text=True)\n",
    "print(result.stdout)"
   ]
  },
  {
   "cell_type": "markdown",
   "id": "7d210d3f-4ac5-40c1-b45c-23ac38d06a64",
   "metadata": {},
   "source": [
    "   - `['ls', '-l']`: The command to run. Here, it lists directory contents in long format.\n",
    "   - `capture_output=True`: Captures the standard output and error.\n",
    "   - `text=True`: Returns output as string rather than bytes.\n",
    "\n",
    "### Running a Command with Different Options\n",
    "\n",
    "3. **Check if Command is Successful:**"
   ]
  },
  {
   "cell_type": "code",
   "execution_count": 3,
   "id": "e1da8920-c1da-49ff-898f-40cf8e30ebfa",
   "metadata": {},
   "outputs": [
    {
     "name": "stdout",
     "output_type": "stream",
     "text": [
      "Command succeeded: total 824\n",
      "-rw-r--r--  1 john  staff   3609 Jun 17 08:28 01. Introduction.ipynb\n",
      "-rw-r--r--  1 john  staff  61194 Jun 17 14:12 02. Built-in Types.ipynb\n",
      "-rw-r--r--  1 john  staff  23467 Jun 17 16:58 03. Control Flow.ipynb\n",
      "-rw-r--r--  1 john  staff  61260 Jun 18 15:35 04. More on functions and iterables.ipynb\n",
      "-rw-r--r--  1 john  staff  36848 Jun 19 09:32 05. Advanced Data Structures.ipynb\n",
      "-rw-r--r--@ 1 john  staff  15299 Jun 17 08:28 06. Decorators.ipynb\n",
      "-rw-r--r--@ 1 john  staff  31743 Jun 17 08:28 07. Object-Oriented Programming.ipynb\n",
      "-rw-r--r--  1 john  staff  10936 Jun 17 08:28 08. Context Managers.ipynb\n",
      "-rw-r--r--  1 john  staff  65142 Jun 17 08:28 09. Testing your code.ipynb\n",
      "-rw-r--r--  1 john  staff  17026 Jun 17 08:28 10. Logging.ipynb\n",
      "-rw-r--r--@ 1 john  staff  26354 Jun 19 19:29 11. Concurrent execution.ipynb\n",
      "-rw-r--r--  1 john  staff  13159 Jun 19 19:36 12. Communicating with external processes.ipynb\n",
      "-rw-r--r--  1 john  staff  12150 Jun 17 08:28 books.csv\n",
      "-rw-r--r--@ 1 john  staff     11 Jun 17 08:28 example.txt\n",
      "-rw-r--r--@ 1 john  staff  15222 Jun 17 08:28 multithreading.png\n",
      "-rw-r--r--  1 john  staff    899 Jun 17 08:28 process_files.py\n",
      "-rw-r--r--  1 john  staff    593 Jun 17 08:28 users.json\n",
      "\n"
     ]
    }
   ],
   "source": [
    "result = subprocess.run(['ls', '-l'], capture_output=True, text=True)\n",
    "if result.returncode == 0:\n",
    "    print('Command succeeded:', result.stdout)\n",
    "else:\n",
    "    print('Command failed:', result.stderr)"
   ]
  },
  {
   "cell_type": "markdown",
   "id": "a4269cfc-7de9-4ab9-8f04-669e1261aa00",
   "metadata": {},
   "source": [
    "4. **Suppressing Output:**"
   ]
  },
  {
   "cell_type": "code",
   "execution_count": 4,
   "id": "6490b01b-0218-4c7f-aa8a-34e825f8c97a",
   "metadata": {},
   "outputs": [
    {
     "data": {
      "text/plain": [
       "CompletedProcess(args=['ls', '-l'], returncode=0)"
      ]
     },
     "execution_count": 4,
     "metadata": {},
     "output_type": "execute_result"
    }
   ],
   "source": [
    "subprocess.run(['ls', '-l'], stdout=subprocess.DEVNULL, stderr=subprocess.DEVNULL)"
   ]
  },
  {
   "cell_type": "markdown",
   "id": "a6d15c6c-24d5-46cd-b6d1-5bdc582c9da5",
   "metadata": {},
   "source": [
    "   - `stdout=subprocess.DEVNULL` and `stderr=subprocess.DEVNULL` suppress the output.\n",
    "\n",
    "5. **Running Command without Waiting for Completion:**"
   ]
  },
  {
   "cell_type": "code",
   "execution_count": 5,
   "id": "d61fb3af-2e4e-4154-9528-137691f0fe21",
   "metadata": {},
   "outputs": [
    {
     "name": "stdout",
     "output_type": "stream",
     "text": [
      "Command started, will sleep for 5 seconds\n"
     ]
    }
   ],
   "source": [
    "process = subprocess.Popen(['sleep', '5'])\n",
    "print('Command started, will sleep for 5 seconds')"
   ]
  },
  {
   "cell_type": "markdown",
   "id": "cf58697b-90a3-4b74-805c-680340ca7d19",
   "metadata": {},
   "source": [
    "   - `subprocess.Popen` starts the process without waiting for it to complete.\n",
    "\n",
    "### Advanced Usage\n",
    "\n",
    "6. **Capturing Output:**"
   ]
  },
  {
   "cell_type": "code",
   "execution_count": 6,
   "id": "985ba8b8-b23d-4e97-9716-dcaab8374fe4",
   "metadata": {},
   "outputs": [
    {
     "name": "stdout",
     "output_type": "stream",
     "text": [
      "stdout: total 824\n",
      "-rw-r--r--  1 john  staff   3609 Jun 17 08:28 01. Introduction.ipynb\n",
      "-rw-r--r--  1 john  staff  61194 Jun 17 14:12 02. Built-in Types.ipynb\n",
      "-rw-r--r--  1 john  staff  23467 Jun 17 16:58 03. Control Flow.ipynb\n",
      "-rw-r--r--  1 john  staff  61260 Jun 18 15:35 04. More on functions and iterables.ipynb\n",
      "-rw-r--r--  1 john  staff  36848 Jun 19 09:32 05. Advanced Data Structures.ipynb\n",
      "-rw-r--r--@ 1 john  staff  15299 Jun 17 08:28 06. Decorators.ipynb\n",
      "-rw-r--r--@ 1 john  staff  31743 Jun 17 08:28 07. Object-Oriented Programming.ipynb\n",
      "-rw-r--r--  1 john  staff  10936 Jun 17 08:28 08. Context Managers.ipynb\n",
      "-rw-r--r--  1 john  staff  65142 Jun 17 08:28 09. Testing your code.ipynb\n",
      "-rw-r--r--  1 john  staff  17026 Jun 17 08:28 10. Logging.ipynb\n",
      "-rw-r--r--@ 1 john  staff  26354 Jun 19 19:29 11. Concurrent execution.ipynb\n",
      "-rw-r--r--  1 john  staff  13159 Jun 19 19:36 12. Communicating with external processes.ipynb\n",
      "-rw-r--r--  1 john  staff  12150 Jun 17 08:28 books.csv\n",
      "-rw-r--r--@ 1 john  staff     11 Jun 17 08:28 example.txt\n",
      "-rw-r--r--@ 1 john  staff  15222 Jun 17 08:28 multithreading.png\n",
      "-rw-r--r--  1 john  staff    899 Jun 17 08:28 process_files.py\n",
      "-rw-r--r--  1 john  staff    593 Jun 17 08:28 users.json\n",
      "\n",
      "stderr: \n"
     ]
    }
   ],
   "source": [
    "result = subprocess.run(['ls', '-l'], capture_output=True, text=True)\n",
    "print('stdout:', result.stdout)\n",
    "print('stderr:', result.stderr)"
   ]
  },
  {
   "cell_type": "markdown",
   "id": "26f232e5-bac3-4723-86ff-f238f72155a1",
   "metadata": {},
   "source": [
    "7. **Redirecting Output to a File:**"
   ]
  },
  {
   "cell_type": "code",
   "execution_count": 7,
   "id": "7fe48cd1-e58d-4dbf-b1a0-15e03ca9f928",
   "metadata": {},
   "outputs": [],
   "source": [
    "with open('output.txt', 'w') as f:\n",
    "    subprocess.run(['ls', '-l'], stdout=f)"
   ]
  },
  {
   "cell_type": "markdown",
   "id": "a24d314d-c7c5-4db9-b235-203a1d7b7263",
   "metadata": {},
   "source": [
    "8. **Piping Commands:**"
   ]
  },
  {
   "cell_type": "code",
   "execution_count": 8,
   "id": "23cb0af2-cc1b-4a24-bd99-7a599aad0e75",
   "metadata": {},
   "outputs": [
    {
     "name": "stdout",
     "output_type": "stream",
     "text": [
      "-rw-r--r--  1 john  staff   3609 Jun 17 08:28 01. Introduction.ipynb\n",
      "-rw-r--r--  1 john  staff  61194 Jun 17 14:12 02. Built-in Types.ipynb\n",
      "-rw-r--r--  1 john  staff  23467 Jun 17 16:58 03. Control Flow.ipynb\n",
      "-rw-r--r--  1 john  staff  61260 Jun 18 15:35 04. More on functions and iterables.ipynb\n",
      "-rw-r--r--  1 john  staff  36848 Jun 19 09:32 05. Advanced Data Structures.ipynb\n",
      "-rw-r--r--@ 1 john  staff  15299 Jun 17 08:28 06. Decorators.ipynb\n",
      "-rw-r--r--@ 1 john  staff  31743 Jun 17 08:28 07. Object-Oriented Programming.ipynb\n",
      "-rw-r--r--  1 john  staff  10936 Jun 17 08:28 08. Context Managers.ipynb\n",
      "-rw-r--r--  1 john  staff  65142 Jun 17 08:28 09. Testing your code.ipynb\n",
      "-rw-r--r--  1 john  staff  17026 Jun 17 08:28 10. Logging.ipynb\n",
      "-rw-r--r--@ 1 john  staff  26354 Jun 19 19:29 11. Concurrent execution.ipynb\n",
      "-rw-r--r--  1 john  staff  13159 Jun 19 19:36 12. Communicating with external processes.ipynb\n",
      "-rw-r--r--  1 john  staff    899 Jun 17 08:28 process_files.py\n",
      "\n"
     ]
    }
   ],
   "source": [
    "p1 = subprocess.Popen(['ls', '-l'], stdout=subprocess.PIPE)\n",
    "p2 = subprocess.Popen(['grep', 'py'], stdin=p1.stdout, stdout=subprocess.PIPE, text=True)\n",
    "p1.stdout.close()  # Allow p1 to receive a SIGPIPE if p2 exits.\n",
    "output = p2.communicate()[0]\n",
    "print(output)"
   ]
  },
  {
   "cell_type": "markdown",
   "id": "e094b28a-367f-45ca-ab7a-80073c6e3f91",
   "metadata": {},
   "source": [
    "   - This pipes the output of `ls -l` to `grep py`.\n",
    "\n",
    "9. **Handling Timeouts:**"
   ]
  },
  {
   "cell_type": "code",
   "execution_count": 9,
   "id": "95593954-f44f-4c66-95d9-e8c08057076d",
   "metadata": {},
   "outputs": [
    {
     "name": "stdout",
     "output_type": "stream",
     "text": [
      "Command timed out\n"
     ]
    }
   ],
   "source": [
    "try:\n",
    "    result = subprocess.run(['sleep', '10'], timeout=1)\n",
    "except subprocess.TimeoutExpired:\n",
    "    print('Command timed out')"
   ]
  },
  {
   "cell_type": "markdown",
   "id": "4f5042f7-7048-4bb7-83bd-ef8a389386ee",
   "metadata": {},
   "source": [
    "10. **Error Handling:**"
   ]
  },
  {
   "cell_type": "code",
   "execution_count": 10,
   "id": "59b251ee-aa21-40e3-a217-b1980aa7f3d3",
   "metadata": {},
   "outputs": [
    {
     "name": "stdout",
     "output_type": "stream",
     "text": [
      "Command failed with return code 1\n"
     ]
    }
   ],
   "source": [
    "try:\n",
    "    result = subprocess.run(['false'], check=True)\n",
    "except subprocess.CalledProcessError as e:\n",
    "    print('Command failed with return code', e.returncode)"
   ]
  },
  {
   "cell_type": "markdown",
   "id": "7c910298-18c5-4ae4-bfe9-a36188fe02c8",
   "metadata": {},
   "source": [
    "    - `check=True` raises an exception if the command exits with a non-zero status."
   ]
  }
 ],
 "metadata": {
  "kernelspec": {
   "display_name": "Python 3 (ipykernel)",
   "language": "python",
   "name": "python3"
  },
  "language_info": {
   "codemirror_mode": {
    "name": "ipython",
    "version": 3
   },
   "file_extension": ".py",
   "mimetype": "text/x-python",
   "name": "python",
   "nbconvert_exporter": "python",
   "pygments_lexer": "ipython3",
   "version": "3.13.7"
  }
 },
 "nbformat": 4,
 "nbformat_minor": 5
}
