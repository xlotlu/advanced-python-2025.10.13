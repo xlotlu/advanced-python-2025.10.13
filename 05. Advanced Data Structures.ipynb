{
 "cells": [
  {
   "cell_type": "markdown",
   "id": "600689ff-e6a6-4ea8-bb38-15cbfbd0528a",
   "metadata": {},
   "source": [
    "The `collections` module in Python provides specialized container datatypes that offer alternatives to Python’s general-purpose built-in containers like lists, tuples, dictionaries, and sets. These specialized containers are designed to provide high performance and more features for specific tasks. \n",
    "\n",
    "## 1. `namedtuple` - improving code readabiltity\n",
    "\n",
    "Python’s `namedtuple()` is a factory function that lets you create tuple subclasses with named fields, allowing direct access to values using dot notation (e.g., `obj.attr`). This feature improves code readability and reduces errors compared to accessing values by index in a regular tuple, especially when the tuple has many items and is used far from where it was created.\n",
    "\n",
    "Consider `divmod` builting function, which returns a tuple of `quotient` and `remainder`:"
   ]
  },
  {
   "cell_type": "code",
   "execution_count": 1,
   "id": "f411ac13-630e-44fb-ab7f-51e0450e9533",
   "metadata": {},
   "outputs": [
    {
     "data": {
      "text/plain": [
       "(7, 1)"
      ]
     },
     "execution_count": 1,
     "metadata": {},
     "output_type": "execute_result"
    }
   ],
   "source": [
    "divmod(15, 2)"
   ]
  },
  {
   "cell_type": "markdown",
   "id": "2daac70a-0966-47c2-8e46-1ed4895e2a0d",
   "metadata": {},
   "source": [
    "In order to use the result, you would have to use indexing on the tuple, which decreases readability:"
   ]
  },
  {
   "cell_type": "code",
   "execution_count": 2,
   "id": "a94c56d5-ab2f-45a9-8d6a-f448cd3b624b",
   "metadata": {},
   "outputs": [],
   "source": [
    "result = divmod(15, 2)"
   ]
  },
  {
   "cell_type": "code",
   "execution_count": 3,
   "id": "608f0ce6-6f55-409f-8444-dc672f4a7a7f",
   "metadata": {},
   "outputs": [
    {
     "data": {
      "text/plain": [
       "7"
      ]
     },
     "execution_count": 3,
     "metadata": {},
     "output_type": "execute_result"
    }
   ],
   "source": [
    "result[0]"
   ]
  },
  {
   "cell_type": "code",
   "execution_count": 4,
   "id": "f06453ee-fe93-47b5-a99c-997d738b9237",
   "metadata": {},
   "outputs": [
    {
     "data": {
      "text/plain": [
       "1"
      ]
     },
     "execution_count": 4,
     "metadata": {},
     "output_type": "execute_result"
    }
   ],
   "source": [
    "result[1]"
   ]
  },
  {
   "cell_type": "markdown",
   "id": "37990c24-3cd3-4a30-a0af-674fe4bd3da6",
   "metadata": {},
   "source": [
    "Using `namedtuple` can improve readability. Instead of a tuple where items can be accessed only by position, we will get an enhanced tuple that also has the items accessible as attributes:"
   ]
  },
  {
   "cell_type": "code",
   "execution_count": 5,
   "id": "347bb123-505e-49f5-bcee-6b030bfd1afe",
   "metadata": {},
   "outputs": [],
   "source": [
    "from collections import namedtuple\n",
    "\n",
    "DivMod = namedtuple(\"DivMod\", [\"quotient\", \"remainder\"])\n",
    "result = DivMod(*result)"
   ]
  },
  {
   "cell_type": "code",
   "execution_count": 6,
   "id": "8099ba3f-6b80-4aab-8738-bc3200ca3eb5",
   "metadata": {},
   "outputs": [
    {
     "data": {
      "text/plain": [
       "DivMod(quotient=7, remainder=1)"
      ]
     },
     "execution_count": 6,
     "metadata": {},
     "output_type": "execute_result"
    }
   ],
   "source": [
    "result"
   ]
  },
  {
   "cell_type": "code",
   "execution_count": 7,
   "id": "fad2d22d-cbf8-43dc-9e63-94c19cf28030",
   "metadata": {},
   "outputs": [
    {
     "data": {
      "text/plain": [
       "7"
      ]
     },
     "execution_count": 7,
     "metadata": {},
     "output_type": "execute_result"
    }
   ],
   "source": [
    "result.quotient"
   ]
  },
  {
   "cell_type": "code",
   "execution_count": 8,
   "id": "3500af02-f8bf-4f80-8798-ad915d0ec89c",
   "metadata": {},
   "outputs": [
    {
     "data": {
      "text/plain": [
       "1"
      ]
     },
     "execution_count": 8,
     "metadata": {},
     "output_type": "execute_result"
    }
   ],
   "source": [
    "result.remainder"
   ]
  },
  {
   "cell_type": "markdown",
   "id": "028fc4c6-1225-446f-9097-986e59096765",
   "metadata": {},
   "source": [
    "#### Creating a namedtuple:\n",
    "\n",
    "```python\n",
    "   TupleSubclass = namedtuple(typename, field_names)\n",
    "```\n",
    "   \n",
    "- `typename` is the name of the new class you're creating.\n",
    "- `field_names` is the list of field names you’ll use to access the items in the resulting tuple. It can be:\n",
    "    - An iterable of strings, such as `[\"field1\", \"field2\", ..., \"fieldN\"]`\n",
    "    - A string with whitespace-separated field names, such as `\"field1 field2 ... fieldN\"`\n",
    "    - A string with comma-separated field names, such as `\"field1, field2, ..., fieldN\"`"
   ]
  },
  {
   "cell_type": "code",
   "execution_count": 9,
   "id": "a8320924-1218-4a4b-8e8f-20dc96fa2516",
   "metadata": {},
   "outputs": [],
   "source": [
    "Point = namedtuple(\"Point\", \"x y\")"
   ]
  },
  {
   "cell_type": "markdown",
   "id": "71747783-9b86-45af-9f35-d3f5cc7a051e",
   "metadata": {},
   "source": [
    "#### Creating an instance:\n",
    "`Point` is now a new class; it must receive values for `field_names` at instantiation:"
   ]
  },
  {
   "cell_type": "code",
   "execution_count": 10,
   "id": "29402cfa-0237-48db-b083-3e782e291d47",
   "metadata": {},
   "outputs": [],
   "source": [
    "p = Point(11, 22)"
   ]
  },
  {
   "cell_type": "markdown",
   "id": "c31c3823-8496-468c-9e46-ede2a0d6143c",
   "metadata": {},
   "source": [
    "#### Accessing Elements:\n",
    "- Using field names:"
   ]
  },
  {
   "cell_type": "code",
   "execution_count": 11,
   "id": "2f27ce0d-349c-4462-b003-9daaca411425",
   "metadata": {},
   "outputs": [
    {
     "data": {
      "text/plain": [
       "11"
      ]
     },
     "execution_count": 11,
     "metadata": {},
     "output_type": "execute_result"
    }
   ],
   "source": [
    "p.x"
   ]
  },
  {
   "cell_type": "code",
   "execution_count": 12,
   "id": "69720948-1017-471f-88c3-0170322cd47a",
   "metadata": {},
   "outputs": [
    {
     "data": {
      "text/plain": [
       "22"
      ]
     },
     "execution_count": 12,
     "metadata": {},
     "output_type": "execute_result"
    }
   ],
   "source": [
    "p.y"
   ]
  },
  {
   "cell_type": "markdown",
   "id": "a1e108ea-f75d-4ba2-ba6f-78bf9da9afec",
   "metadata": {},
   "source": [
    "- Using indices (like a regular tuple):"
   ]
  },
  {
   "cell_type": "code",
   "execution_count": 13,
   "id": "7623048b-7483-4ea0-aefb-3f14c0c4ef3b",
   "metadata": {},
   "outputs": [
    {
     "data": {
      "text/plain": [
       "11"
      ]
     },
     "execution_count": 13,
     "metadata": {},
     "output_type": "execute_result"
    }
   ],
   "source": [
    "p[0]"
   ]
  },
  {
   "cell_type": "code",
   "execution_count": 14,
   "id": "164b41a3-e04f-4518-836e-d110722aaba1",
   "metadata": {},
   "outputs": [
    {
     "data": {
      "text/plain": [
       "22"
      ]
     },
     "execution_count": 14,
     "metadata": {},
     "output_type": "execute_result"
    }
   ],
   "source": [
    "p[1]"
   ]
  },
  {
   "cell_type": "markdown",
   "id": "6a18681c-d546-443f-991a-aa096d38eace",
   "metadata": {},
   "source": [
    "#### Additional Methods and Attributes\n",
    "\n",
    "In addition to the methods inherited from tuples, named tuples support additional methods and two attributes. To prevent conflicts with field names, the method and attribute names start with an underscore.\n",
    "\n",
    "- **_fields**: A tuple containing the field names."
   ]
  },
  {
   "cell_type": "code",
   "execution_count": 15,
   "id": "5a223270-2bed-427c-9514-2e76e9f1ec3d",
   "metadata": {},
   "outputs": [
    {
     "data": {
      "text/plain": [
       "('x', 'y')"
      ]
     },
     "execution_count": 15,
     "metadata": {},
     "output_type": "execute_result"
    }
   ],
   "source": [
    "p._fields"
   ]
  },
  {
   "cell_type": "markdown",
   "id": "f8f39042-e8aa-459c-8c44-8bdbc50b6735",
   "metadata": {},
   "source": [
    "- **_asdict()**: A method that returns a `dict` representation of the namedtuple."
   ]
  },
  {
   "cell_type": "code",
   "execution_count": 16,
   "id": "1f36513a-dc8c-4c61-b156-4a12cc44fd96",
   "metadata": {},
   "outputs": [
    {
     "data": {
      "text/plain": [
       "{'x': 11, 'y': 22}"
      ]
     },
     "execution_count": 16,
     "metadata": {},
     "output_type": "execute_result"
    }
   ],
   "source": [
    "p._asdict()"
   ]
  },
  {
   "cell_type": "markdown",
   "id": "7b707932-6320-443b-97ac-9f4b656c8c29",
   "metadata": {},
   "source": [
    "- **_replace()**: A method to create a new instance with some fields replaced."
   ]
  },
  {
   "cell_type": "code",
   "execution_count": 17,
   "id": "17b3357a-ea3a-48ce-b742-671a15dd1ba1",
   "metadata": {},
   "outputs": [],
   "source": [
    "p2 = p._replace(x=33)"
   ]
  },
  {
   "cell_type": "code",
   "execution_count": 18,
   "id": "d88fcc10-3caf-433e-91f8-dadfcee82cfd",
   "metadata": {},
   "outputs": [
    {
     "data": {
      "text/plain": [
       "Point(x=33, y=22)"
      ]
     },
     "execution_count": 18,
     "metadata": {},
     "output_type": "execute_result"
    }
   ],
   "source": [
    "p2"
   ]
  },
  {
   "cell_type": "markdown",
   "id": "a8334048-2ec4-4336-b1f8-7f6623043c3e",
   "metadata": {},
   "source": [
    "- **_make()**: A class method to create a new instance from an iterable."
   ]
  },
  {
   "cell_type": "code",
   "execution_count": 19,
   "id": "454603d3-f8a8-44f6-aa52-f752ad739c86",
   "metadata": {},
   "outputs": [],
   "source": [
    "p3 = Point._make([44, 55])"
   ]
  },
  {
   "cell_type": "code",
   "execution_count": 20,
   "id": "990ceedb-a190-41d5-b290-12bd5e21f530",
   "metadata": {},
   "outputs": [
    {
     "data": {
      "text/plain": [
       "Point(x=44, y=55)"
      ]
     },
     "execution_count": 20,
     "metadata": {},
     "output_type": "execute_result"
    }
   ],
   "source": [
    "p3"
   ]
  },
  {
   "cell_type": "markdown",
   "id": "096462c8-d89a-4b51-9475-16b5347b1daa",
   "metadata": {},
   "source": [
    "### Use Cases:\n",
    "- **Data Storage**: When you need a simple class for storing data without behavior (methods).\n",
    "- **Readability**: When you want to make tuples more readable by using field names instead of indices.\n",
    "- **Lightweight**: When you need a lightweight object type for data encapsulation.\n",
    "\n",
    "### Exercises 1\n",
    "\n",
    "1. Create a namedtuple `Book` with the following fields: title, author, genre, pages, publisher. Create a `Book` object and try out some of the `namedtuple` operations presented above on it.\n",
    "2. Use the namedtuple to read rows from [books.csv](./books.csv) into `Book` records. Iterate on all books and display the name and author of books in *computer_science* genre.\n",
    "\n",
    "## 2. `deque`  - building queues and stacks\n",
    "\n",
    "Deques are a generalization of stacks and queues (the name is pronounced “deck” and is short for “double-ended queue”). \n",
    "\n",
    "In Python, insert and pop operations on the beginning or left side of `list` objects are inefficient, with _O(n)_ time complexity. These operations are especially expensive if you’re working with large lists because Python has to move all the items to the right to insert new items at the beginning of the list.\n",
    "\n",
    "On the other hand, append and pop operations on the right side of a list are normally efficient (_O(1)_) except for those cases in which Python needs to reallocate memory to grow the underlying list for accepting new items.\n",
    "\n",
    "Python’s `deque` was created to overcome this problem. Append and pop operations on both sides of a `deque` object are stable and equally efficient because deques are implemented as a doubly linked list. That’s why deques are particularly useful for creating stacks and queues.\n",
    "\n",
    "### Key Features:\n",
    "1. **Double-Ended**: Elements can be added or removed from both the front and the rear of the deque.\n",
    "2. **Optimized Performance**: O(1) time complexity for append and pop operations at both ends.\n",
    "3. **Thread-Safe**: Supports thread-safe, memory-efficient appends and pops from both ends without the need for locks.\n",
    "\n",
    "### Creating a deque\n",
    "\n",
    "```python\n",
    "deque(iterable=None, maxlen=None)\n",
    "```\n",
    "\n",
    "- `iterable` holds an iterable that serves as an initializer.\n",
    "- `maxlen` holds an integer number that specifies the maximum length of the deque."
   ]
  },
  {
   "cell_type": "code",
   "execution_count": 21,
   "id": "5b71f18b-b978-4393-ac6e-ba2a36851dfe",
   "metadata": {},
   "outputs": [],
   "source": [
    "from collections import deque\n",
    "d = deque()  # empty deque"
   ]
  },
  {
   "cell_type": "code",
   "execution_count": 22,
   "id": "be183121-b864-4a65-a40b-61fb5375233d",
   "metadata": {},
   "outputs": [],
   "source": [
    "d = deque([1, 2, 3])  # initialize deque from iterable"
   ]
  },
  {
   "cell_type": "markdown",
   "id": "0eae9f95-5fb8-428c-bf6c-9759b784e02a",
   "metadata": {},
   "source": [
    "### Operations:\n",
    "1. **Appending Elements**:\n",
    "   - `append(x)`: Adds `x` to the right end."
   ]
  },
  {
   "cell_type": "code",
   "execution_count": 23,
   "id": "e59e641c-ec92-44d3-9c5e-b66621f2d852",
   "metadata": {},
   "outputs": [
    {
     "data": {
      "text/plain": [
       "deque([1, 2, 3, 4])"
      ]
     },
     "execution_count": 23,
     "metadata": {},
     "output_type": "execute_result"
    }
   ],
   "source": [
    "d.append(4)\n",
    "d"
   ]
  },
  {
   "cell_type": "markdown",
   "id": "8576ca3c-ecda-445c-a8e6-c4244c51bed3",
   "metadata": {},
   "source": [
    "   - `appendleft(x)`: Adds `x` to the left end."
   ]
  },
  {
   "cell_type": "code",
   "execution_count": 24,
   "id": "3b5e526f-2ede-4bae-b145-ab7768359549",
   "metadata": {},
   "outputs": [
    {
     "data": {
      "text/plain": [
       "deque([0, 1, 2, 3, 4])"
      ]
     },
     "execution_count": 24,
     "metadata": {},
     "output_type": "execute_result"
    }
   ],
   "source": [
    "d.appendleft(0)\n",
    "d"
   ]
  },
  {
   "cell_type": "markdown",
   "id": "cde21c6e-7c3e-4d33-aeaa-3ceb4bcc59a0",
   "metadata": {},
   "source": [
    "2. **Popping Elements**:\n",
    "- `pop()`: Removes and returns the rightmost element."
   ]
  },
  {
   "cell_type": "code",
   "execution_count": 25,
   "id": "5c0cb4e7-eda7-427d-bf9f-2798bc27951e",
   "metadata": {},
   "outputs": [
    {
     "data": {
      "text/plain": [
       "4"
      ]
     },
     "execution_count": 25,
     "metadata": {},
     "output_type": "execute_result"
    }
   ],
   "source": [
    "d.pop()"
   ]
  },
  {
   "cell_type": "code",
   "execution_count": 26,
   "id": "666a1e22-c881-4fba-83cf-3238ac18229f",
   "metadata": {},
   "outputs": [
    {
     "data": {
      "text/plain": [
       "deque([0, 1, 2, 3])"
      ]
     },
     "execution_count": 26,
     "metadata": {},
     "output_type": "execute_result"
    }
   ],
   "source": [
    "d"
   ]
  },
  {
   "cell_type": "markdown",
   "id": "b39d1fef-544e-4c06-b763-131c9d04c633",
   "metadata": {},
   "source": [
    "   - `popleft()`: Removes and returns the leftmost element.\n"
   ]
  },
  {
   "cell_type": "code",
   "execution_count": 27,
   "id": "adeaa3eb-e61b-42b1-8dce-596cdb7bc446",
   "metadata": {},
   "outputs": [
    {
     "data": {
      "text/plain": [
       "0"
      ]
     },
     "execution_count": 27,
     "metadata": {},
     "output_type": "execute_result"
    }
   ],
   "source": [
    "d.popleft()"
   ]
  },
  {
   "cell_type": "code",
   "execution_count": 28,
   "id": "0c302ee0-7d63-4962-ba71-e954cd141631",
   "metadata": {},
   "outputs": [
    {
     "data": {
      "text/plain": [
       "deque([1, 2, 3])"
      ]
     },
     "execution_count": 28,
     "metadata": {},
     "output_type": "execute_result"
    }
   ],
   "source": [
    "d"
   ]
  },
  {
   "cell_type": "markdown",
   "id": "1aba64ef-2513-4634-9677-c09ea3c9e20a",
   "metadata": {},
   "source": [
    "3. **Extending Deques**:\n",
    "- `extend(iterable)`: Extends the right end by appending elements from the iterable."
   ]
  },
  {
   "cell_type": "code",
   "execution_count": 29,
   "id": "d99df8f2-634d-4bd4-9888-eef8b92fd0a9",
   "metadata": {},
   "outputs": [],
   "source": [
    "d.extend([4, 5, 6])"
   ]
  },
  {
   "cell_type": "markdown",
   "id": "dee157fc-8fc3-4529-9ef7-656bf7c8d3ce",
   "metadata": {},
   "source": [
    "   - `extendleft(iterable)`: Extends the left end by appending elements from the iterable (note: elements are added in reverse order)."
   ]
  },
  {
   "cell_type": "code",
   "execution_count": 30,
   "id": "45d426b4-02bb-412a-9423-7b84ba42dee2",
   "metadata": {},
   "outputs": [
    {
     "data": {
      "text/plain": [
       "deque([-2, -1, 0, 1, 2, 3, 4, 5, 6])"
      ]
     },
     "execution_count": 30,
     "metadata": {},
     "output_type": "execute_result"
    }
   ],
   "source": [
    "d.extendleft([0, -1, -2])\n",
    "d"
   ]
  },
  {
   "cell_type": "markdown",
   "id": "58b7c2c1-734d-44ad-93d1-ef893526699d",
   "metadata": {},
   "source": [
    "4. **Other Useful Methods**:\n",
    "- `clear()`: Removes all elements from the deque."
   ]
  },
  {
   "cell_type": "code",
   "execution_count": 31,
   "id": "decbc5c4-f180-4549-af2a-bb9d46b279ef",
   "metadata": {},
   "outputs": [
    {
     "data": {
      "text/plain": [
       "deque([])"
      ]
     },
     "execution_count": 31,
     "metadata": {},
     "output_type": "execute_result"
    }
   ],
   "source": [
    "d.clear()\n",
    "d"
   ]
  },
  {
   "cell_type": "markdown",
   "id": "42422386-1115-4771-b1a3-2055deb096d9",
   "metadata": {},
   "source": [
    "   - `rotate(n)`: Rotates the deque `n` steps to the right (if `n` is negative, to the left)."
   ]
  },
  {
   "cell_type": "code",
   "execution_count": 32,
   "id": "bd432c8a-c052-4734-8315-a749bf3c370b",
   "metadata": {},
   "outputs": [
    {
     "data": {
      "text/plain": [
       "deque([4, 5, 1, 2, 3])"
      ]
     },
     "execution_count": 32,
     "metadata": {},
     "output_type": "execute_result"
    }
   ],
   "source": [
    "d = deque([1, 2, 3, 4, 5])\n",
    "d.rotate(2)\n",
    "d"
   ]
  },
  {
   "cell_type": "markdown",
   "id": "cd1e2bac-740e-43ad-b9aa-47e3886c6d4c",
   "metadata": {},
   "source": [
    "   - `reverse()`: Reverses the elements of the deque in place."
   ]
  },
  {
   "cell_type": "code",
   "execution_count": 33,
   "id": "b331d4b9-6f31-473c-9372-a50ad27dd355",
   "metadata": {},
   "outputs": [
    {
     "data": {
      "text/plain": [
       "deque([3, 2, 1, 5, 4])"
      ]
     },
     "execution_count": 33,
     "metadata": {},
     "output_type": "execute_result"
    }
   ],
   "source": [
    "d.reverse()\n",
    "d"
   ]
  },
  {
   "cell_type": "markdown",
   "id": "3d0ff9e7-5f52-4bcb-ab8f-915cc80a5333",
   "metadata": {},
   "source": [
    "5. **Accessing Elements**:\n",
    "- Similar to lists, you can access elements using indexing."
   ]
  },
  {
   "cell_type": "code",
   "execution_count": 34,
   "id": "c98af976-de72-45b1-bf16-d67523a5d7de",
   "metadata": {},
   "outputs": [
    {
     "data": {
      "text/plain": [
       "3"
      ]
     },
     "execution_count": 34,
     "metadata": {},
     "output_type": "execute_result"
    }
   ],
   "source": [
    "d[0]"
   ]
  },
  {
   "cell_type": "code",
   "execution_count": 35,
   "id": "ae72ceb9-7f57-4d55-b644-46d9f5df452f",
   "metadata": {},
   "outputs": [
    {
     "data": {
      "text/plain": [
       "4"
      ]
     },
     "execution_count": 35,
     "metadata": {},
     "output_type": "execute_result"
    }
   ],
   "source": [
    "d[-1]"
   ]
  },
  {
   "cell_type": "markdown",
   "id": "9f0bce25-3fe1-4736-adce-16dec5d69f38",
   "metadata": {},
   "source": [
    "### Use Cases:\n",
    "- **Queue Implementation**: `deque` is ideal for implementing queues with efficient append and pop operations from both ends.\n",
    "- **Stack Implementation**: Can be used as a stack with `append` and `pop` methods.\n",
    "- **Sliding Window**: Useful for maintaining a sliding window of elements for algorithms requiring a fixed-size buffer.\n",
    "- **Breadth-First Search (BFS)**: Often used in BFS implementations where elements need to be added and removed from both ends.\n",
    "\n",
    "### Exercises 2\n",
    "\n",
    "1. Use `deque` to implement a simple queue for a movie theater. Run the following changes and print the queue after each of them:\n",
    "    - Add customers to the queue in the order they arrive: Alice, Bob, and Charlie. \n",
    "    - Alice can't decide which movie she wants to see, so the clerk sends her back to the end of the queue. \n",
    "    - Bob buys his ticket and leaves the queue.\n",
    "    - Another customer, David, joins the queue.\n",
    "2. Write a generator function that receives two required parameters: an iterable of integers and an integer `size`. The function should yield the maximum value in each sliding window of size `size` in the iterable. E.g. for `iterable = [3, 6, 8, 2, 6, 2, 3, 5, 7], size=3` should yield `8, 8, 8, 6, 6, 5, 7`.\n",
    "\n",
    "## 3. `defaultdict` - handling missing keys\n",
    "\n",
    "`defaultdict` is a subclass of built-in `dict` class. It is part of the `collections` module and provides all the standard dictionary methods but also includes a default factory function to supply default values for missing keys. This feature simplifies the handling of missing keys and avoids key errors.\n",
    "\n",
    "### Key Features:\n",
    "1. **Default Factory**: The `defaultdict` constructor accepts a function (`default_factory`) that provides default values for missing keys.\n",
    "2. **Automatic Initialization**: When you access or assign a value to a missing key, `defaultdict` automatically initializes the key with a value returned by the `default_factory`.\n",
    "3. **Ease of Use**: Reduces the need for explicit checks for key existence, making the code cleaner and more readable.\n",
    "\n",
    "### Creating a default dict:\n",
    "```python\n",
    "d = defaultdict(default_factory)\n",
    "```\n",
    "\n",
    "- `default_factory` is a callable object (can be a function or a class) which is called without arguments to provide values for missing keys.\n",
    "\n",
    "### Example Usage:\n",
    "1. **Creating a defaultdict with int as the default factory**:"
   ]
  },
  {
   "cell_type": "code",
   "execution_count": 36,
   "id": "7eb5d97c-2759-43c2-9c23-4a620c72cee6",
   "metadata": {},
   "outputs": [],
   "source": [
    "from collections import defaultdict\n",
    "d = defaultdict(int)"
   ]
  },
  {
   "cell_type": "code",
   "execution_count": 37,
   "id": "fcaae59d-dcbe-4f13-a67e-5c271697ccbe",
   "metadata": {},
   "outputs": [
    {
     "data": {
      "text/plain": [
       "0"
      ]
     },
     "execution_count": 37,
     "metadata": {},
     "output_type": "execute_result"
    }
   ],
   "source": [
    "d[\"a\"]  # Accessing a missing key"
   ]
  },
  {
   "cell_type": "code",
   "execution_count": 38,
   "id": "4121debc-47ee-4a5d-8d36-7cdcd9b5b85a",
   "metadata": {},
   "outputs": [],
   "source": [
    "d[\"a\"] += 1"
   ]
  },
  {
   "cell_type": "code",
   "execution_count": 39,
   "id": "97869dd4-c10e-464c-888d-ee037caa5022",
   "metadata": {},
   "outputs": [
    {
     "data": {
      "text/plain": [
       "1"
      ]
     },
     "execution_count": 39,
     "metadata": {},
     "output_type": "execute_result"
    }
   ],
   "source": [
    "d[\"a\"]"
   ]
  },
  {
   "cell_type": "markdown",
   "id": "d0504a20-054a-4c01-9d48-3fc322d627ca",
   "metadata": {},
   "source": [
    "2. **Using a lambda function as the default factory**:"
   ]
  },
  {
   "cell_type": "code",
   "execution_count": 40,
   "id": "9fb037cb-c308-4768-a0ce-063cba39573b",
   "metadata": {},
   "outputs": [],
   "source": [
    "d = defaultdict(lambda: [0, 0, 0])"
   ]
  },
  {
   "cell_type": "code",
   "execution_count": 41,
   "id": "fd22e692-42b3-49ec-baeb-e02ba727a1b9",
   "metadata": {},
   "outputs": [
    {
     "data": {
      "text/plain": [
       "[0, 0, 0]"
      ]
     },
     "execution_count": 41,
     "metadata": {},
     "output_type": "execute_result"
    }
   ],
   "source": [
    "d[\"a\"]"
   ]
  },
  {
   "cell_type": "code",
   "execution_count": 42,
   "id": "94ed33e0-a8f1-4429-b54b-aec67770c50a",
   "metadata": {},
   "outputs": [],
   "source": [
    "d[\"a\"][1] = 5"
   ]
  },
  {
   "cell_type": "code",
   "execution_count": 43,
   "id": "61c11ec1-39af-4851-a5e1-7ed7ecef596e",
   "metadata": {},
   "outputs": [
    {
     "data": {
      "text/plain": [
       "[0, 5, 0]"
      ]
     },
     "execution_count": 43,
     "metadata": {},
     "output_type": "execute_result"
    }
   ],
   "source": [
    "d[\"a\"]"
   ]
  },
  {
   "cell_type": "markdown",
   "id": "19759b0e-03d4-4c4b-9576-848172633e6b",
   "metadata": {},
   "source": [
    "### Exercises 3\n",
    "\n",
    "1. Given a list of `(student, grade)` tuples, group the students by their grades. E.g. `students = [(\"Alice\", 9), (\"Charlie\", 7), (\"Jane\", 9), (\"David\", 10), (\"Eve\", 10)]` should return `{9: [\"Alice\", \"Jane\"], 7: [\"Charlie], 10: [\"David\", \"Eve\"]}`\n",
    "2. Given a list of `(product, category, price)` tuples, compute totals per category. E.g.\n",
    "```python\n",
    "items = [\n",
    "    (\"bread\", \"food\", 2),\n",
    "    (\"milk\", \"food\", 1.5),\n",
    "    (\"chair\", \"furniture\", 45),\n",
    "    (\"charger\", \"electronics\", 50),\n",
    "    (\"eggs\", \"food\", 3.8),\n",
    "    (\"desk\", \"furniture\", 180),\n",
    "]\n",
    "```\n",
    "\n",
    "## 4. `Counter` - counting objects\n",
    "\n",
    "A `Counter` is a `dict` subclass for counting hashable objects. It is a collection where elements are stored as dictionary keys and their counts are stored as dictionary values. Counts are allowed to be any integer value including zero or negative counts. The `Counter` class is similar to bags or multisets in other languages.\n",
    "\n",
    "### Key Features:\n",
    "1. **Element Counting**: Easily count the occurrences of each element in an iterable.\n",
    "2. **Dictionary-Like Structure**: Elements are stored as dictionary keys, and their counts are stored as dictionary values.\n",
    "3. **Methods for Arithmetic Operations**: Support for addition, subtraction, intersection, and union of counters.\n",
    "4. **Common Elements**: Methods to find the most common elements.\n",
    "\n",
    "#### Creating a `Counter`\n",
    "\n",
    "```python\n",
    "c = Counter(iterable_or_mapping)\n",
    "```"
   ]
  },
  {
   "cell_type": "code",
   "execution_count": 2,
   "id": "8d33871d-33af-4dff-be3f-a36a2962e517",
   "metadata": {},
   "outputs": [],
   "source": [
    "from collections import Counter\n",
    "c = Counter(\"hello world\")"
   ]
  },
  {
   "cell_type": "code",
   "execution_count": 3,
   "id": "6f2c3abc-7754-4f6f-9559-d0a4291315e3",
   "metadata": {},
   "outputs": [
    {
     "data": {
      "text/plain": [
       "Counter({'l': 3, 'o': 2, 'h': 1, 'e': 1, ' ': 1, 'w': 1, 'r': 1, 'd': 1})"
      ]
     },
     "execution_count": 3,
     "metadata": {},
     "output_type": "execute_result"
    }
   ],
   "source": [
    "c"
   ]
  },
  {
   "cell_type": "markdown",
   "id": "abc1364c-4009-44b9-b70a-8300ce493f08",
   "metadata": {},
   "source": [
    "Besides `dict` operations, `Counter` objects support some extra methods and operators:\n",
    "\n",
    "- **`most_common(n)`** - return a list of the n most common elements and their counts from the most common to the least."
   ]
  },
  {
   "cell_type": "code",
   "execution_count": 4,
   "id": "55d93997-871b-435f-b079-11089bb4afcb",
   "metadata": {},
   "outputs": [
    {
     "data": {
      "text/plain": [
       "[('l', 3), ('o', 2), ('h', 1)]"
      ]
     },
     "execution_count": 4,
     "metadata": {},
     "output_type": "execute_result"
    }
   ],
   "source": [
    "c.most_common(3)"
   ]
  },
  {
   "cell_type": "markdown",
   "id": "06cc2f8d-0da3-4cb1-b168-9359a335f526",
   "metadata": {},
   "source": [
    "- **`total()`** - Compute the sum of the counts."
   ]
  },
  {
   "cell_type": "code",
   "execution_count": 5,
   "id": "e3e0c1c0-f5f8-40db-8f97-b4e8e7f96bfa",
   "metadata": {},
   "outputs": [
    {
     "data": {
      "text/plain": [
       "11"
      ]
     },
     "execution_count": 5,
     "metadata": {},
     "output_type": "execute_result"
    }
   ],
   "source": [
    "c.total()"
   ]
  },
  {
   "cell_type": "markdown",
   "id": "87f5e0d3-e5a7-44a5-9b34-4fd4ad8397ac",
   "metadata": {},
   "source": [
    "- **Arithmetic Operations**:"
   ]
  },
  {
   "cell_type": "code",
   "execution_count": 6,
   "id": "61568d4a-4d7b-4c05-a3d7-ea30f4715b39",
   "metadata": {},
   "outputs": [],
   "source": [
    "counter1 = Counter(\"hello\")\n",
    "counter2 = Counter(\"wooorld\")"
   ]
  },
  {
   "cell_type": "code",
   "execution_count": 7,
   "id": "ca79fb7c-0fce-4d45-b364-49ba34e1d669",
   "metadata": {},
   "outputs": [
    {
     "data": {
      "text/plain": [
       "Counter({'o': 4, 'l': 3, 'h': 1, 'e': 1, 'w': 1, 'r': 1, 'd': 1})"
      ]
     },
     "execution_count": 7,
     "metadata": {},
     "output_type": "execute_result"
    }
   ],
   "source": [
    "counter1 + counter2  # Addition\n"
   ]
  },
  {
   "cell_type": "code",
   "execution_count": 8,
   "id": "0dae1fea-f944-4987-9454-4bbd7cb8b751",
   "metadata": {},
   "outputs": [
    {
     "data": {
      "text/plain": [
       "Counter({'h': 1, 'e': 1, 'l': 1})"
      ]
     },
     "execution_count": 8,
     "metadata": {},
     "output_type": "execute_result"
    }
   ],
   "source": [
    "counter1 - counter2  # Subtraction\n"
   ]
  },
  {
   "cell_type": "code",
   "execution_count": 9,
   "id": "39c11ef7-89ea-47b3-93f4-30ea49995fc6",
   "metadata": {},
   "outputs": [
    {
     "data": {
      "text/plain": [
       "Counter({'l': 1, 'o': 1})"
      ]
     },
     "execution_count": 9,
     "metadata": {},
     "output_type": "execute_result"
    }
   ],
   "source": [
    "counter1 & counter2  # Intersection\n"
   ]
  },
  {
   "cell_type": "code",
   "execution_count": 10,
   "id": "884cd4d4-2e14-45e4-9abc-f31de3f56f40",
   "metadata": {},
   "outputs": [
    {
     "data": {
      "text/plain": [
       "Counter({'o': 3, 'l': 2, 'h': 1, 'e': 1, 'w': 1, 'r': 1, 'd': 1})"
      ]
     },
     "execution_count": 10,
     "metadata": {},
     "output_type": "execute_result"
    }
   ],
   "source": [
    "counter1 | counter2  # Union"
   ]
  },
  {
   "cell_type": "markdown",
   "id": "43453814-1ad3-4aa1-b167-d76a6380617b",
   "metadata": {},
   "source": [
    "### Exercises 4\n",
    "1. Use a Counter to count the frequency of each word in a sentence.\n",
    "\n",
    "## 5. `OrderedDict` - keeping dictionaries ordered\n",
    "\n",
    "`OrderedDict` is a `dict` subclass that has methods specialized for rearranging dictionary order.\n",
    "\n",
    "Sometimes you need your dictionaries to remember the order in which key-value pairs are inserted. Python’s regular dictionaries were unordered data structures for years. In the meantime (since Python 3.7) dictionaries keep their items in the same order they’re first inserted.\n",
    "\n",
    "There are some features of OrderedDict that still make it valuable:\n",
    "\n",
    "- **Intent communication**: With `OrderedDict`, your code will make it clear that the order of items in the dictionary is important. You’re clearly communicating that your code needs or relies on the order of items in the underlying dictionary.\n",
    "- **Control over the order of items**: With `OrderedDict`, you have access to `.move_to_end(),` which is a method that allows you to manipulate the order of items in your dictionary. You’ll also have an enhanced variation of `.popitem()` that allows removing items from either end of the underlying dictionary.\n",
    "- **Equality test behavior**: With `OrderedDict`, equality tests between dictionaries take the order of items into account. So, if you have two ordered dictionaries with the same group of items but in a different order, then your dictionaries will be considered non-equal."
   ]
  },
  {
   "cell_type": "code",
   "execution_count": 53,
   "id": "60ef2a6f-d38c-4e0f-b38b-9831565d6db9",
   "metadata": {},
   "outputs": [],
   "source": [
    "from collections import OrderedDict\n",
    "d = OrderedDict.fromkeys('abcde')"
   ]
  },
  {
   "cell_type": "code",
   "execution_count": 54,
   "id": "371ea2d7-91a7-447a-a602-9b6bcb18b10a",
   "metadata": {},
   "outputs": [
    {
     "data": {
      "text/plain": [
       "OrderedDict([('a', None), ('b', None), ('c', None), ('d', None), ('e', None)])"
      ]
     },
     "execution_count": 54,
     "metadata": {},
     "output_type": "execute_result"
    }
   ],
   "source": [
    "d"
   ]
  },
  {
   "cell_type": "code",
   "execution_count": 55,
   "id": "53b641f2-f699-485b-8dee-c70597a51f79",
   "metadata": {},
   "outputs": [],
   "source": [
    "d.move_to_end('b')"
   ]
  },
  {
   "cell_type": "code",
   "execution_count": 56,
   "id": "09b53c67-a4ac-4556-9796-de313b7038d7",
   "metadata": {},
   "outputs": [
    {
     "data": {
      "text/plain": [
       "OrderedDict([('a', None), ('c', None), ('d', None), ('e', None), ('b', None)])"
      ]
     },
     "execution_count": 56,
     "metadata": {},
     "output_type": "execute_result"
    }
   ],
   "source": [
    "d"
   ]
  },
  {
   "cell_type": "code",
   "execution_count": 57,
   "id": "ae0b30b1-8652-4485-a584-3cb59d19ea25",
   "metadata": {},
   "outputs": [],
   "source": [
    "d.move_to_end('b', last=False)"
   ]
  },
  {
   "cell_type": "code",
   "execution_count": 58,
   "id": "d282b84d-b9d5-46e7-8ada-178bd9427b24",
   "metadata": {},
   "outputs": [
    {
     "data": {
      "text/plain": [
       "OrderedDict([('b', None), ('a', None), ('c', None), ('d', None), ('e', None)])"
      ]
     },
     "execution_count": 58,
     "metadata": {},
     "output_type": "execute_result"
    }
   ],
   "source": [
    "d"
   ]
  },
  {
   "cell_type": "code",
   "execution_count": 59,
   "id": "06151f40-0f5e-42b2-81d6-012d1e73447b",
   "metadata": {},
   "outputs": [
    {
     "data": {
      "text/plain": [
       "('e', None)"
      ]
     },
     "execution_count": 59,
     "metadata": {},
     "output_type": "execute_result"
    }
   ],
   "source": [
    "d.popitem()"
   ]
  },
  {
   "cell_type": "code",
   "execution_count": 60,
   "id": "b861e22a-7325-4ac1-8b58-b81910e15b99",
   "metadata": {},
   "outputs": [
    {
     "data": {
      "text/plain": [
       "('b', None)"
      ]
     },
     "execution_count": 60,
     "metadata": {},
     "output_type": "execute_result"
    }
   ],
   "source": [
    "d.popitem(last=False)"
   ]
  },
  {
   "cell_type": "markdown",
   "id": "e45034dd-bafa-4f31-9745-e4d00f745296",
   "metadata": {},
   "source": [
    "### Exercises 5\n",
    "\n",
    "1. Implement a simple Least Recently Used (LRU) cache using `OrderedDict` (most recent items will be at the end).\n",
    "    - Create an `OrderedDict` to act as an LRU cache; consider its maximum size to be 3\n",
    "    - Create a helper function to add an item to the LRU cache:\n",
    "        - if the item is already in the cache, move it to the end of the cache\n",
    "        - update the value for the item\n",
    "        - if maximum size is exceeded, remove oldest item\n",
    "    - Add multiple values to the cache and inspect its value between operations."
   ]
  }
 ],
 "metadata": {
  "kernelspec": {
   "display_name": "Python 3 (ipykernel)",
   "language": "python",
   "name": "python3"
  },
  "language_info": {
   "codemirror_mode": {
    "name": "ipython",
    "version": 3
   },
   "file_extension": ".py",
   "mimetype": "text/x-python",
   "name": "python",
   "nbconvert_exporter": "python",
   "pygments_lexer": "ipython3",
   "version": "3.13.3"
  }
 },
 "nbformat": 4,
 "nbformat_minor": 5
}
