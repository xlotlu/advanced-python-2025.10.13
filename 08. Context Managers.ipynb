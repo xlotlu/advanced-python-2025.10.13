{
 "cells": [
  {
   "cell_type": "markdown",
   "id": "f84e26bf-a135-49ea-b5b7-ec3bff71e0c8",
   "metadata": {},
   "source": [
    "## Context Managers - `with` statement\n",
    "\n",
    "Context managers in Python provide a way to ensure that resources are properly managed, especially when dealing with operations like file I/O, network connections, or locking and unlocking mechanisms. They are most commonly used with the `with` statement, which ensures that the setup and teardown of resources are handled automatically.\n",
    "\n",
    "### Basic Example with a File\n",
    "\n",
    "It is good practice to use the `with` keyword when dealing with file objects. The advantage is that the file is properly closed after its suite finishes, even if an exception is raised at some point. Using `with` is also much shorter than writing equivalent `try-finally` blocks:\n",
    "\n",
    "```python\n",
    "with open('workfile') as f:\n",
    "    read_data = f.read()\n",
    "```\n",
    "\n",
    "The equivalent `try-finally` block of the `with` block above would be:\n",
    "\n",
    "```python\n",
    "f = open('workfile')\n",
    "try:\n",
    "    read_data = f.read()\n",
    "finally:\n",
    "    f.close()\n",
    "```\n",
    "\n",
    "While comparing it to the first example we can see that a lot of boilerplate code is eliminated just by using `with`. The main advantage of using a with statement is that it makes sure our file is closed without paying attention to how the nested block exits. Another advantage is that the file is closed even if an exception is raised while processing it.\n",
    "\n",
    "The `with` statement is used to wrap the execution of a block with methods defined by a context manager. The context manager handles the entry into, and the exit from, the desired runtime context for the execution of the block of code. This is done through the `__enter__` and `__exit__` dunder methods.\n",
    "\n",
    "For file objects:\n",
    "- `__enter__` returns the file object that is captured in the variable following `as`\n",
    "- `__exit__` closes the file"
   ]
  },
  {
   "cell_type": "code",
   "execution_count": 8,
   "id": "168d27d7-fee6-46c4-ad69-e3a3e151dd48",
   "metadata": {},
   "outputs": [
    {
     "name": "stdout",
     "output_type": "stream",
     "text": [
      "hello world\n"
     ]
    }
   ],
   "source": [
    "with open(\"example.txt\", \"r\") as file:\n",
    "    content = file.read()\n",
    "    print(content)"
   ]
  },
  {
   "cell_type": "code",
   "execution_count": 9,
   "id": "4ace0297-e7ba-4ea0-b962-a19eaa5927eb",
   "metadata": {},
   "outputs": [
    {
     "data": {
      "text/plain": [
       "True"
      ]
     },
     "execution_count": 9,
     "metadata": {},
     "output_type": "execute_result"
    }
   ],
   "source": [
    "file.closed  # check if file object is closed after `with` block"
   ]
  },
  {
   "cell_type": "markdown",
   "id": "8ebfe0e1-1747-4e54-90f8-1318921fee90",
   "metadata": {},
   "source": [
    "### Why Use Context Managers?\n",
    "\n",
    "- **Resource Management**: Ensures resources like files or network connections are properly released after use.\n",
    "- **Error Handling**: Handles exceptions and ensures the resource is still cleaned up properly.\n",
    "- **Code Clarity**: Makes the code more readable and concise by abstracting setup and teardown logic.\n",
    "\n",
    "### Custom Context Managers\n",
    "\n",
    "You can also create your own context managers using the `contextlib` module or by defining a class with `__enter__` and `__exit__` methods.\n",
    "\n",
    "#### Example with `contextlib`:"
   ]
  },
  {
   "cell_type": "code",
   "execution_count": 10,
   "id": "f159e832-8927-4647-ae9c-825f794153dc",
   "metadata": {},
   "outputs": [],
   "source": [
    "from contextlib import contextmanager\n",
    "\n",
    "@contextmanager\n",
    "def managed_resource():\n",
    "    print(\"Setup resource\")\n",
    "    try:\n",
    "        yield \"resource\"\n",
    "    finally:\n",
    "        print(\"Teardown resource\")"
   ]
  },
  {
   "cell_type": "code",
   "execution_count": 11,
   "id": "59c0f1fc-45ac-4145-a5f5-906ee79c8bc0",
   "metadata": {},
   "outputs": [
    {
     "name": "stdout",
     "output_type": "stream",
     "text": [
      "Setup resource\n",
      "Using resource\n",
      "resource\n",
      "Teardown resource\n"
     ]
    }
   ],
   "source": [
    "with managed_resource() as r:\n",
    "    print(\"Using resource\")\n",
    "    print(r)"
   ]
  },
  {
   "cell_type": "markdown",
   "id": "09a871c7-9288-4c54-88d5-e0f64afba602",
   "metadata": {},
   "source": [
    "#### Explanation:\n",
    "\n",
    "1. **`@contextmanager`**:\n",
    "   - This is a decorator that simplifies the creation of context managers.\n",
    "\n",
    "2. **`managed_resource` function**:\n",
    "   - The function is defined to manage a resource.\n",
    "   - The code before the `yield` statement is the setup code.\n",
    "   - The code after the `yield` statement is the teardown code.\n",
    "\n",
    "3. **Using the custom context manager**:\n",
    "   - The `with managed_resource()` statement calls the context manager.\n",
    "   - It prints \"Setup resource\" before the `yield` and \"Teardown resource\" after the block inside the `with` statement is executed.\n",
    "   \n",
    "### Example with Class-based Context Manager"
   ]
  },
  {
   "cell_type": "code",
   "execution_count": 12,
   "id": "260b1513-584d-4789-8526-173409951ce8",
   "metadata": {},
   "outputs": [
    {
     "name": "stdout",
     "output_type": "stream",
     "text": [
      "Setup resource\n",
      "Using resource\n",
      "<__main__.ManagedResource object at 0x106ae5160>\n",
      "Teardown resource\n"
     ]
    }
   ],
   "source": [
    "class ManagedResource:\n",
    "    def __enter__(self):\n",
    "        print(\"Setup resource\")\n",
    "        return self\n",
    "\n",
    "    def __exit__(self, exc_type, exc_val, exc_tb):\n",
    "        print(\"Teardown resource\")\n",
    "\n",
    "with ManagedResource() as resource:\n",
    "    print(\"Using resource\")\n",
    "    print(resource)"
   ]
  },
  {
   "cell_type": "markdown",
   "id": "292e4f99-0c74-425a-897d-3b9f6ffd4afb",
   "metadata": {},
   "source": [
    "#### Explanation:\n",
    "\n",
    "1. **`__enter__` method**:\n",
    "   - This method is called when the execution enters the context of the `with` statement.\n",
    "   - It sets up the resource and returns it.\n",
    "\n",
    "2. **`__exit__` method**:\n",
    "   - This method is called when the execution leaves the context of the `with` statement.\n",
    "   - It handles any necessary cleanup of the resource.\n",
    "\n",
    "3. **Using the class-based context manager**:\n",
    "   - The `with ManagedResource() as resource` statement calls the context manager.\n",
    "   - It prints \"Setup resource\" when entering the block and \"Teardown resource\" when exiting the block, ensuring the resource is managed properly.\n",
    "\n",
    "\n",
    "### A more practical example\n",
    "\n",
    "Let's say we want to redirect `stdout` to a file with a context manager: "
   ]
  },
  {
   "cell_type": "code",
   "execution_count": 13,
   "id": "35adeeab-33a7-46a4-9d6f-4fcf3014f346",
   "metadata": {},
   "outputs": [],
   "source": [
    "import sys\n",
    "from contextlib import contextmanager\n",
    "\n",
    "\n",
    "@contextmanager\n",
    "def redirect_stdout(file):\n",
    "    saved_out = sys.stdout\n",
    "    sys.stdout = file\n",
    "    yield\n",
    "    sys.stdout = saved_out"
   ]
  },
  {
   "cell_type": "markdown",
   "id": "a8fb0225-3772-4763-8c22-2db4a535c24b",
   "metadata": {},
   "source": [
    "This context manager takes a file object as parameter. In the setup code, you reassign the standard output, `sys.stdout`, to an instance attribute to avoid losing the reference to it. Then you reassign the standard output to point to the file on your disk. In the teardown code, you just restore the standard output to its original value."
   ]
  },
  {
   "cell_type": "code",
   "execution_count": 14,
   "id": "6eecd2ca-ec8c-4bf2-8b9b-24f6394b9d2c",
   "metadata": {},
   "outputs": [
    {
     "name": "stdout",
     "output_type": "stream",
     "text": [
      "Back to printing to stdout.\n"
     ]
    }
   ],
   "source": [
    "with open(\"out.txt\", \"w\") as f:\n",
    "    with redirect_stdout(f):\n",
    "        print(\"This is going to the file.\")\n",
    "        print(\"This is also going to out.txt.\")\n",
    "    print(\"Back to printing to stdout.\")"
   ]
  },
  {
   "cell_type": "markdown",
   "id": "8378eb0e-0c54-4d82-bafa-064e973373a1",
   "metadata": {},
   "source": [
    "The same example, this time with class-based context manager:"
   ]
  },
  {
   "cell_type": "code",
   "execution_count": 15,
   "id": "9a38a61b-b170-4965-9670-9fd557fa41a2",
   "metadata": {},
   "outputs": [],
   "source": [
    "class RedirectStdout:\n",
    "    def __init__(self, file):\n",
    "        self.file = file\n",
    "\n",
    "    def __enter__(self):\n",
    "        self.saved_out = sys.stdout\n",
    "        sys.stdout = self.file\n",
    "\n",
    "    def __exit__(self, exc_type, exc_val, exc_tb):\n",
    "        sys.stdout = self.saved_out"
   ]
  },
  {
   "cell_type": "code",
   "execution_count": 16,
   "id": "733c0a08-872d-4b99-b863-aaa0668bc65f",
   "metadata": {},
   "outputs": [
    {
     "name": "stdout",
     "output_type": "stream",
     "text": [
      "Back to printing to stdout.\n"
     ]
    }
   ],
   "source": [
    "with open(\"out2.txt\", \"w\") as f:\n",
    "    with RedirectStdout(f):\n",
    "        print(\"This is going to the file.\")\n",
    "    print(\"Back to printing to stdout.\")"
   ]
  },
  {
   "cell_type": "markdown",
   "id": "d79b3383-6bf6-47ce-b783-092b7276b0a1",
   "metadata": {},
   "source": [
    "### Exercises\n",
    "\n",
    "1. Create a context manager to measure the time taken by a block of code. Do it with both methods presented here (function and class based context managers).\n",
    "1. The following code creates a database connection, creates a table and inserts some rows:\n",
    "    ```python\n",
    "    import sqlite3\n",
    "\n",
    "    con = sqlite3.connect(\"tutorial.db\")\n",
    "    cur = con.cursor()\n",
    "    cur.execute(\"CREATE TABLE movie(title, year, score)\")\n",
    "    cur.execute(\"\"\"\n",
    "        INSERT INTO movie VALUES\n",
    "            ('Monty Python and the Holy Grail', 1975, 8.2),\n",
    "            ('And Now for Something Completely Different', 1971, 7.5)\n",
    "    \"\"\")\n",
    "    con.commit()\n",
    "    res = cur.execute(\"SELECT score FROM movie\")\n",
    "    print(res.fetchall())\n",
    "\n",
    "    con.close()\n",
    "    ```\n",
    "\n",
    "    Create a context manager to handle a database connection. The context manager will return the connection object on setup and will close the connection on teardown."
   ]
  }
 ],
 "metadata": {
  "kernelspec": {
   "display_name": "Python 3 (ipykernel)",
   "language": "python",
   "name": "python3"
  },
  "language_info": {
   "codemirror_mode": {
    "name": "ipython",
    "version": 3
   },
   "file_extension": ".py",
   "mimetype": "text/x-python",
   "name": "python",
   "nbconvert_exporter": "python",
   "pygments_lexer": "ipython3",
   "version": "3.13.7"
  }
 },
 "nbformat": 4,
 "nbformat_minor": 5
}
