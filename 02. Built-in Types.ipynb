{
 "cells": [
  {
   "cell_type": "markdown",
   "id": "3ad6f246-49e6-4910-b4f9-7838cf5eac4e",
   "metadata": {},
   "source": [
    "## 1. Everything in Python is an Object\n",
    "\n",
    "One of the most important features of the Python language is that *everything* is an **object**. This concept is pivotal to understanding how Python works and how to write effective Python code. Let's delve into what this means and its implications.\n",
    "\n",
    "#### Objects and Classes\n",
    "\n",
    "In Python, every piece of data is represented as an object, which is an instance of a class. A class serves as a blueprint for creating objects, defining the properties (attributes) and behaviors (methods) that the objects created from the class will have. Even primitive data types like integers and strings are objects derived from their respective classes."
   ]
  },
  {
   "cell_type": "code",
   "execution_count": 1,
   "id": "b678fc8f-e1e9-419f-83d5-8221027cafac",
   "metadata": {},
   "outputs": [],
   "source": [
    "x = 42            # x is an object of the `int` class\n",
    "y = \"Hello\"       # y is an object of the `str` class"
   ]
  },
  {
   "cell_type": "markdown",
   "id": "5f58a3bc-b097-4d95-a5a9-89f76eaa3cf1",
   "metadata": {},
   "source": [
    "In order to get the class of an object we will use the `type` built-in function:"
   ]
  },
  {
   "cell_type": "code",
   "execution_count": 2,
   "id": "e907da80-0e22-4f9b-8dc6-89d3784c339c",
   "metadata": {},
   "outputs": [
    {
     "data": {
      "text/plain": [
       "int"
      ]
     },
     "execution_count": 2,
     "metadata": {},
     "output_type": "execute_result"
    }
   ],
   "source": [
    "type(x)"
   ]
  },
  {
   "cell_type": "code",
   "execution_count": 3,
   "id": "8a97103d-d6c4-4c71-a14c-bba987842089",
   "metadata": {},
   "outputs": [
    {
     "data": {
      "text/plain": [
       "str"
      ]
     },
     "execution_count": 3,
     "metadata": {},
     "output_type": "execute_result"
    }
   ],
   "source": [
    "type(y)"
   ]
  },
  {
   "cell_type": "markdown",
   "id": "457f56bc-8a5d-4d50-babe-36d1628725e0",
   "metadata": {},
   "source": [
    "#### Object Attributes and Methods\n",
    "\n",
    "Since everything is an object, even simple data types come with associated attributes and methods. For instance, strings have methods for manipulating text, and lists have methods for managing collections of items."
   ]
  },
  {
   "cell_type": "code",
   "execution_count": 4,
   "id": "3a50a15e-c11e-4dbd-96f7-e90a747ffa3f",
   "metadata": {},
   "outputs": [
    {
     "data": {
      "text/plain": [
       "42"
      ]
     },
     "execution_count": 4,
     "metadata": {},
     "output_type": "execute_result"
    }
   ],
   "source": [
    "x.numerator  # accessing `numerator` attribute of an integer object"
   ]
  },
  {
   "cell_type": "code",
   "execution_count": 5,
   "id": "b19c3deb-a7f9-4efa-880e-bd206d26c4f2",
   "metadata": {},
   "outputs": [
    {
     "data": {
      "text/plain": [
       "'HELLO'"
      ]
     },
     "execution_count": 5,
     "metadata": {},
     "output_type": "execute_result"
    }
   ],
   "source": [
    "y.upper()  # calling `upper` method of a string object"
   ]
  },
  {
   "cell_type": "markdown",
   "id": "04c39a77-442e-43d7-8374-efbc6f814f3c",
   "metadata": {},
   "source": [
    "In order to see all methods and attributes of an object (or a type), you can use `dir()` built-in function:"
   ]
  },
  {
   "cell_type": "code",
   "execution_count": 6,
   "id": "c40da025-24cb-48f3-8262-13592362a462",
   "metadata": {
    "scrolled": true
   },
   "outputs": [
    {
     "data": {
      "text/plain": [
       "['__add__',\n",
       " '__class__',\n",
       " '__contains__',\n",
       " '__delattr__',\n",
       " '__dir__',\n",
       " '__doc__',\n",
       " '__eq__',\n",
       " '__format__',\n",
       " '__ge__',\n",
       " '__getattribute__',\n",
       " '__getitem__',\n",
       " '__getnewargs__',\n",
       " '__getstate__',\n",
       " '__gt__',\n",
       " '__hash__',\n",
       " '__init__',\n",
       " '__init_subclass__',\n",
       " '__iter__',\n",
       " '__le__',\n",
       " '__len__',\n",
       " '__lt__',\n",
       " '__mod__',\n",
       " '__mul__',\n",
       " '__ne__',\n",
       " '__new__',\n",
       " '__reduce__',\n",
       " '__reduce_ex__',\n",
       " '__repr__',\n",
       " '__rmod__',\n",
       " '__rmul__',\n",
       " '__setattr__',\n",
       " '__sizeof__',\n",
       " '__str__',\n",
       " '__subclasshook__',\n",
       " 'capitalize',\n",
       " 'casefold',\n",
       " 'center',\n",
       " 'count',\n",
       " 'encode',\n",
       " 'endswith',\n",
       " 'expandtabs',\n",
       " 'find',\n",
       " 'format',\n",
       " 'format_map',\n",
       " 'index',\n",
       " 'isalnum',\n",
       " 'isalpha',\n",
       " 'isascii',\n",
       " 'isdecimal',\n",
       " 'isdigit',\n",
       " 'isidentifier',\n",
       " 'islower',\n",
       " 'isnumeric',\n",
       " 'isprintable',\n",
       " 'isspace',\n",
       " 'istitle',\n",
       " 'isupper',\n",
       " 'join',\n",
       " 'ljust',\n",
       " 'lower',\n",
       " 'lstrip',\n",
       " 'maketrans',\n",
       " 'partition',\n",
       " 'removeprefix',\n",
       " 'removesuffix',\n",
       " 'replace',\n",
       " 'rfind',\n",
       " 'rindex',\n",
       " 'rjust',\n",
       " 'rpartition',\n",
       " 'rsplit',\n",
       " 'rstrip',\n",
       " 'split',\n",
       " 'splitlines',\n",
       " 'startswith',\n",
       " 'strip',\n",
       " 'swapcase',\n",
       " 'title',\n",
       " 'translate',\n",
       " 'upper',\n",
       " 'zfill']"
      ]
     },
     "execution_count": 6,
     "metadata": {},
     "output_type": "execute_result"
    }
   ],
   "source": [
    "dir(y)  # all attributes and methods of a string object"
   ]
  },
  {
   "cell_type": "markdown",
   "id": "1b09a532-cbcb-47a8-a9c5-114329c22470",
   "metadata": {},
   "source": [
    "To get the inline documentation of an object (be it module, class, method, function), call `help()` built-in function on it:"
   ]
  },
  {
   "cell_type": "code",
   "execution_count": 7,
   "id": "02705e19-1284-406f-ac73-e3a65197df2e",
   "metadata": {
    "scrolled": true
   },
   "outputs": [
    {
     "name": "stdout",
     "output_type": "stream",
     "text": [
      "Help on class range in module builtins:\n",
      "\n",
      "class range(object)\n",
      " |  range(stop) -> range object\n",
      " |  range(start, stop[, step]) -> range object\n",
      " |\n",
      " |  Return an object that produces a sequence of integers from start (inclusive)\n",
      " |  to stop (exclusive) by step.  range(i, j) produces i, i+1, i+2, ..., j-1.\n",
      " |  start defaults to 0, and stop is omitted!  range(4) produces 0, 1, 2, 3.\n",
      " |  These are exactly the valid indices for a list of 4 elements.\n",
      " |  When step is given, it specifies the increment (or decrement).\n",
      " |\n",
      " |  Methods defined here:\n",
      " |\n",
      " |  __bool__(self, /)\n",
      " |      True if self else False\n",
      " |\n",
      " |  __contains__(self, key, /)\n",
      " |      Return bool(key in self).\n",
      " |\n",
      " |  __eq__(self, value, /)\n",
      " |      Return self==value.\n",
      " |\n",
      " |  __ge__(self, value, /)\n",
      " |      Return self>=value.\n",
      " |\n",
      " |  __getattribute__(self, name, /)\n",
      " |      Return getattr(self, name).\n",
      " |\n",
      " |  __getitem__(self, key, /)\n",
      " |      Return self[key].\n",
      " |\n",
      " |  __gt__(self, value, /)\n",
      " |      Return self>value.\n",
      " |\n",
      " |  __hash__(self, /)\n",
      " |      Return hash(self).\n",
      " |\n",
      " |  __iter__(self, /)\n",
      " |      Implement iter(self).\n",
      " |\n",
      " |  __le__(self, value, /)\n",
      " |      Return self<=value.\n",
      " |\n",
      " |  __len__(self, /)\n",
      " |      Return len(self).\n",
      " |\n",
      " |  __lt__(self, value, /)\n",
      " |      Return self<value.\n",
      " |\n",
      " |  __ne__(self, value, /)\n",
      " |      Return self!=value.\n",
      " |\n",
      " |  __reduce__(...)\n",
      " |      Helper for pickle.\n",
      " |\n",
      " |  __repr__(self, /)\n",
      " |      Return repr(self).\n",
      " |\n",
      " |  __reversed__(...)\n",
      " |      Return a reverse iterator.\n",
      " |\n",
      " |  count(...)\n",
      " |      rangeobject.count(value) -> integer -- return number of occurrences of value\n",
      " |\n",
      " |  index(...)\n",
      " |      rangeobject.index(value) -> integer -- return index of value.\n",
      " |      Raise ValueError if the value is not present.\n",
      " |\n",
      " |  ----------------------------------------------------------------------\n",
      " |  Static methods defined here:\n",
      " |\n",
      " |  __new__(*args, **kwargs) from builtins.type\n",
      " |      Create and return a new object.  See help(type) for accurate signature.\n",
      " |\n",
      " |  ----------------------------------------------------------------------\n",
      " |  Data descriptors defined here:\n",
      " |\n",
      " |  start\n",
      " |\n",
      " |  step\n",
      " |\n",
      " |  stop\n",
      "\n"
     ]
    }
   ],
   "source": [
    "help(range)  # calling `help` on a built-in class"
   ]
  },
  {
   "cell_type": "code",
   "execution_count": 8,
   "id": "95cc9536-d17c-4a43-9d86-8230adf7f3ea",
   "metadata": {},
   "outputs": [
    {
     "name": "stdout",
     "output_type": "stream",
     "text": [
      "Help on method_descriptor:\n",
      "\n",
      "strip(self, chars=None, /)\n",
      "    Return a copy of the string with leading and trailing whitespace removed.\n",
      "\n",
      "    If chars is given and not None, remove characters in chars instead.\n",
      "\n"
     ]
    }
   ],
   "source": [
    "help(str.strip)  # calling help on a string method"
   ]
  },
  {
   "cell_type": "markdown",
   "id": "a885f3f2-d53e-4a3f-bf84-753f19c17040",
   "metadata": {},
   "source": [
    "### Exercises 1\n",
    "\n",
    "1. Choose a class - be it a built-in type like `int`, `str`, `dict`, or from a Standard Library module like `datetime.date` or even from a 3rd party library, like `requests.Request`. Instantiate the class. You now have two names: the class and the object. Call `print`, `str`, `repr`, `type` and `dir` on both these names.\n",
    "2. Call `help` on the following:\n",
    "   - a module\n",
    "   - a function\n",
    "   - a class\n",
    "   - a method of a class\n",
    "   - a method of an object\n",
    "  \n",
    "    You can use the class and object in exercise 1, or new ones.\n",
    "\n",
    "## 2. Overview of Python's Built-in Types\n",
    "\n",
    "Python offers a rich set of built-in types that allow you to handle different kinds of data efficiently. Here's an overview of the most commonly used built-in types:\n",
    "\n",
    "#### Numeric Types\n",
    "\n",
    "An overview of Python's numeric types can be found [here](https://docs.python.org/3/library/stdtypes.html#numeric-types-int-float-complex).\n",
    "\n",
    "1. **int**: Represents integers. Supports unlimited precision.\n",
    "   ```python\n",
    "   a = 42\n",
    "   b = -7\n",
    "   ```\n",
    "\n",
    "2. **float**: Represents floating-point numbers. Conforms to the IEEE 754 double-precision standard.\n",
    "   ```python\n",
    "   c = 3.14\n",
    "   d = -2.718\n",
    "   ```\n",
    "\n",
    "3. **complex**: Represents complex numbers with real and imaginary parts.\n",
    "   ```python\n",
    "   e = 2 + 3j\n",
    "   f = -1 - 4j\n",
    "   ```\n",
    "\n",
    "#### Boolean Type\n",
    "Read more about `bool` [here](https://docs.python.org/3/library/stdtypes.html#boolean-type-bool).\n",
    "\n",
    "4. **bool**: Represents Boolean values, `True` or `False`.\n",
    "   ```python\n",
    "   u = True\n",
    "   v = False\n",
    "   ```\n",
    "\n",
    "### Exercises 2.1\n",
    "\n",
    "1. Write a function `is_prime` that checks whether a given number is prime. \n",
    "\n",
    "#### Sequence Types\n",
    "\n",
    "An overview of Python's sequence types can be found [here](https://docs.python.org/3/library/stdtypes.html#sequence-types-list-tuple-range).\n",
    "\n",
    "5. **list**: Mutable sequence of objects, can hold mixed types.\n",
    "   ```python\n",
    "   i = [1, 2, 3]\n",
    "   j = [\"apple\", \"banana\", \"cherry\"]\n",
    "   ```\n",
    "\n",
    "6. **tuple**: Immutable sequence of objects, can hold mixed types.\n",
    "   ```python\n",
    "   k = (1, 2, 3)\n",
    "   l = (\"a\", \"b\", \"c\")\n",
    "   ```\n",
    "\n",
    "7. **range**: Immutable sequence of numbers, commonly used for looping a specific number of times.\n",
    "   ```python\n",
    "   m = range(10)  # 0 to 9\n",
    "   n = range(1, 10, 2)  # 1, 3, 5, 7, 9\n",
    "   ```\n",
    "\n",
    "### Exercises 2.2\n",
    "\n",
    "1. Write a program to create a list of tuples (each containing the number, the square of the number and the cube of the number) from a range object.\n",
    "\n",
    "\n",
    "#### Text Sequence Type\n",
    "\n",
    "Read more about `str` [here](https://docs.python.org/3/library/stdtypes.html#text-sequence-type-str).\n",
    "\n",
    "8. **str**: Immutable sequence of characters.\n",
    "   ```python\n",
    "   g = \"Hello, World!\"\n",
    "   h = 'Python'\n",
    "   ```\n",
    "\n",
    "### Exercises 2.3\n",
    "\n",
    "1. Write a function `normalize` that receives a string as a parameter and returns the string modified as follows:\n",
    "    - any leading/trailing whitespace is removed\n",
    "    - any leading/trailing punctuation is removed (you can use `string.punctuation`)\n",
    "    - the string is transformed to all lowercase\n",
    "\n",
    "\n",
    "#### Binary Sequence Types\n",
    "\n",
    "An overview of binary sequence types can be found [here](https://docs.python.org/3/library/stdtypes.html#binary-sequence-types-bytes-bytearray-memoryview).\n",
    "\n",
    "9. **bytes**: Immutable sequence of bytes.\n",
    "   ```python\n",
    "   w = b\"hello\"\n",
    "   x = bytes([104, 101, 108, 108, 111])\n",
    "   ```\n",
    "\n",
    "10. **bytearray**: Mutable sequence of bytes.\n",
    "   ```python\n",
    "   y = bytearray(b\"hello\")\n",
    "   z = bytearray([104, 101, 108, 108, 111])\n",
    "   ```\n",
    "\n",
    "### Exercises 2.4\n",
    "\n",
    "1. Given the following string:\n",
    "    ```python\n",
    "    greeting = \"Добродошли на курс Питхон-а!\"\n",
    "    ```\n",
    "    - print its length\n",
    "    - encode it using `utf-8` encoding and print the `bytes` object's length\n",
    "    - encode it using `cp866` encoding and print the `bytes` object's length\n",
    "    - decode the `bytes` objects to string and check if the result is equal to the initial string\n",
    "\n",
    "\n",
    "#### Set Types\n",
    "\n",
    "An overview of set types can be found [here](https://docs.python.org/3/library/stdtypes.html#set-types-set-frozenset).\n",
    "\n",
    "11. **set**: Mutable collection of unique elements.\n",
    "   ```python\n",
    "   q = {1, 2, 3}\n",
    "   r = set([\"apple\", \"banana\", \"cherry\"])\n",
    "   ```\n",
    "\n",
    "12. **frozenset**: Immutable collection of unique elements.\n",
    "   ```python\n",
    "   s = frozenset([1, 2, 3])\n",
    "   t = frozenset([\"apple\", \"banana\", \"cherry\"])\n",
    "   ```\n",
    "\n",
    "### Exercises 2.5\n",
    "\n",
    "1. Write a function that receives two texts and returns a set of common words:\n",
    "    ```python\n",
    "    get_commmon_words(\"good morning everyone\", \"everyone was good today\")  # should return {\"good\", \"everyone\"}\n",
    "    ```\n",
    "\n",
    "#### Mapping Types\n",
    "\n",
    "Read more about `dict` [here](https://docs.python.org/3/library/stdtypes.html#mapping-types-dict).\n",
    "\n",
    "13. **dict**: Mutable collection of key-value pairs.\n",
    "   ```python\n",
    "   o = {\"name\": \"Alice\", \"age\": 25}\n",
    "   p = {1: \"one\", 2: \"two\"}\n",
    "   ```\n",
    "\n",
    "### Exercises 2.6\n",
    "\n",
    "1. Write a function `invert_dict` that inverts a dictionary, i.e., the keys become values and the values become keys. Handle cases where values are not unique by storing the keys in a list."
   ]
  },
  {
   "cell_type": "markdown",
   "id": "d5e184c9-4b18-4ca2-bbca-0306193c7cdb",
   "metadata": {},
   "source": [
    "## 3. Mutable vs Immutable Types\n",
    "\n",
    "This chapter will be a recap of the built-in Python data types, with a focus on their mutability / immutability. \n",
    "\n",
    "In programming, an object is considered *immutable* if its state cannot be altered after it has been created. Conversely, a *mutable* object allows modifications to its internal state post-creation. Essentially, the ability to change an object's state or its contained data determines whether the object is mutable or immutable.\n",
    "\n",
    "Immutable objects are prevalent in functional programming, whereas mutable objects are extensively used in object-oriented programming. As a multiparadigm programming language, Python offers both mutable and immutable objects, giving you the flexibility to choose the most suitable type for your problem-solving needs.\n",
    "\n",
    "### 3.1. Variables and objects\n",
    "\n",
    "A variable in Python is a symbolic name that references an object. Unlike in many other programming languages, variables in Python do not have fixed types; instead, they can refer to objects of any type and can be reassigned to objects of different types.\n",
    "\n",
    "Python objects are concrete pieces of information that live in specific memory positions on your computer. In Python, everything is an object, including primitive data types like integers and strings, modules and functions. An object has three main characteristics:\n",
    "\n",
    "- **Identity**: A unique identifier for the object, which can be obtained using the `id()` function.\n",
    "- **Type**: The type of the object, which can be obtained using the `type()` function.\n",
    "- **Value**: The data contained in the object."
   ]
  },
  {
   "cell_type": "code",
   "execution_count": 9,
   "id": "d6f8b12c-1a96-46f9-ba32-dd3cdf95ee76",
   "metadata": {},
   "outputs": [],
   "source": [
    "name = \"Jane\"  # variable `name` references an object of type `str`"
   ]
  },
  {
   "cell_type": "code",
   "execution_count": 10,
   "id": "4e917a22-54f9-49ee-a47b-af74780d8214",
   "metadata": {},
   "outputs": [
    {
     "name": "stdout",
     "output_type": "stream",
     "text": [
      "Jane\n"
     ]
    }
   ],
   "source": [
    "print(name)  # the value of the object"
   ]
  },
  {
   "cell_type": "code",
   "execution_count": 11,
   "id": "66c22ba0-ecc0-4a25-9e71-1ce731b7c3ff",
   "metadata": {},
   "outputs": [
    {
     "data": {
      "text/plain": [
       "4428286448"
      ]
     },
     "execution_count": 11,
     "metadata": {},
     "output_type": "execute_result"
    }
   ],
   "source": [
    "id(name)  # the identity of the object"
   ]
  },
  {
   "cell_type": "code",
   "execution_count": 12,
   "id": "dbad8769-e90c-4faf-859f-650cf8cfef2d",
   "metadata": {},
   "outputs": [
    {
     "data": {
      "text/plain": [
       "str"
      ]
     },
     "execution_count": 12,
     "metadata": {},
     "output_type": "execute_result"
    }
   ],
   "source": [
    "type(name)  # the type of the object"
   ]
  },
  {
   "cell_type": "markdown",
   "id": "518ca6e9-56bf-4da0-9731-82ea3b0367f6",
   "metadata": {},
   "source": [
    "The key point to understand is that variables and objects are distinct entities in Python:\n",
    "\n",
    "- **Variables** hold references to objects.\n",
    "- **Objects** reside in specific memory locations.\n",
    "\n",
    "Though these concepts are independent, they are closely intertwined. Once a variable is created with an assignment statement, the referenced object can be accessed using the variable name throughout the code. If the object is mutable, its state can be modified via the variable. Mutability or immutability is a characteristic of objects, not variables.\n",
    "\n",
    "If the referenced object is immutable, its internal state or data cannot be changed. You can, however, reassign the variable to reference a different object, which may or may not be of the same type as the original object.\n",
    "\n",
    "Without a reference (variable) to an object, it cannot be accessed in the code. If all references to an object are lost or removed, Python's garbage collector will eventually free the memory occupied by that object for future use."
   ]
  },
  {
   "cell_type": "code",
   "execution_count": 13,
   "id": "b9a2c466-9054-4ab5-9606-0b9efaeae229",
   "metadata": {},
   "outputs": [],
   "source": [
    "name = \"John\"  # reference to the object above (\"Jane\") is lost"
   ]
  },
  {
   "cell_type": "code",
   "execution_count": 14,
   "id": "3428a00d-387f-4969-8f96-f2afc5801611",
   "metadata": {},
   "outputs": [
    {
     "data": {
      "text/plain": [
       "4428292256"
      ]
     },
     "execution_count": 14,
     "metadata": {},
     "output_type": "execute_result"
    }
   ],
   "source": [
    "id(name)  # variable points to a new object"
   ]
  },
  {
   "cell_type": "markdown",
   "id": "966ae717-fe06-4a9b-b22c-3dc33501c2c9",
   "metadata": {},
   "source": [
    "### 3.2. Immutable built-in data types\n",
    "\n",
    "Numeric types like `int`, `float`, and `complex` hold single-item objects that cannot be altered during code execution, making them immutable. In Python, the `bool` class, which represents Boolean values, is a subclass of `int` and is also immutable.\n",
    "\n",
    "Among collection types, `str`, `bytes`, and `tuple` are immutable, despite being able to store multiple-item values.\n",
    "\n",
    "There is no way in which you can change the intrinsic value of a immutable object. Some operations will apparently change the value of a variable, but its identity will also change in this process.\n",
    "\n",
    "#### Augmented operations on immutable objects\n",
    "\n",
    "Let's take a look at augmented operators, like `+=`, `*=`, etc. When Python evaluates the expression `x += y`, it first searches for `__iadd__` magic method on `x` (`x.__iadd__(y)`), short for _in place addition_, which would change the value of `x` in place, meaning the object would mutate. For immutable types, though, this method is not implemented, and the augmented operation falls back on `x = x + y` (`x = x.__add__(y)`), which does the reassignment of the `x` variable to a new value."
   ]
  },
  {
   "cell_type": "code",
   "execution_count": 15,
   "id": "96238d9a-51d0-40d7-80e8-b095d6b8fcb3",
   "metadata": {},
   "outputs": [
    {
     "data": {
      "text/plain": [
       "False"
      ]
     },
     "execution_count": 15,
     "metadata": {},
     "output_type": "execute_result"
    }
   ],
   "source": [
    "\"__iadd__\" in dir(int)"
   ]
  },
  {
   "cell_type": "code",
   "execution_count": 16,
   "id": "e1aad645-d4a9-40e2-a702-451af28abe2f",
   "metadata": {},
   "outputs": [
    {
     "data": {
      "text/plain": [
       "False"
      ]
     },
     "execution_count": 16,
     "metadata": {},
     "output_type": "execute_result"
    }
   ],
   "source": [
    "\"__iadd__\" in dir(str)"
   ]
  },
  {
   "cell_type": "code",
   "execution_count": 17,
   "id": "5ae94cf8-e427-4f14-ad5b-afede53ca35e",
   "metadata": {},
   "outputs": [
    {
     "data": {
      "text/plain": [
       "False"
      ]
     },
     "execution_count": 17,
     "metadata": {},
     "output_type": "execute_result"
    }
   ],
   "source": [
    "\"__iadd__\" in dir(tuple)"
   ]
  },
  {
   "cell_type": "markdown",
   "id": "4aaa694f-cbcb-41d7-8208-7f3363db7277",
   "metadata": {},
   "source": [
    "Let's take an example:"
   ]
  },
  {
   "cell_type": "code",
   "execution_count": 18,
   "id": "d740679c-f1bd-472d-b8ea-5d5ea35208da",
   "metadata": {},
   "outputs": [],
   "source": [
    "number = 5"
   ]
  },
  {
   "cell_type": "code",
   "execution_count": 19,
   "id": "09a2f46b-7c16-41f5-bceb-394f13b88198",
   "metadata": {},
   "outputs": [
    {
     "data": {
      "text/plain": [
       "4390244000"
      ]
     },
     "execution_count": 19,
     "metadata": {},
     "output_type": "execute_result"
    }
   ],
   "source": [
    "id(number)"
   ]
  },
  {
   "cell_type": "code",
   "execution_count": 20,
   "id": "b6d31683-6a01-42d6-9a02-4a18139422ea",
   "metadata": {},
   "outputs": [],
   "source": [
    "number += 1"
   ]
  },
  {
   "cell_type": "code",
   "execution_count": 21,
   "id": "eb0e24d1-7b70-4df7-b7fd-a5bf671a5055",
   "metadata": {},
   "outputs": [
    {
     "data": {
      "text/plain": [
       "4390244032"
      ]
     },
     "execution_count": 21,
     "metadata": {},
     "output_type": "execute_result"
    }
   ],
   "source": [
    "id(number)"
   ]
  },
  {
   "cell_type": "markdown",
   "id": "a745a911-0492-4805-a8b7-0ecf6e8861dd",
   "metadata": {},
   "source": [
    "You can replicate this example using any other immutable type and any other augmented operation, you'll notice the same behaviour.\n",
    "\n",
    "#### Supported operations for immmutable types\n",
    "\n",
    "Except for the augmented operations, which only _seem_ to change the object, immutable types don't support other mutating operations. For example, trying to change an item of a string, bytes object or tuple will result in the same error:"
   ]
  },
  {
   "cell_type": "code",
   "execution_count": 22,
   "id": "42d3816f-833d-4573-9bd6-e7958ebad8db",
   "metadata": {},
   "outputs": [],
   "source": [
    "my_tuple = (1, 2, 3)"
   ]
  },
  {
   "cell_type": "code",
   "execution_count": 23,
   "id": "a4e908d3-22ac-49fb-9316-3b2b9d63b0d2",
   "metadata": {
    "editable": true,
    "slideshow": {
     "slide_type": ""
    },
    "tags": [
     "raises-exception"
    ]
   },
   "outputs": [
    {
     "ename": "TypeError",
     "evalue": "'tuple' object does not support item assignment",
     "output_type": "error",
     "traceback": [
      "\u001b[0;31m---------------------------------------------------------------------------\u001b[0m",
      "\u001b[0;31mTypeError\u001b[0m                                 Traceback (most recent call last)",
      "Cell \u001b[0;32mIn[23], line 1\u001b[0m\n\u001b[0;32m----> 1\u001b[0m \u001b[43mmy_tuple\u001b[49m\u001b[43m[\u001b[49m\u001b[38;5;241;43m0\u001b[39;49m\u001b[43m]\u001b[49m \u001b[38;5;241m=\u001b[39m \u001b[38;5;241m10\u001b[39m\n",
      "\u001b[0;31mTypeError\u001b[0m: 'tuple' object does not support item assignment"
     ]
    }
   ],
   "source": [
    "my_tuple[0] = 10"
   ]
  },
  {
   "cell_type": "markdown",
   "id": "bb675d24-81c4-4969-b34d-55f64ee97612",
   "metadata": {},
   "source": [
    "#### Methods on immutable types\n",
    "\n",
    "In terms of methods supported, some immutable types only support _read_ operations, like `tuple`:"
   ]
  },
  {
   "cell_type": "code",
   "execution_count": 24,
   "id": "34664c1e-602b-4a34-91cb-4d94d269f65d",
   "metadata": {},
   "outputs": [
    {
     "name": "stdout",
     "output_type": "stream",
     "text": [
      "count\n",
      "index\n"
     ]
    }
   ],
   "source": [
    "for attr in dir(tuple):\n",
    "    if attr.startswith(\"__\"):\n",
    "        continue\n",
    "    print(attr)"
   ]
  },
  {
   "cell_type": "markdown",
   "id": "5e277ccb-fcca-417e-a552-262444ab299c",
   "metadata": {},
   "source": [
    "While others, like `str`, define methods that _sound like_ they do mutations on the object on which they are called, but actually return modified copies of the original object, leaving it unchanged:"
   ]
  },
  {
   "cell_type": "code",
   "execution_count": 25,
   "id": "cb7b8d08-542c-4e10-ae81-ae0153677bb0",
   "metadata": {},
   "outputs": [],
   "source": [
    "my_string = \"hello world\""
   ]
  },
  {
   "cell_type": "code",
   "execution_count": 26,
   "id": "a3567ff8-d5d5-425b-9b0e-1468b50e442d",
   "metadata": {},
   "outputs": [
    {
     "data": {
      "text/plain": [
       "'he**o wor*d'"
      ]
     },
     "execution_count": 26,
     "metadata": {},
     "output_type": "execute_result"
    }
   ],
   "source": [
    "my_string.replace(\"l\", \"*\")"
   ]
  },
  {
   "cell_type": "code",
   "execution_count": 27,
   "id": "db813fe8-1269-4564-9527-715bb41ac538",
   "metadata": {},
   "outputs": [
    {
     "data": {
      "text/plain": [
       "'hello world'"
      ]
     },
     "execution_count": 27,
     "metadata": {},
     "output_type": "execute_result"
    }
   ],
   "source": [
    "my_string"
   ]
  },
  {
   "cell_type": "markdown",
   "id": "489aaa6d-ee1a-4ec8-a686-5989db89e6ab",
   "metadata": {},
   "source": [
    "Another nice effect of this behaviour is the fact that `str` methods can be chained:"
   ]
  },
  {
   "cell_type": "code",
   "execution_count": 28,
   "id": "4ca2603d-6f9d-475e-bc13-2bb53cebd429",
   "metadata": {},
   "outputs": [
    {
     "data": {
      "text/plain": [
       "'    HE**O WOR*D     '"
      ]
     },
     "execution_count": 28,
     "metadata": {},
     "output_type": "execute_result"
    }
   ],
   "source": [
    "my_string.replace(\"l\", \"*\").upper().center(20)"
   ]
  },
  {
   "cell_type": "markdown",
   "id": "d6b352c4-f8c0-4d6b-b38f-001a6b2a9526",
   "metadata": {},
   "source": [
    "### Exercises 3.3\n",
    "\n",
    "1. Can you think of any other strategy to mutate immutable objects? Try it out and see if you can change the intrinsic value of an immutable object.\n",
    "\n",
    "### 3.3. Mutable built-in data types\n",
    "\n",
    "Mutable data types are another face of the built-in types in Python. The language provides a few useful mutable collection types that you can use in many situations. These types allow you to change the value of specific items without affecting the identity of the container object. Most notable examples are: `list`, `dict` and `set`.\n",
    "\n",
    "#### Augmented operations on mutable types\n",
    "\n",
    "As we said earlier, using an augmented operator will search for the corresponding dunder method; for mutable types, these methods are implemented:"
   ]
  },
  {
   "cell_type": "code",
   "execution_count": 29,
   "id": "8a788762-4a3a-45f0-ac16-8aed65dcbca7",
   "metadata": {},
   "outputs": [
    {
     "data": {
      "text/plain": [
       "True"
      ]
     },
     "execution_count": 29,
     "metadata": {},
     "output_type": "execute_result"
    }
   ],
   "source": [
    "\"__iadd__\" in dir(list)"
   ]
  },
  {
   "cell_type": "code",
   "execution_count": 30,
   "id": "00ded728-7ebd-4e1e-83e4-83bd665e2685",
   "metadata": {},
   "outputs": [
    {
     "data": {
      "text/plain": [
       "True"
      ]
     },
     "execution_count": 30,
     "metadata": {},
     "output_type": "execute_result"
    }
   ],
   "source": [
    "\"__iand__\" in dir(set)"
   ]
  },
  {
   "cell_type": "code",
   "execution_count": 31,
   "id": "670f8386-dba6-41dc-802e-28c907569014",
   "metadata": {},
   "outputs": [
    {
     "data": {
      "text/plain": [
       "True"
      ]
     },
     "execution_count": 31,
     "metadata": {},
     "output_type": "execute_result"
    }
   ],
   "source": [
    "\"__ior__\" in dir(dict)"
   ]
  },
  {
   "cell_type": "markdown",
   "id": "652a05a8-dc9b-4210-8718-feb94a9d43c2",
   "metadata": {},
   "source": [
    "So, using augmented operators will change mutable objects in place:"
   ]
  },
  {
   "cell_type": "code",
   "execution_count": 32,
   "id": "af2c6ab5-17b9-40e6-8d71-6963019cf2c6",
   "metadata": {},
   "outputs": [
    {
     "data": {
      "text/plain": [
       "4434198656"
      ]
     },
     "execution_count": 32,
     "metadata": {},
     "output_type": "execute_result"
    }
   ],
   "source": [
    "numbers = [2, 6, 7, 1]\n",
    "id(numbers)"
   ]
  },
  {
   "cell_type": "code",
   "execution_count": 33,
   "id": "e6f32fd9-fc04-48c8-b072-8260ac1175e7",
   "metadata": {},
   "outputs": [],
   "source": [
    "numbers += [6, 4, 1]"
   ]
  },
  {
   "cell_type": "code",
   "execution_count": 34,
   "id": "7e4bd9d5-e4a2-421e-99f1-6dc2ebf3cbeb",
   "metadata": {},
   "outputs": [
    {
     "data": {
      "text/plain": [
       "[2, 6, 7, 1, 6, 4, 1]"
      ]
     },
     "execution_count": 34,
     "metadata": {},
     "output_type": "execute_result"
    }
   ],
   "source": [
    "numbers"
   ]
  },
  {
   "cell_type": "code",
   "execution_count": 35,
   "id": "fa34369c-98c3-464e-9ca7-d681ab2b4276",
   "metadata": {},
   "outputs": [
    {
     "data": {
      "text/plain": [
       "4434198656"
      ]
     },
     "execution_count": 35,
     "metadata": {},
     "output_type": "execute_result"
    }
   ],
   "source": [
    "id(numbers)"
   ]
  },
  {
   "cell_type": "markdown",
   "id": "27fbad1b-f19e-4f2e-a3bf-fd4a9c593ed4",
   "metadata": {},
   "source": [
    "#### Set/delete item/slice for lists and dictionaries\n",
    "\n",
    "An operation supported only by lists/dictionaries is adding/updating/deleting an element (or a slice, for lists) by its index/key:"
   ]
  },
  {
   "cell_type": "code",
   "execution_count": 36,
   "id": "8fa53465-9066-4357-9841-a217230853d4",
   "metadata": {},
   "outputs": [],
   "source": [
    "numbers[4] = 100"
   ]
  },
  {
   "cell_type": "code",
   "execution_count": 37,
   "id": "704f914c-d326-4436-b924-c543d2bc1644",
   "metadata": {},
   "outputs": [
    {
     "data": {
      "text/plain": [
       "[2, 6, 7, 1, 100, 4, 1]"
      ]
     },
     "execution_count": 37,
     "metadata": {},
     "output_type": "execute_result"
    }
   ],
   "source": [
    "numbers"
   ]
  },
  {
   "cell_type": "code",
   "execution_count": 38,
   "id": "c1f9c183-8579-4730-ab4e-43b37028c2bb",
   "metadata": {},
   "outputs": [
    {
     "data": {
      "text/plain": [
       "4434198656"
      ]
     },
     "execution_count": 38,
     "metadata": {},
     "output_type": "execute_result"
    }
   ],
   "source": [
    "id(numbers)"
   ]
  },
  {
   "cell_type": "markdown",
   "id": "f4755a0a-6be8-4e1a-b7ef-83b44654b47d",
   "metadata": {},
   "source": [
    "#### Mutating methods on mutable types\n",
    "\n",
    "Another feature of mutable objects is that mutating methods will change the object on which they are called **in place**, and return `None`."
   ]
  },
  {
   "cell_type": "code",
   "execution_count": 39,
   "id": "b652b51b-73f8-4492-a61f-20abce102946",
   "metadata": {},
   "outputs": [],
   "source": [
    "sort_result = numbers.sort()"
   ]
  },
  {
   "cell_type": "code",
   "execution_count": 40,
   "id": "fd0621a2-fca1-43b6-b02d-f6f5a8f35df9",
   "metadata": {},
   "outputs": [
    {
     "name": "stdout",
     "output_type": "stream",
     "text": [
      "None\n"
     ]
    }
   ],
   "source": [
    "print(sort_result)"
   ]
  },
  {
   "cell_type": "code",
   "execution_count": 41,
   "id": "cae488fc-46c2-4f83-8a54-bee011941e13",
   "metadata": {},
   "outputs": [
    {
     "data": {
      "text/plain": [
       "[1, 1, 2, 4, 6, 7, 100]"
      ]
     },
     "execution_count": 41,
     "metadata": {},
     "output_type": "execute_result"
    }
   ],
   "source": [
    "numbers"
   ]
  },
  {
   "cell_type": "code",
   "execution_count": 42,
   "id": "19133748-a05e-417d-92e9-f1b57c5e6b39",
   "metadata": {},
   "outputs": [
    {
     "data": {
      "text/plain": [
       "4434198656"
      ]
     },
     "execution_count": 42,
     "metadata": {},
     "output_type": "execute_result"
    }
   ],
   "source": [
    "id(numbers)"
   ]
  },
  {
   "cell_type": "markdown",
   "id": "6af93783-a5f9-4dce-b1af-197dfe5fc11e",
   "metadata": {},
   "source": [
    "### Exercises 3.3\n",
    "\n",
    "1. Can you think of another type of operation available on mutable objects that changes the value of the object?\n",
    "\n",
    "\n",
    "### 3.4. Common Pitfalls Related to Mutability\n",
    "\n",
    "#### 3.4.1. Aliasing Variables\n",
    "\n",
    "Assigning an existing variable to a new one creates an alias, meaning both variables reference the same memory address and object. Python variables store references to memory addresses, not the data itself. Thus, an alias shares the same reference as the original variable."
   ]
  },
  {
   "cell_type": "code",
   "execution_count": 43,
   "id": "269b96c9-4c8b-4cb9-a26f-d67b061016e1",
   "metadata": {},
   "outputs": [],
   "source": [
    "a_number = 745"
   ]
  },
  {
   "cell_type": "code",
   "execution_count": 44,
   "id": "b42d3558-e6cf-48de-8e50-f10aa9638343",
   "metadata": {},
   "outputs": [],
   "source": [
    "another_number = a_number"
   ]
  },
  {
   "cell_type": "code",
   "execution_count": 45,
   "id": "ea547d92-a69d-4a89-811b-e9bc571f5fa9",
   "metadata": {},
   "outputs": [
    {
     "data": {
      "text/plain": [
       "(4433950096, 4433950096)"
      ]
     },
     "execution_count": 45,
     "metadata": {},
     "output_type": "execute_result"
    }
   ],
   "source": [
    "id(a_number), id(another_number)"
   ]
  },
  {
   "cell_type": "markdown",
   "id": "86b35eec-f38f-495e-936b-eef1caa9bf8e",
   "metadata": {},
   "source": [
    "For immutable types, like numbers, strings and tuples, aliases work like copies of the original object, because operations like augmented assignment will actually create new objects, so you don't have to worry about mutations. With mutable types, mutation on a given alias affects the rest of the aliases:"
   ]
  },
  {
   "cell_type": "code",
   "execution_count": 46,
   "id": "96b13f29-1697-48af-9e49-9ba3628ed8f9",
   "metadata": {},
   "outputs": [],
   "source": [
    "numbers = [1, 2, 3]\n",
    "other_numbers = numbers\n",
    "numbers += [4, 5]"
   ]
  },
  {
   "cell_type": "code",
   "execution_count": 47,
   "id": "4264b8f0-4912-4fee-b342-2003b564420c",
   "metadata": {},
   "outputs": [
    {
     "data": {
      "text/plain": [
       "[1, 2, 3, 4, 5]"
      ]
     },
     "execution_count": 47,
     "metadata": {},
     "output_type": "execute_result"
    }
   ],
   "source": [
    "numbers"
   ]
  },
  {
   "cell_type": "code",
   "execution_count": 48,
   "id": "a0a9d91d-1247-44f7-8d7c-37da258159c6",
   "metadata": {},
   "outputs": [
    {
     "data": {
      "text/plain": [
       "[1, 2, 3, 4, 5]"
      ]
     },
     "execution_count": 48,
     "metadata": {},
     "output_type": "execute_result"
    }
   ],
   "source": [
    "other_numbers"
   ]
  },
  {
   "cell_type": "markdown",
   "id": "0d490046-0d9f-497c-ab51-0abc130df16e",
   "metadata": {},
   "source": [
    "#### 3.4.2. Creating Copies of Mutable Objects\n",
    "\n",
    "As we've seen, creating an alias is not a good strategy for copying a mutable object. Copies of mutable objects can be created in multiple ways, but there are two types of copies which can be created:\n",
    "- a **shallow copy**, which you can create:\n",
    "    - by calling the `.copy()` method (`list`, `set` and `dict` implement this method)\n",
    "    - by using slicing for lists\n",
    "    - by using `copy.copy()` function\n",
    "- a **deep copy**, which you can create using `copy.deepcopy()` function.\n",
    "\n",
    "When you make a shallow copy of an existing object, you create a new object with a different identity. However, the internal components or data items in the new object are just references to the members in the original object. On the other hand, if you make a deep copy, then you create a completely new copy of the original object.\n",
    "\n",
    "Let's see an example using `set.copy()` method:"
   ]
  },
  {
   "cell_type": "code",
   "execution_count": 49,
   "id": "513de858-9415-4ff0-994e-330a5be2934d",
   "metadata": {},
   "outputs": [],
   "source": [
    "original_set = {1, 3, 4, 7}"
   ]
  },
  {
   "cell_type": "code",
   "execution_count": 50,
   "id": "57a56a9c-be81-4ed5-b80a-276a3c34f5d1",
   "metadata": {},
   "outputs": [],
   "source": [
    "new_set = original_set.copy()"
   ]
  },
  {
   "cell_type": "code",
   "execution_count": 51,
   "id": "d1f1f976-819f-4c7f-b3d2-f3352bc6bacc",
   "metadata": {},
   "outputs": [
    {
     "data": {
      "text/plain": [
       "{1, 3, 4, 7}"
      ]
     },
     "execution_count": 51,
     "metadata": {},
     "output_type": "execute_result"
    }
   ],
   "source": [
    "new_set"
   ]
  },
  {
   "cell_type": "code",
   "execution_count": 52,
   "id": "f1d0884c-d0b5-4a9d-9c77-597069f945ff",
   "metadata": {},
   "outputs": [
    {
     "data": {
      "text/plain": [
       "False"
      ]
     },
     "execution_count": 52,
     "metadata": {},
     "output_type": "execute_result"
    }
   ],
   "source": [
    "new_set is original_set"
   ]
  },
  {
   "cell_type": "code",
   "execution_count": 53,
   "id": "cebaf648-9c5e-441a-aae3-7c2669292e9a",
   "metadata": {},
   "outputs": [],
   "source": [
    "new_set.add(8)"
   ]
  },
  {
   "cell_type": "code",
   "execution_count": 54,
   "id": "bc79a711-d403-4e53-af47-1d2c5f2fa988",
   "metadata": {},
   "outputs": [
    {
     "data": {
      "text/plain": [
       "{1, 3, 4, 7, 8}"
      ]
     },
     "execution_count": 54,
     "metadata": {},
     "output_type": "execute_result"
    }
   ],
   "source": [
    "new_set  # new_set was changed"
   ]
  },
  {
   "cell_type": "code",
   "execution_count": 55,
   "id": "95ae0588-2e81-41df-a108-68100ebae7fa",
   "metadata": {},
   "outputs": [
    {
     "data": {
      "text/plain": [
       "{1, 3, 4, 7}"
      ]
     },
     "execution_count": 55,
     "metadata": {},
     "output_type": "execute_result"
    }
   ],
   "source": [
    "original_set  # original_set has the original value"
   ]
  },
  {
   "cell_type": "markdown",
   "id": "dae1657c-3c76-4614-b8db-fdd977f6030c",
   "metadata": {},
   "source": [
    "And an example using list slicing (`list.copy()` would have the same effect):"
   ]
  },
  {
   "cell_type": "code",
   "execution_count": 56,
   "id": "f9d19ece-0790-47d5-b68e-b863245f5883",
   "metadata": {},
   "outputs": [],
   "source": [
    "original_list = [1, 2, 3, [4, 5]]"
   ]
  },
  {
   "cell_type": "code",
   "execution_count": 57,
   "id": "3b779932-bbb1-43b4-accc-b3895b95627e",
   "metadata": {},
   "outputs": [],
   "source": [
    "new_list = original_list[:]"
   ]
  },
  {
   "cell_type": "code",
   "execution_count": 58,
   "id": "30a3e065-b5dd-4994-a06b-339aa97b5129",
   "metadata": {},
   "outputs": [
    {
     "data": {
      "text/plain": [
       "False"
      ]
     },
     "execution_count": 58,
     "metadata": {},
     "output_type": "execute_result"
    }
   ],
   "source": [
    "new_list is original_list  # the new list has a different identity"
   ]
  },
  {
   "cell_type": "code",
   "execution_count": 59,
   "id": "a288287f-2c75-4d35-bc67-a6f843c1d617",
   "metadata": {},
   "outputs": [
    {
     "data": {
      "text/plain": [
       "True"
      ]
     },
     "execution_count": 59,
     "metadata": {},
     "output_type": "execute_result"
    }
   ],
   "source": [
    "new_list[0] is original_list[0]  # members of the two lists are identical"
   ]
  },
  {
   "cell_type": "code",
   "execution_count": 60,
   "id": "57c90c36-573e-40c2-abd3-838669a18006",
   "metadata": {},
   "outputs": [],
   "source": [
    "new_list[0] = 100  # changing new_list"
   ]
  },
  {
   "cell_type": "code",
   "execution_count": 61,
   "id": "cb98172c-5b4f-44c1-87c9-74203943fa7f",
   "metadata": {},
   "outputs": [
    {
     "data": {
      "text/plain": [
       "[100, 2, 3, [4, 5]]"
      ]
     },
     "execution_count": 61,
     "metadata": {},
     "output_type": "execute_result"
    }
   ],
   "source": [
    "new_list  # new_list is changed"
   ]
  },
  {
   "cell_type": "code",
   "execution_count": 62,
   "id": "fc5214ea-8947-4b2b-96cd-f4ff1f934ca2",
   "metadata": {},
   "outputs": [
    {
     "data": {
      "text/plain": [
       "[1, 2, 3, [4, 5]]"
      ]
     },
     "execution_count": 62,
     "metadata": {},
     "output_type": "execute_result"
    }
   ],
   "source": [
    "original_list  # original_list is not affected"
   ]
  },
  {
   "cell_type": "code",
   "execution_count": 63,
   "id": "7616ba0c-f3ad-4a07-9274-0a6fb8860077",
   "metadata": {},
   "outputs": [],
   "source": [
    "new_list[3].append(100)  # changing a list inside new_list"
   ]
  },
  {
   "cell_type": "code",
   "execution_count": 64,
   "id": "9c6b44b4-9b47-46ee-aaab-9f3700c14906",
   "metadata": {},
   "outputs": [
    {
     "data": {
      "text/plain": [
       "[100, 2, 3, [4, 5, 100]]"
      ]
     },
     "execution_count": 64,
     "metadata": {},
     "output_type": "execute_result"
    }
   ],
   "source": [
    "new_list  # new_list is changed"
   ]
  },
  {
   "cell_type": "code",
   "execution_count": 65,
   "id": "52b864c5-cea3-4327-8df2-0edea91586b8",
   "metadata": {},
   "outputs": [
    {
     "data": {
      "text/plain": [
       "[1, 2, 3, [4, 5, 100]]"
      ]
     },
     "execution_count": 65,
     "metadata": {},
     "output_type": "execute_result"
    }
   ],
   "source": [
    "original_list  # original_list is also affected"
   ]
  },
  {
   "cell_type": "markdown",
   "id": "d9bc62ef-ba60-4442-962d-32f0521d5a52",
   "metadata": {},
   "source": [
    "Now, let's create a deep copy for a dictionary and see the differences:"
   ]
  },
  {
   "cell_type": "code",
   "execution_count": 66,
   "id": "13c299c7-6c76-4b7b-92f4-bac7a2d68849",
   "metadata": {},
   "outputs": [],
   "source": [
    "person = {\"name\": \"Jane\", \"hobbies\": [\"painting\", \"swimming\"]}"
   ]
  },
  {
   "cell_type": "code",
   "execution_count": 67,
   "id": "8bcda6f1-6f03-46db-9f0a-8b719cb5cf99",
   "metadata": {},
   "outputs": [],
   "source": [
    "import copy\n",
    "shallow_person = copy.copy(person)\n",
    "deep_person = copy.deepcopy(person)"
   ]
  },
  {
   "cell_type": "code",
   "execution_count": 68,
   "id": "1b1e4a30-5553-4c45-a257-4a438f82ccba",
   "metadata": {},
   "outputs": [
    {
     "data": {
      "text/plain": [
       "{'name': 'Jane', 'hobbies': ['painting', 'swimming']}"
      ]
     },
     "execution_count": 68,
     "metadata": {},
     "output_type": "execute_result"
    }
   ],
   "source": [
    "shallow_person"
   ]
  },
  {
   "cell_type": "code",
   "execution_count": 69,
   "id": "f7f96f49-d510-4736-89ba-bfebfd7ca306",
   "metadata": {},
   "outputs": [
    {
     "data": {
      "text/plain": [
       "{'name': 'Jane', 'hobbies': ['painting', 'swimming']}"
      ]
     },
     "execution_count": 69,
     "metadata": {},
     "output_type": "execute_result"
    }
   ],
   "source": [
    "deep_person"
   ]
  },
  {
   "cell_type": "code",
   "execution_count": 70,
   "id": "4e7d55c8-0d81-440a-b290-48501f900d6b",
   "metadata": {},
   "outputs": [],
   "source": [
    "shallow_person[\"hobbies\"].append(\"hiking\")\n",
    "deep_person[\"hobbies\"].append(\"playing guitar\")"
   ]
  },
  {
   "cell_type": "code",
   "execution_count": 71,
   "id": "1dd3fdc0-7373-458e-b96a-3f9826482490",
   "metadata": {},
   "outputs": [
    {
     "data": {
      "text/plain": [
       "({'name': 'Jane', 'hobbies': ['painting', 'swimming', 'hiking']},\n",
       " {'name': 'Jane', 'hobbies': ['painting', 'swimming', 'hiking']},\n",
       " {'name': 'Jane', 'hobbies': ['painting', 'swimming', 'playing guitar']})"
      ]
     },
     "execution_count": 71,
     "metadata": {},
     "output_type": "execute_result"
    }
   ],
   "source": [
    "person, shallow_person, deep_person"
   ]
  },
  {
   "cell_type": "markdown",
   "id": "cfd2376b-e7ad-487f-91ca-20ad3e10c7de",
   "metadata": {},
   "source": [
    "In this example, `person` and its two copies are completely independent objects. They have different identities. The values stored in `shallow_person` share the same identity as those in `person`. The behavior of shallow copies can save a lot of memory when your objects are quite large. You won’t need to use the same amount of memory to store copies of all the data, you create new objects only for the top-objects.\n",
    "\n",
    "In the meantime, the values in `deep_person` have different identities from those in the original object, `person`. The inner lists are now completely different objects. They don’t have the same identity. Because of this behavior, deep copies may duplicate the memory usage because they need to store an entire copy of the data.\n",
    "\n",
    "### Exercises 3.4.2\n",
    "\n",
    "1. Create a list of lists `matrix`, where each inner list contains numbers. Create three other variables based on `matrix`:\n",
    "    - an alias\n",
    "    - a shallow copy\n",
    "    - a deep copy\n",
    "2. Try out different mutations (methods like `append`, `remove`, `sort`, item/slice assignment/deletion, etc) on `matrix` and see which of the copies change.\n",
    "3. Try out different mutations (methods like `append`, `remove`, `sort`, item/slice assignment/deletion, etc) on a inner list inside `matrix` and see which of the copies change.\n",
    "\n",
    "#### 3.4.3. Mutating arguments in functions\n",
    "\n",
    "When creating a function in Python, you may need it to accept arguments as input for its computations. If you pass a global variable as an argument, the function's parameter becomes an alias for that variable, sharing the same memory address. \n",
    "\n",
    "When the argument is a mutable object, any modifications within the function affect the original object, potentially causing subtle bugs. Therefore, be cautious when coding functions that receive mutable objects, ensuring you consider whether the caller expects the arguments to be modified. Consider the following function:"
   ]
  },
  {
   "cell_type": "code",
   "execution_count": 72,
   "id": "4a07274b-be47-4115-b348-399028ca6025",
   "metadata": {},
   "outputs": [],
   "source": [
    "def capitalize_all(names):\n",
    "    for i in range(len(names)):\n",
    "        names[i] = names[i].capitalize()\n",
    "    return names"
   ]
  },
  {
   "cell_type": "code",
   "execution_count": 73,
   "id": "0ec1955c-523a-42e6-88ac-49873ccc979e",
   "metadata": {},
   "outputs": [],
   "source": [
    "first_names = [\"jane\", \"michael\", \"allison\"]"
   ]
  },
  {
   "cell_type": "code",
   "execution_count": 74,
   "id": "1131ca0a-9549-4eaf-b00c-47e11c7f048e",
   "metadata": {},
   "outputs": [
    {
     "data": {
      "text/plain": [
       "['Jane', 'Michael', 'Allison']"
      ]
     },
     "execution_count": 74,
     "metadata": {},
     "output_type": "execute_result"
    }
   ],
   "source": [
    "capitalize_all(first_names)"
   ]
  },
  {
   "cell_type": "code",
   "execution_count": 75,
   "id": "f57d00a7-d45a-4807-883b-a3554528f0a1",
   "metadata": {},
   "outputs": [
    {
     "data": {
      "text/plain": [
       "['Jane', 'Michael', 'Allison']"
      ]
     },
     "execution_count": 75,
     "metadata": {},
     "output_type": "execute_result"
    }
   ],
   "source": [
    "first_names"
   ]
  },
  {
   "cell_type": "markdown",
   "id": "373e9a1f-7555-4165-8419-b9e547c7e461",
   "metadata": {},
   "source": [
    "Our function takes a list (a mutable object) as argument and, because we mutated the argument, these mutations affect the input data. Now `first_names` contains modified values rather than the original data. This may be the wrong final result because you’re losing your original data. To prevent this kind of issue, you must avoid mutating arguments in your functions:"
   ]
  },
  {
   "cell_type": "code",
   "execution_count": 76,
   "id": "c15d84cb-7e93-4284-8d76-f19b048b9ce8",
   "metadata": {},
   "outputs": [],
   "source": [
    "def capitalize_all(names):\n",
    "    result = []\n",
    "    for name in names:\n",
    "        result.append(name.capitalize())\n",
    "    return result"
   ]
  },
  {
   "cell_type": "code",
   "execution_count": 77,
   "id": "1f7ba8b6-61b8-4278-b256-192b51aeddd7",
   "metadata": {},
   "outputs": [],
   "source": [
    "first_names = [\"jane\", \"michael\", \"allison\"]"
   ]
  },
  {
   "cell_type": "code",
   "execution_count": 78,
   "id": "9680313c-1e15-4764-ac42-905e46a783ff",
   "metadata": {},
   "outputs": [
    {
     "data": {
      "text/plain": [
       "['Jane', 'Michael', 'Allison']"
      ]
     },
     "execution_count": 78,
     "metadata": {},
     "output_type": "execute_result"
    }
   ],
   "source": [
    "capitalize_all(first_names)"
   ]
  },
  {
   "cell_type": "code",
   "execution_count": 79,
   "id": "88c1d78b-9523-4914-921a-2e187e1a3f3b",
   "metadata": {},
   "outputs": [
    {
     "data": {
      "text/plain": [
       "['jane', 'michael', 'allison']"
      ]
     },
     "execution_count": 79,
     "metadata": {},
     "output_type": "execute_result"
    }
   ],
   "source": [
    "first_names"
   ]
  },
  {
   "cell_type": "markdown",
   "id": "8a563b7f-7833-4ca2-be06-cf5bfd50d2ca",
   "metadata": {},
   "source": [
    "### Exercises 3.4.3\n",
    "\n",
    "1. Considering the following function:\n",
    "```python\n",
    "def merge(first, second):\n",
    "    first += second\n",
    "    return first\n",
    "```\n",
    "call it with parameters of the following types: `int`, `str`, `tuple`, `list`. Use a global variable as the first parameter and a value created on the spot as the second parameter. Print the result and the global variable. Is the global variable changed?\n",
    "\n",
    "#### 3.4.4. Using Mutable Default Values\n",
    "\n",
    "Using mutable default arguments in functions can lead to unexpected behavior because the default argument is evaluated only once when the function is defined, not each time the function is called. This is because functions are first-class objects, and the function object gets created on its definition, default argument values being _member data_ for the function. This means that if the default argument is a mutable object like a list or dictionary, modifications to this object persist across function calls."
   ]
  },
  {
   "cell_type": "code",
   "execution_count": 80,
   "id": "d5f7c822-c675-4067-8a75-2ee1958b0789",
   "metadata": {},
   "outputs": [],
   "source": [
    "def append_to_list(value, lst=[]):\n",
    "    lst.append(value)\n",
    "    return lst"
   ]
  },
  {
   "cell_type": "code",
   "execution_count": 81,
   "id": "e0ef8bc5-5b8e-447c-8e33-688f14c5a8cc",
   "metadata": {},
   "outputs": [
    {
     "data": {
      "text/plain": [
       "[1]"
      ]
     },
     "execution_count": 81,
     "metadata": {},
     "output_type": "execute_result"
    }
   ],
   "source": [
    "append_to_list(1)"
   ]
  },
  {
   "cell_type": "code",
   "execution_count": 82,
   "id": "53c9235e-031b-4d04-bbc3-ad74a06a4830",
   "metadata": {},
   "outputs": [
    {
     "data": {
      "text/plain": [
       "[1, 2]"
      ]
     },
     "execution_count": 82,
     "metadata": {},
     "output_type": "execute_result"
    }
   ],
   "source": [
    "append_to_list(2)"
   ]
  },
  {
   "cell_type": "markdown",
   "id": "ebfee18b-8b68-4b62-93dc-a8c83c323fb6",
   "metadata": {},
   "source": [
    "In this example, the list `lst` retains its values across multiple function calls, resulting in a cumulative effect. To avoid this, use `None` as the default value and create a new list inside the function if needed:"
   ]
  },
  {
   "cell_type": "code",
   "execution_count": 83,
   "id": "0b8b1b07-c5da-42bd-ad65-82aef44f5c25",
   "metadata": {},
   "outputs": [],
   "source": [
    "def append_to_list(value, lst=None):\n",
    "    if lst is None:\n",
    "        lst = []\n",
    "    lst.append(value)\n",
    "    return lst"
   ]
  },
  {
   "cell_type": "code",
   "execution_count": 84,
   "id": "7267559d-e28c-47fe-a10f-4c4c1f29f937",
   "metadata": {},
   "outputs": [
    {
     "data": {
      "text/plain": [
       "[1]"
      ]
     },
     "execution_count": 84,
     "metadata": {},
     "output_type": "execute_result"
    }
   ],
   "source": [
    "append_to_list(1)"
   ]
  },
  {
   "cell_type": "code",
   "execution_count": 85,
   "id": "70761c1b-b79b-4f2f-af92-5e982cc00e0b",
   "metadata": {},
   "outputs": [
    {
     "data": {
      "text/plain": [
       "[2]"
      ]
     },
     "execution_count": 85,
     "metadata": {},
     "output_type": "execute_result"
    }
   ],
   "source": [
    "append_to_list(2)"
   ]
  },
  {
   "cell_type": "markdown",
   "id": "061a28c1-286e-4289-8c0a-db7b32b30ef6",
   "metadata": {},
   "source": [
    "Here, each call to `append_to_list` starts with a fresh list, avoiding the issue with mutable default arguments.\n",
    "\n",
    "Mutable default arguments can be useful in certain situations, for example for local caches:"
   ]
  },
  {
   "cell_type": "code",
   "execution_count": 86,
   "id": "2b460f6c-c089-49d1-b6f2-3ceae551bd07",
   "metadata": {},
   "outputs": [],
   "source": [
    "def factorial(nr, memo={}):\n",
    "    if nr in memo:\n",
    "        print(f\"Getting value from cache for nr={nr}\")\n",
    "        return memo[nr]\n",
    "    else:\n",
    "        print(f\"Computing value for nr={nr}\")\n",
    "        result = nr * factorial(nr-1) if nr else 1\n",
    "        memo[nr] = result\n",
    "        return result"
   ]
  },
  {
   "cell_type": "markdown",
   "id": "7c2df18e-a873-4c7f-b736-4ea75c0d23ce",
   "metadata": {},
   "source": [
    "In this function, `memo` will be used to save results for different parameters."
   ]
  },
  {
   "cell_type": "code",
   "execution_count": 87,
   "id": "6dda49ee-de8f-44d4-aa81-9fb315aef02e",
   "metadata": {},
   "outputs": [
    {
     "name": "stdout",
     "output_type": "stream",
     "text": [
      "Computing value for nr=5\n",
      "Computing value for nr=4\n",
      "Computing value for nr=3\n",
      "Computing value for nr=2\n",
      "Computing value for nr=1\n",
      "Computing value for nr=0\n"
     ]
    },
    {
     "data": {
      "text/plain": [
       "120"
      ]
     },
     "execution_count": 87,
     "metadata": {},
     "output_type": "execute_result"
    }
   ],
   "source": [
    "factorial(5)"
   ]
  },
  {
   "cell_type": "code",
   "execution_count": 88,
   "id": "c2c794f9-b0b6-4c37-8b8c-6504ad879a9d",
   "metadata": {},
   "outputs": [
    {
     "name": "stdout",
     "output_type": "stream",
     "text": [
      "Getting value from cache for nr=3\n"
     ]
    },
    {
     "data": {
      "text/plain": [
       "6"
      ]
     },
     "execution_count": 88,
     "metadata": {},
     "output_type": "execute_result"
    }
   ],
   "source": [
    "factorial(3)"
   ]
  },
  {
   "cell_type": "code",
   "execution_count": 89,
   "id": "73677b94-11df-4c88-9a44-41038c535d05",
   "metadata": {},
   "outputs": [
    {
     "name": "stdout",
     "output_type": "stream",
     "text": [
      "Computing value for nr=7\n",
      "Computing value for nr=6\n",
      "Getting value from cache for nr=5\n"
     ]
    },
    {
     "data": {
      "text/plain": [
       "5040"
      ]
     },
     "execution_count": 89,
     "metadata": {},
     "output_type": "execute_result"
    }
   ],
   "source": [
    "factorial(7)"
   ]
  },
  {
   "cell_type": "markdown",
   "id": "9ba20d06-0f7b-4895-9f3d-b4a8f8ce4d51",
   "metadata": {},
   "source": [
    "### Exercises 3.4.4\n",
    "\n",
    "1. Considering the following function:\n",
    "    ```python\n",
    "    def http_get(url, headers={}):\n",
    "        if \"/en/\" in url:\n",
    "            headers[\"Accept-Language\"] = \"en\"\n",
    "        elif \"/de/\" in url:\n",
    "            headers[\"Accept-Language\"] = \"de\"\n",
    "        print(f\"Making HTTP request to {url} with headers {headers}\")\n",
    "    ```\n",
    "\n",
    "    call it multiple times:\n",
    "    - first, send both an URL and custom headers\n",
    "    - then, send an URL containing `/de/` (like `https://www.dw.com/de/themen/s-9077`) and no headers\n",
    "    - then, send an URL containing a reference to another language (like `https://www.dw.com/fr/`) and no headers \n",
    "\n",
    "    What do you notice? How can you fix this behavior?"
   ]
  }
 ],
 "metadata": {
  "kernelspec": {
   "display_name": "Python 3 (ipykernel)",
   "language": "python",
   "name": "python3"
  },
  "language_info": {
   "codemirror_mode": {
    "name": "ipython",
    "version": 3
   },
   "file_extension": ".py",
   "mimetype": "text/x-python",
   "name": "python",
   "nbconvert_exporter": "python",
   "pygments_lexer": "ipython3",
   "version": "3.13.3"
  }
 },
 "nbformat": 4,
 "nbformat_minor": 5
}
