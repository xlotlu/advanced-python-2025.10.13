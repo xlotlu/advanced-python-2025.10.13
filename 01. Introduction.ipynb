{
 "cells": [
  {
   "cell_type": "markdown",
   "id": "9a81fe0a-8b2a-4f5e-9159-a6d3838b8311",
   "metadata": {},
   "source": [
    "# 1. Introduction\n",
    "\n",
    "Python is a powerful, versatile programming language known for its simplicity and readability. It supports multiple programming paradigms, including procedural, object-oriented, and functional programming, making it a popular choice for a wide range of applications, from web development and data science to automation and machine learning.\n",
    "\n",
    "In this course, we will delve deeper into Python's more sophisticated features and libraries, building on your foundational knowledge to enhance your coding skills and expand your capabilities. Our comprehensive curriculum includes the following topics:\n",
    "\n",
    "- Introduction\n",
    "- Recap of Python data types - Understanding mutable vs. immutable types\n",
    "- Control Flow - Advanced Control Flow Techniques\n",
    "    - Using the `else` clause effectively\n",
    "    - The walrus operator `:=`\n",
    "    - Match expressions for pattern matching\n",
    "- More on Functions and Iterables - Expanding Functional Knowledge\n",
    "    - Functions with variable-length arguments\n",
    "    - Variable unpacking\n",
    "    - Comprehensions for lists, sets, and dictionaries\n",
    "    - Iterators and generators\n",
    "    - Anonymous functions (lambdas)\n",
    "    - Built-in functions: `filter`, `map`, `enumerate`, `sorted`, `zip`\n",
    "    - Advanced iteration with the `itertools` module\n",
    "- Advanced Data Structures - Enhancing Data Handling\n",
    "    - Advanced structures: `namedtuple` and `defaultdict`\n",
    "    - Understanding and using `deque`, `OrderedDict`, and `Counter`\n",
    "- Decorators - Advanced Function Manipulation\n",
    "    - Understanding functions' roles and uses\n",
    "    - Creating simple decorators\n",
    "    - Implementing decorators with arguments\n",
    "- Object-Oriented Programming - Deepening OOP Skills\n",
    "    - Dunder (magic) methods and attributes, including operator overloading\n",
    "    - Static and class methods\n",
    "    - Getter/Setter methods and the property class\n",
    "    - Introduction to metaclasses\n",
    "    - Common design patterns in Python\n",
    "- Context Managers - Efficient Resource Management\n",
    "    - Using the `with` statement\n",
    "    - Creating custom context managers with the `contextlib` module\n",
    "- Concurrent Execution - Optimizing Performance\n",
    "    - Using the `threading` module\n",
    "    - Utilizing the `multiprocessing` module\n",
    "- Communicating with external processes\n",
    "    - The `subprocess` module"
   ]
  }
 ],
 "metadata": {
  "kernelspec": {
   "display_name": "Python 3 (ipykernel)",
   "language": "python",
   "name": "python3"
  },
  "language_info": {
   "codemirror_mode": {
    "name": "ipython",
    "version": 3
   },
   "file_extension": ".py",
   "mimetype": "text/x-python",
   "name": "python",
   "nbconvert_exporter": "python",
   "pygments_lexer": "ipython3",
   "version": "3.13.3"
  }
 },
 "nbformat": 4,
 "nbformat_minor": 5
}
