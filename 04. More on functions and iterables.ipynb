{
 "cells": [
  {
   "cell_type": "markdown",
   "id": "cb2be664-b60f-49c8-9f3c-1efda4f05967",
   "metadata": {},
   "source": [
    "## 1. Function arguments recap\n",
    "\n",
    "Parameters define the inputs that a function can accept. When defining a function, we specify its parameters in parentheses, and they can be of two types:\n",
    "- required\n",
    "- optional"
   ]
  },
  {
   "cell_type": "code",
   "execution_count": 1,
   "id": "ba9ce85b-5d4f-41a9-b217-7149d160ebbc",
   "metadata": {},
   "outputs": [],
   "source": [
    "def my_func(first, second=None):\n",
    "    pass"
   ]
  },
  {
   "cell_type": "markdown",
   "id": "1c472061-1acc-472c-b357-09d9184d95c4",
   "metadata": {},
   "source": [
    "In the function above, `first` is a required parameter and `second` is an optional one, also known as default parameter, because it has a default value which will be used if an actual value is not provided at function call.\n",
    "\n",
    "Default parameters always follow required ones in a function definition.\n",
    "\n",
    "When calling the function, arguments can be specified as:\n",
    "- positional arguments\n",
    "- keyword arguments"
   ]
  },
  {
   "cell_type": "code",
   "execution_count": 2,
   "id": "3e6bb980-7b46-444c-b782-7054369b2635",
   "metadata": {},
   "outputs": [],
   "source": [
    "my_func(10, 20)  # call with positional arguments\n",
    "my_func(10)"
   ]
  },
  {
   "cell_type": "code",
   "execution_count": 3,
   "id": "72494994-6b6c-4e9f-b981-46cd8092a2fe",
   "metadata": {},
   "outputs": [],
   "source": [
    "my_func(first=10, second=20)  # call with keyword arguments\n",
    "my_func(second=20, first=10)  # mapping is done by name, so order is not important\n",
    "my_func(first=10)"
   ]
  },
  {
   "cell_type": "code",
   "execution_count": 4,
   "id": "bb3c0c91-122a-4e9e-a662-bdc0e8e98f13",
   "metadata": {},
   "outputs": [],
   "source": [
    "my_func(10, second=20)  # call with a mix of positional & keyword arguments"
   ]
  },
  {
   "cell_type": "markdown",
   "id": "f5edfb52-15ca-4c8b-9384-a65131895e7f",
   "metadata": {},
   "source": [
    "## 2. Functions with variable-length arguments\n",
    "\n",
    "Variable-length arguments allow functions to accept an arbitrary number of arguments, providing greater flexibility when defining functions that need to handle varying numbers of inputs. Python supports two types of variable-length arguments: `*args` and `**kwargs`.\n",
    "\n",
    "### `*args`\n",
    "\n",
    "The `*args` syntax is used to pass a variable number of non-keyword arguments to a function. Inside the function, `args` is treated as a tuple containing all the additional arguments passed to the function."
   ]
  },
  {
   "cell_type": "code",
   "execution_count": 5,
   "id": "77bbac51-2302-4547-899f-670cef04f37e",
   "metadata": {},
   "outputs": [],
   "source": [
    "def example_function(*args):\n",
    "    for arg in args:\n",
    "        print(arg)"
   ]
  },
  {
   "cell_type": "code",
   "execution_count": 6,
   "id": "72c88d1d-22cd-4123-9fec-5cf6e94cb974",
   "metadata": {},
   "outputs": [],
   "source": [
    "example_function()"
   ]
  },
  {
   "cell_type": "code",
   "execution_count": 7,
   "id": "b69279c0-3c6f-4709-a65b-d7b53125d221",
   "metadata": {},
   "outputs": [
    {
     "name": "stdout",
     "output_type": "stream",
     "text": [
      "1\n"
     ]
    }
   ],
   "source": [
    "example_function(1)"
   ]
  },
  {
   "cell_type": "code",
   "execution_count": 8,
   "id": "91d17a94-f513-4900-b764-c4eb90405603",
   "metadata": {},
   "outputs": [
    {
     "name": "stdout",
     "output_type": "stream",
     "text": [
      "1\n",
      "2\n",
      "3\n"
     ]
    }
   ],
   "source": [
    "example_function(1, 2, 3)"
   ]
  },
  {
   "cell_type": "markdown",
   "id": "c5a910cf-a0c3-421b-aa51-3a0a116f84fa",
   "metadata": {},
   "source": [
    "### `**kwargs`\n",
    "\n",
    "The `**kwargs` syntax allows a function to accept a variable number of keyword arguments. Inside the function, `kwargs` is treated as a dictionary where the keys are the argument names and the values are the corresponding arguments passed."
   ]
  },
  {
   "cell_type": "code",
   "execution_count": 9,
   "id": "ddd62af9-9a1a-4394-b0b9-2410e3a5c347",
   "metadata": {},
   "outputs": [],
   "source": [
    "def example_function(**kwargs):\n",
    "    for key, value in kwargs.items():\n",
    "        print(f\"{key} = {value}\")"
   ]
  },
  {
   "cell_type": "code",
   "execution_count": 10,
   "id": "c9e11309-eaa8-43af-9f7d-64718ad484cb",
   "metadata": {},
   "outputs": [
    {
     "name": "stdout",
     "output_type": "stream",
     "text": [
      "a = 1\n",
      "b = 2\n",
      "c = 3\n"
     ]
    }
   ],
   "source": [
    "example_function(a=1, b=2, c=3)"
   ]
  },
  {
   "cell_type": "markdown",
   "id": "4e182fad-4650-47bd-8155-64f2f2d05d53",
   "metadata": {},
   "source": [
    "### Combining `*args` and `**kwargs`\n",
    "\n",
    "You can combine `*args` and `**kwargs` in a single function definition to accept both positional and keyword arguments. When doing so, `*args` must appear before `**kwargs`."
   ]
  },
  {
   "cell_type": "code",
   "execution_count": 3,
   "id": "5612c7ee-657f-4cef-9e17-15b0a3b81ea5",
   "metadata": {},
   "outputs": [],
   "source": [
    "def example_function(*args, **kwargs):\n",
    "    for arg in args:\n",
    "        print(arg)\n",
    "    for key, value in kwargs.items():\n",
    "        print(f\"{key} = {value}\")"
   ]
  },
  {
   "cell_type": "code",
   "execution_count": 4,
   "id": "aa5934a4-23c0-4de5-a972-dd031a64d7e6",
   "metadata": {},
   "outputs": [
    {
     "name": "stdout",
     "output_type": "stream",
     "text": [
      "1\n",
      "2\n",
      "a = 3\n",
      "b = 4\n"
     ]
    }
   ],
   "source": [
    "example_function(1, 2, a=3, b=4)"
   ]
  },
  {
   "cell_type": "markdown",
   "id": "f7f89b4a-9d6a-4716-a071-4c52c9328c65",
   "metadata": {},
   "source": [
    "### Exercises 2\n",
    "\n",
    "1. Experiment with `str.format()` method. Call it with positional arguments and with keyword arguments.\n",
    "1. Write a function called `calculate_average` that takes in any number of arguments and calculates their average. The function should accept integers and floats. If no arguments are provided, the function should return 0. If arguments are provided, the function should calculate their average and return it rounded to two decimal places.\n",
    "1. Write a function `process_order` that accepts keyword arguments representing items and their quantities. The function should calculate the total number of items ordered and print a summary.\n",
    "    \n",
    "    E.g.\n",
    "    ```python\n",
    "    process_order(apples=5, bananas=3, oranges=2)\n",
    "    ```  \n",
    "    \n",
    "    should output:\n",
    "    ```\n",
    "    You have ordered:\n",
    "    apples: 5\n",
    "    bananas: 3\n",
    "    oranges: 2\n",
    "    Total items: 10\n",
    "    ```\n",
    "\n",
    "\n",
    "## 3. Positional-only and keyword-only arguments\n",
    "\n",
    "`*args` and `**kwargs` can also be combined with regular arguments:"
   ]
  },
  {
   "cell_type": "code",
   "execution_count": 6,
   "id": "9ae46012-47cf-424d-b2ea-d9dde39f9b34",
   "metadata": {},
   "outputs": [],
   "source": [
    "def func(x, y, *args):\n",
    "    print(\"Positional arguments:\", x, y)\n",
    "    print(\"Varargs:\", args)"
   ]
  },
  {
   "cell_type": "markdown",
   "id": "ee95bfdd-0b36-4ced-bb37-e4e79ebb95a3",
   "metadata": {},
   "source": [
    "For the example above, valid calls will have at least two positional arguments:"
   ]
  },
  {
   "cell_type": "code",
   "execution_count": 8,
   "id": "be5381dd-dbcd-4c40-8771-a6aa173b2dd6",
   "metadata": {},
   "outputs": [
    {
     "name": "stdout",
     "output_type": "stream",
     "text": [
      "Positional arguments: 1 2\n",
      "Varargs: (3, 4, 5)\n"
     ]
    }
   ],
   "source": [
    "func(1, 2, 3, 4, 5)"
   ]
  },
  {
   "cell_type": "markdown",
   "id": "dfed2016-ffee-4a17-82cf-4fa7c96b260f",
   "metadata": {},
   "source": [
    "We can define additional arguments after the varargs argument. Since the varargs argument _swallows_ all positional arguments, it’s impossible to fill these additional arguments with positional values."
   ]
  },
  {
   "cell_type": "code",
   "execution_count": 9,
   "id": "f0fadc40-c37d-4b1f-b2b3-ed914c44b5e4",
   "metadata": {},
   "outputs": [],
   "source": [
    "def func(x, y, *args, flag):\n",
    "    print(\"Positional arguments:\", x, y)\n",
    "    print(\"Varargs:\", args)\n",
    "    print(\"Flag:\", flag)"
   ]
  },
  {
   "cell_type": "markdown",
   "id": "3429be37-b997-4996-82de-a551e1edfaa9",
   "metadata": {},
   "source": [
    "In this case, the `flag` argument therefore needs to be provided by keyword. It is a **keyword-only** required argument."
   ]
  },
  {
   "cell_type": "code",
   "execution_count": 11,
   "id": "8cf3cf2a-e7af-4709-bc85-4ec0538d76ee",
   "metadata": {},
   "outputs": [
    {
     "ename": "TypeError",
     "evalue": "func() missing 1 required keyword-only argument: 'flag'",
     "output_type": "error",
     "traceback": [
      "\u001b[0;31m---------------------------------------------------------------------------\u001b[0m",
      "\u001b[0;31mTypeError\u001b[0m                                 Traceback (most recent call last)",
      "Cell \u001b[0;32mIn[11], line 1\u001b[0m\n\u001b[0;32m----> 1\u001b[0m \u001b[43mfunc\u001b[49m\u001b[43m(\u001b[49m\u001b[38;5;241;43m1\u001b[39;49m\u001b[43m,\u001b[49m\u001b[43m \u001b[49m\u001b[38;5;241;43m2\u001b[39;49m\u001b[43m,\u001b[49m\u001b[43m \u001b[49m\u001b[38;5;241;43m3\u001b[39;49m\u001b[43m,\u001b[49m\u001b[43m \u001b[49m\u001b[38;5;241;43m4\u001b[39;49m\u001b[43m,\u001b[49m\u001b[43m \u001b[49m\u001b[38;5;28;43;01mTrue\u001b[39;49;00m\u001b[43m)\u001b[49m\n",
      "\u001b[0;31mTypeError\u001b[0m: func() missing 1 required keyword-only argument: 'flag'"
     ]
    }
   ],
   "source": [
    "func(1, 2, 3, 4, True)"
   ]
  },
  {
   "cell_type": "code",
   "execution_count": 12,
   "id": "44bdbb9f-1722-4ae8-9524-489350c39b60",
   "metadata": {
    "editable": true,
    "slideshow": {
     "slide_type": ""
    },
    "tags": [
     "raises-exception"
    ]
   },
   "outputs": [
    {
     "name": "stdout",
     "output_type": "stream",
     "text": [
      "Positional arguments: 1 2\n",
      "Varargs: (3, 4)\n",
      "Flag: True\n"
     ]
    }
   ],
   "source": [
    "func(1, 2, 3, 4, flag=True)"
   ]
  },
  {
   "cell_type": "markdown",
   "id": "5c7d1023-b75c-40d5-846d-892c99298922",
   "metadata": {},
   "source": [
    "We might not want to use a varargs argument though. If our function only expects a limited amount of arguments, we can keep the keyword-only behavior while dropping the varargs argument."
   ]
  },
  {
   "cell_type": "code",
   "execution_count": 18,
   "id": "fa54a21d-3c55-4693-b94f-ab937d195eca",
   "metadata": {},
   "outputs": [],
   "source": [
    "def func(x, y, *, flag):\n",
    "    print(\"Positional arguments:\", x, y)\n",
    "    print(\"Flag:\", flag)"
   ]
  },
  {
   "cell_type": "code",
   "execution_count": 19,
   "id": "51b859b5-961f-49b1-bfe4-c2b8952d5e03",
   "metadata": {},
   "outputs": [
    {
     "name": "stdout",
     "output_type": "stream",
     "text": [
      "Positional arguments: 1 2\n",
      "Flag: True\n"
     ]
    }
   ],
   "source": [
    "func(1, 2, flag=True)"
   ]
  },
  {
   "cell_type": "markdown",
   "id": "46edb105-a406-409c-aec1-48097a68da4b",
   "metadata": {},
   "source": [
    "Using keyword-only arguments prevents us from calling functions with all positional arguments. But it still allows calling the function with all keyword arguments:"
   ]
  },
  {
   "cell_type": "code",
   "execution_count": 20,
   "id": "c2f7d483-0e13-4687-b593-d7e7993c0e1f",
   "metadata": {},
   "outputs": [
    {
     "name": "stdout",
     "output_type": "stream",
     "text": [
      "Positional arguments: 1 2\n",
      "Flag: True\n"
     ]
    }
   ],
   "source": [
    "func(flag=True, x=1, y=2)"
   ]
  },
  {
   "cell_type": "markdown",
   "id": "0e729682-1d53-4919-a2a7-7be67796f92c",
   "metadata": {},
   "source": [
    "While this is less of a problem, it is still less clear than a combination of both positional and keyword arguments. Positional arguments implicitly provide additional clarity on how the function behaves. They rely on the natural logic of order, which can be understood at a glance. That’s why PEP 570 introduced **positional-only arguments**, whose behavior is equivalent but opposite to keyword-only arguments."
   ]
  },
  {
   "cell_type": "code",
   "execution_count": 21,
   "id": "02a8cbab-354f-4809-92f2-d0c0a37f733d",
   "metadata": {},
   "outputs": [],
   "source": [
    "def func(x, y, /, *, flag):\n",
    "    print(\"Positional-only arguments:\", x, y)\n",
    "    print(\"Flag:\", flag)"
   ]
  },
  {
   "cell_type": "markdown",
   "id": "4dc5de61-f113-4532-a7b0-435218da39ab",
   "metadata": {},
   "source": [
    "Here all arguments left of the `/` are positional-only arguments."
   ]
  },
  {
   "cell_type": "code",
   "execution_count": 22,
   "id": "47d684ff-84ec-4bc9-b47a-52d85b74d27e",
   "metadata": {
    "editable": true,
    "slideshow": {
     "slide_type": ""
    },
    "tags": [
     "raises-exception"
    ]
   },
   "outputs": [
    {
     "ename": "TypeError",
     "evalue": "func() got some positional-only arguments passed as keyword arguments: 'x, y'",
     "output_type": "error",
     "traceback": [
      "\u001b[0;31m---------------------------------------------------------------------------\u001b[0m",
      "\u001b[0;31mTypeError\u001b[0m                                 Traceback (most recent call last)",
      "Cell \u001b[0;32mIn[22], line 1\u001b[0m\n\u001b[0;32m----> 1\u001b[0m \u001b[43mfunc\u001b[49m\u001b[43m(\u001b[49m\u001b[43mflag\u001b[49m\u001b[38;5;241;43m=\u001b[39;49m\u001b[38;5;28;43;01mTrue\u001b[39;49;00m\u001b[43m,\u001b[49m\u001b[43m \u001b[49m\u001b[43mx\u001b[49m\u001b[38;5;241;43m=\u001b[39;49m\u001b[38;5;241;43m1\u001b[39;49m\u001b[43m,\u001b[49m\u001b[43m \u001b[49m\u001b[43my\u001b[49m\u001b[38;5;241;43m=\u001b[39;49m\u001b[38;5;241;43m2\u001b[39;49m\u001b[43m)\u001b[49m\n",
      "\u001b[0;31mTypeError\u001b[0m: func() got some positional-only arguments passed as keyword arguments: 'x, y'"
     ]
    }
   ],
   "source": [
    "func(flag=True, x=1, y=2)"
   ]
  },
  {
   "cell_type": "code",
   "execution_count": 23,
   "id": "fdcd676c-565b-4b88-a3bf-cadaa366c85e",
   "metadata": {},
   "outputs": [
    {
     "name": "stdout",
     "output_type": "stream",
     "text": [
      "Positional-only arguments: 1 2\n",
      "Flag: True\n"
     ]
    }
   ],
   "source": [
    "func(1, 2, flag=True)"
   ]
  },
  {
   "cell_type": "markdown",
   "id": "591218ee-b38e-4aa2-9d67-e97cdd50ae49",
   "metadata": {},
   "source": [
    "### Exercises 3\n",
    "\n",
    "1. Write a function that takes any number of strings and an integer `min_length` as parameters. `min_length` should be an optional keyword-only parameter. Return the list of strings longer than `min_length`. By default (when `min_length` not given), it should return a list containing all words.\n",
    "\n",
    "1. Write a function `calculate_total` that accepts positional-only arguments for `price` and `quantity`, and a keyword-only argument `discount` with a default value of 0. The function should return the total price after applying the discount.\n",
    "\n",
    "2. Find examples of functions (or methods) from Python Standard Library that receive keyword-only and positional-only arguments and try them out.\n",
    "\n",
    "## 4. Variable unpacking\n",
    "\n",
    "Variable unpacking refers to the process of breaking down data structures, such as lists, tuples, or dictionaries, into individual variables. This feature allows you to assign values from a collection to variables in a concise and readable manner.\n",
    "\n",
    "### Unpacking Lists and Tuples\n",
    "\n",
    "You can unpack elements of a list or tuple directly into variables."
   ]
  },
  {
   "cell_type": "code",
   "execution_count": 24,
   "id": "7d5f327a-da05-44f0-8d38-47ff3b3ae016",
   "metadata": {},
   "outputs": [
    {
     "name": "stdout",
     "output_type": "stream",
     "text": [
      "1 2 3\n"
     ]
    }
   ],
   "source": [
    "my_list = [1, 2, 3]\n",
    "a, b, c = my_list\n",
    "print(a, b, c)"
   ]
  },
  {
   "cell_type": "code",
   "execution_count": 25,
   "id": "9a1f6c60-480f-40b5-8670-4de725064442",
   "metadata": {},
   "outputs": [
    {
     "name": "stdout",
     "output_type": "stream",
     "text": [
      "4 5 6\n"
     ]
    }
   ],
   "source": [
    "my_tuple = (4, 5, 6)\n",
    "x, y, z = my_tuple\n",
    "print(x, y, z)"
   ]
  },
  {
   "cell_type": "markdown",
   "id": "2d1ecd41-02b7-4017-b185-8c3254b54412",
   "metadata": {},
   "source": [
    "#### Unpacking with `*`\n",
    "The `*` operator can be used to unpack multiple elements into a single variable."
   ]
  },
  {
   "cell_type": "code",
   "execution_count": 12,
   "id": "10ad5b4a-963f-4ff3-a8af-0e4b9a57d766",
   "metadata": {},
   "outputs": [],
   "source": [
    "numbers = [1, 2, 3, 3, 2, 4]\n",
    "first, *middle, last = numbers"
   ]
  },
  {
   "cell_type": "code",
   "execution_count": 13,
   "id": "25e7f30c-d765-4618-88d0-adeb06f40a7a",
   "metadata": {},
   "outputs": [
    {
     "data": {
      "text/plain": [
       "1"
      ]
     },
     "execution_count": 13,
     "metadata": {},
     "output_type": "execute_result"
    }
   ],
   "source": [
    "first"
   ]
  },
  {
   "cell_type": "code",
   "execution_count": 14,
   "id": "62b70b29-eac1-4303-9b6d-1c50744c1c4d",
   "metadata": {},
   "outputs": [
    {
     "data": {
      "text/plain": [
       "[2, 3, 3, 2]"
      ]
     },
     "execution_count": 14,
     "metadata": {},
     "output_type": "execute_result"
    }
   ],
   "source": [
    "middle"
   ]
  },
  {
   "cell_type": "code",
   "execution_count": 15,
   "id": "7f05fa50-d760-4daa-a4d1-079bca4288c7",
   "metadata": {},
   "outputs": [
    {
     "data": {
      "text/plain": [
       "4"
      ]
     },
     "execution_count": 15,
     "metadata": {},
     "output_type": "execute_result"
    }
   ],
   "source": [
    "last"
   ]
  },
  {
   "cell_type": "markdown",
   "id": "e4a4a096-1019-4e36-a949-dda49c891e7b",
   "metadata": {},
   "source": [
    "### Unpacking Dictionaries\n",
    "\n",
    "You can unpack dictionaries using the `**` operator."
   ]
  },
  {
   "cell_type": "code",
   "execution_count": 26,
   "id": "b8a0117e-f514-4082-98a6-eb607a375ce2",
   "metadata": {},
   "outputs": [],
   "source": [
    "def print_info(name, age, city):\n",
    "    print(f\"Name: {name}, Age: {age}, City: {city}\")"
   ]
  },
  {
   "cell_type": "code",
   "execution_count": 27,
   "id": "163d8fca-919f-4859-885f-80896c9467bb",
   "metadata": {},
   "outputs": [
    {
     "name": "stdout",
     "output_type": "stream",
     "text": [
      "Name: Alice, Age: 30, City: New York\n"
     ]
    }
   ],
   "source": [
    "my_dict = {\"name\": \"Alice\", \"age\": 30, \"city\": \"New York\"}\n",
    "print_info(**my_dict)\n",
    "# print_info(name=\"Alice\", age=30, ...)"
   ]
  },
  {
   "cell_type": "markdown",
   "id": "28f6bd53-4dd6-480b-acb7-19de853208f7",
   "metadata": {},
   "source": [
    "### Nested Unpacking\n",
    "\n",
    "You can unpack nested structures directly."
   ]
  },
  {
   "cell_type": "code",
   "execution_count": 29,
   "id": "455560ff-cb5a-4a80-a91f-a4c64eee0a3d",
   "metadata": {},
   "outputs": [
    {
     "name": "stdout",
     "output_type": "stream",
     "text": [
      "1 2 3 4\n"
     ]
    }
   ],
   "source": [
    "nested_list = [1, [2, 3], 4]\n",
    "a, (b, c), d = nested_list\n",
    "print(a, b, c, d)"
   ]
  },
  {
   "cell_type": "markdown",
   "id": "fd6de746-68f2-48d0-9eca-326aa88a6566",
   "metadata": {},
   "source": [
    "### Ignoring Values During Unpacking\n",
    "\n",
    "Use the `_` (underscore) variable to ignore certain values."
   ]
  },
  {
   "cell_type": "code",
   "execution_count": 33,
   "id": "2c763f05-240b-4605-9f5c-263f93f46c2d",
   "metadata": {},
   "outputs": [
    {
     "name": "stdout",
     "output_type": "stream",
     "text": [
      "20 40\n"
     ]
    }
   ],
   "source": [
    "data = (10, 20, 30, 40)\n",
    "_, b, _, d = data\n",
    "print(b, d)  # Output: 20 40"
   ]
  },
  {
   "cell_type": "markdown",
   "id": "5eeb38d1-6e98-4338-8f63-f968a0cc7c70",
   "metadata": {},
   "source": [
    "### Exercises 4\n",
    "\n",
    "1. Write a function that takes two numbers as arguments and returns their sum, difference, product, and quotient. Call the function and assign the result to 4 different variables.\n",
    "1. Using `*` unpacking and `range`, print the numbers 1 to 20, separated by commas. You will have to provide an argument for `print` function's `sep` parameter for this exercise.\n",
    "1. Modify your code from the previous exercise so that each number prints on a different line. You can only use a single `print` call.\n",
    "1. Print a sentence using the following dictionary, the `str.format` method and `**` unpacking:\n",
    "    ```python\n",
    "    country = {\n",
    "        \"name\": \"Romania\",\n",
    "        \"population\": \"19 million\",\n",
    "        \"capital\": \"Bucharest\",\n",
    "        \"currency\": \"RON\"\n",
    "    }\n",
    "    ```\n",
    "    E.g.\n",
    "    > Romania has a population of 19 million people. The capital is Bucharest and uses RON as currency."
   ]
  },
  {
   "cell_type": "markdown",
   "id": "68bb6452",
   "metadata": {},
   "source": [
    "## 5. Comprehensions\n",
    "\n",
    "Comprehensions in Python provide us with a short and concise way to construct new iterables (such as lists, set, dictionary) using iterables which have been already defined. Python supports the following 4 types of comprehensions:\n",
    "\n",
    "* List Comprehensions\n",
    "* Dictionary Comprehensions\n",
    "* Set Comprehensions\n",
    "* Generator Comprehensions (discussed in a following section)\n",
    "\n",
    "### 5.1. List comprehensions\n",
    "\n",
    "#### `[expression_containing(x) for x in iterable]`"
   ]
  },
  {
   "cell_type": "code",
   "execution_count": 34,
   "id": "1f50a6c2",
   "metadata": {},
   "outputs": [
    {
     "data": {
      "text/plain": [
       "[0, 1, 8, 27, 64]"
      ]
     },
     "execution_count": 34,
     "metadata": {},
     "output_type": "execute_result"
    }
   ],
   "source": [
    "[x ** 3 for x in range(5)]"
   ]
  },
  {
   "cell_type": "code",
   "execution_count": 35,
   "id": "2e8abaf1",
   "metadata": {},
   "outputs": [
    {
     "data": {
      "text/plain": [
       "['Sun', 'Moon', 'Earth']"
      ]
     },
     "execution_count": 35,
     "metadata": {},
     "output_type": "execute_result"
    }
   ],
   "source": [
    "[s.capitalize() for s in ('sun', 'moon', 'earth')]"
   ]
  },
  {
   "cell_type": "code",
   "execution_count": 36,
   "id": "64a35e3d",
   "metadata": {},
   "outputs": [
    {
     "data": {
      "text/plain": [
       "[[], [], [], [], [], [], [], [], [], []]"
      ]
     },
     "execution_count": 36,
     "metadata": {},
     "output_type": "execute_result"
    }
   ],
   "source": [
    "[[] for _ in range(10)]"
   ]
  },
  {
   "cell_type": "markdown",
   "id": "1d9bedb5",
   "metadata": {},
   "source": [
    "####  `[expression_containing(x) for x in iterable if condition(x)]`"
   ]
  },
  {
   "cell_type": "code",
   "execution_count": 37,
   "id": "60d9e0c5",
   "metadata": {},
   "outputs": [
    {
     "data": {
      "text/plain": [
       "[9, 81, 225]"
      ]
     },
     "execution_count": 37,
     "metadata": {},
     "output_type": "execute_result"
    }
   ],
   "source": [
    "[x ** 2 for x in range(20) if x % 3 == 0 and x % 2 != 0]"
   ]
  },
  {
   "cell_type": "markdown",
   "id": "f8567869",
   "metadata": {},
   "source": [
    "### Exercises 5.1\n",
    "\n",
    "1. Write a list comprehension that creates a list of numbers from 1 to 20 that are divisible by 3.\n",
    "1. Write a list comprehension that transforms all strings in a list by making them all lowercase and by replacing `a`s with `*`s.\n",
    "1. Write a list comprehension that creates a list of all the words in a given string that have more than 3 letters.\n",
    "\n",
    "### 5.2. Dictionary comprehensions\n",
    "\n",
    "They are very similar to list comprehensions, but should build a key-value mapping."
   ]
  },
  {
   "cell_type": "code",
   "execution_count": 38,
   "id": "e2eaa8bb",
   "metadata": {},
   "outputs": [
    {
     "data": {
      "text/plain": [
       "{'Jane': 4, 'Ann': 3, 'George': 6}"
      ]
     },
     "execution_count": 38,
     "metadata": {},
     "output_type": "execute_result"
    }
   ],
   "source": [
    "{name: len(name) for name in ['Jane', 'Ann', 'George']}"
   ]
  },
  {
   "cell_type": "code",
   "execution_count": 39,
   "id": "5c2effef",
   "metadata": {},
   "outputs": [
    {
     "data": {
      "text/plain": [
       "{1: 'one', 3: 'three'}"
      ]
     },
     "execution_count": 39,
     "metadata": {},
     "output_type": "execute_result"
    }
   ],
   "source": [
    "{x[0]: x[1] for x in [(1, 'one'), (2, 'two'), (3, 'three')] if x[0] % 2 == 1}"
   ]
  },
  {
   "cell_type": "code",
   "execution_count": 40,
   "id": "b47cb1ae",
   "metadata": {},
   "outputs": [
    {
     "data": {
      "text/plain": [
       "{1: 'one', 3: 'three'}"
      ]
     },
     "execution_count": 40,
     "metadata": {},
     "output_type": "execute_result"
    }
   ],
   "source": [
    "{k: v for k, v in [(1, 'one'), (2, 'two'), (3, 'three')] if k % 2 == 1}"
   ]
  },
  {
   "cell_type": "markdown",
   "id": "f891ad51",
   "metadata": {},
   "source": [
    "### Exercises 5.2\n",
    "\n",
    "1. Create a dict `{\"a\": 97, \"b\": 98, ... }` using comprehension. Use `ord` built-in to obtain ASCII code and `string.ascii_lowercase` to get all letters.\n",
    "1. Using the dictionary generated above, create another one where you swap keys and values. \n",
    "1. Filter the above dictionary to contain only even keys. \n",
    "\n",
    "### 5.3. Set comprehensions\n",
    "\n",
    "Again, similar to the two above, use curly brackets, but they are flat."
   ]
  },
  {
   "cell_type": "code",
   "execution_count": 41,
   "id": "e4cbf5b3",
   "metadata": {},
   "outputs": [
    {
     "data": {
      "text/plain": [
       "{2, 4, 6, 8}"
      ]
     },
     "execution_count": 41,
     "metadata": {},
     "output_type": "execute_result"
    }
   ],
   "source": [
    "{x*2 for x in [1, 3, 1, 2, 4, 1, 4, 3, 3]}"
   ]
  },
  {
   "cell_type": "code",
   "execution_count": 42,
   "id": "84688962",
   "metadata": {},
   "outputs": [
    {
     "data": {
      "text/plain": [
       "{'c', 'e', 'h', 'i', 'm', 'n', 'o', 'p', 'r', 's', 't'}"
      ]
     },
     "execution_count": 42,
     "metadata": {},
     "output_type": "execute_result"
    }
   ],
   "source": [
    "{s for s in 'set comprehension 101' if s.isalpha()}"
   ]
  },
  {
   "cell_type": "markdown",
   "id": "fba5782b",
   "metadata": {},
   "source": [
    "### Exercises 5.3\n",
    "\n",
    "1. Write a set comprehension to get all lowercase words in a text.\n",
    "\n",
    "### 5.4. Nested comprehensions\n",
    "\n",
    "Nested comprehensions are a concise way to generate complex lists, sets, or dictionaries by using comprehensions within comprehensions. They allow for the creation of nested structures in a more readable and compact form compared to traditional loops.\n",
    "\n",
    "#### Creating a nested structure\n",
    "\n",
    "A basic nested list comprehension involves creating a list of lists or other nested structures."
   ]
  },
  {
   "cell_type": "code",
   "execution_count": 43,
   "id": "53925508-63d9-4070-891f-017a2636a23d",
   "metadata": {},
   "outputs": [
    {
     "data": {
      "text/plain": [
       "[[1, 2, 3, 4, 5],\n",
       " [2, 4, 6, 8, 10],\n",
       " [3, 6, 9, 12, 15],\n",
       " [4, 8, 12, 16, 20],\n",
       " [5, 10, 15, 20, 25]]"
      ]
     },
     "execution_count": 43,
     "metadata": {},
     "output_type": "execute_result"
    }
   ],
   "source": [
    "[[i * j for j in range(1, 6)] for i in range(1, 6)]  # multiplication table"
   ]
  },
  {
   "cell_type": "markdown",
   "id": "6b6cdf83-7553-4d55-9762-8ebf34b57c79",
   "metadata": {},
   "source": [
    "#### Flattening a nested structure\n",
    "\n",
    "You can also use nested comprehensions to flatten a list of lists into a single list:"
   ]
  },
  {
   "cell_type": "code",
   "execution_count": 17,
   "id": "5fecaca2-5232-4542-a321-75901d5355e7",
   "metadata": {},
   "outputs": [],
   "source": [
    "nested_list = [[1, 2, 3], [4, 5], [6, 7, 8, 9]]"
   ]
  },
  {
   "cell_type": "code",
   "execution_count": 18,
   "id": "894bcf27-07f1-447d-bb88-eabef45ad41e",
   "metadata": {},
   "outputs": [],
   "source": [
    "flattened_list = [item*2 for sublist in nested_list for item in sublist if item % 2 == 0]"
   ]
  },
  {
   "cell_type": "code",
   "execution_count": 19,
   "id": "e654e989-43dd-42c1-a6e8-1267f16a7db7",
   "metadata": {},
   "outputs": [
    {
     "data": {
      "text/plain": [
       "[4, 8, 12, 16]"
      ]
     },
     "execution_count": 19,
     "metadata": {},
     "output_type": "execute_result"
    }
   ],
   "source": [
    "flattened_list"
   ]
  },
  {
   "cell_type": "markdown",
   "id": "c212ceee",
   "metadata": {},
   "source": [
    "### Exercises 5.4\n",
    "\n",
    "1. Write a nested set comprehension to generate a set of all unique pairs `(i, j)` where `i` is from the list `[1, 2, 3]` and `j` is from the list `[1, 1, 2]`.\n",
    "1. Write a nested set comprehension to flatten a nested list `[[1, 2, 3, 4], [4, 5, 6, 7], [6, 7, 8, 9]] -> {1, 2, 3, 4, 5, 6, 7, 8, 9}`.\n",
    "1. Write a nested dictionary comprehension to create a dictionary where the keys are words and the values are dictionaries of occurrences (keys -> characters, values -> number of occurrences in word), starting from a sentence.\n",
    "E.g. \n",
    "    ```python\n",
    "    text = \"hello everyone\"\n",
    "    # should produce\n",
    "    occurrences_dict = {\n",
    "        'hello': {'h': 1, 'e': 1, 'l': 2, 'o': 1},\n",
    "        'everyone': {'e': 3, 'v': 1, 'r': 1, 'y': 1, 'o': 1, 'n': 1}\n",
    "    }\n",
    "    ```\n",
    "1. Write a nested list comprehension to transpose a 3x3 matrix (switch its rows and columns).\n",
    "\n",
    "\n",
    "## 6. Iterators\n",
    "\n",
    "In Python, an **iterable** is anything that you can iterate over. **Iterators** are lazy single-use iterables: \n",
    "\n",
    "* they are \"lazy\", because they have the ability to only compute items as you loop over them\n",
    "* they are \"single-use\", because once you've consumed an item from a iterator, you cannot go back to it; after looping over the iterator, it is exhausted\n",
    "\n",
    "You can get an iterator from any iterable, by using the `iter()` function:"
   ]
  },
  {
   "cell_type": "code",
   "execution_count": 47,
   "id": "fd94bc9a",
   "metadata": {},
   "outputs": [
    {
     "data": {
      "text/plain": [
       "<list_iterator at 0x107aba1d0>"
      ]
     },
     "execution_count": 47,
     "metadata": {},
     "output_type": "execute_result"
    }
   ],
   "source": [
    "iter([1, 2])"
   ]
  },
  {
   "cell_type": "markdown",
   "id": "1baa6546",
   "metadata": {},
   "source": [
    "You can get the next item in an iterator by using the `next()` function:"
   ]
  },
  {
   "cell_type": "code",
   "execution_count": 48,
   "id": "c18c9714",
   "metadata": {},
   "outputs": [
    {
     "data": {
      "text/plain": [
       "'h'"
      ]
     },
     "execution_count": 48,
     "metadata": {},
     "output_type": "execute_result"
    }
   ],
   "source": [
    "my_iterator = iter('hi')\n",
    "next(my_iterator)"
   ]
  },
  {
   "cell_type": "code",
   "execution_count": 49,
   "id": "99527644",
   "metadata": {},
   "outputs": [
    {
     "data": {
      "text/plain": [
       "'i'"
      ]
     },
     "execution_count": 49,
     "metadata": {},
     "output_type": "execute_result"
    }
   ],
   "source": [
    "next(my_iterator)"
   ]
  },
  {
   "cell_type": "markdown",
   "id": "b01d3bcd",
   "metadata": {},
   "source": [
    "`StopIteration` is raised when there are no more items in the iterator:"
   ]
  },
  {
   "cell_type": "code",
   "execution_count": 50,
   "id": "a2b4fbc2",
   "metadata": {
    "editable": true,
    "slideshow": {
     "slide_type": ""
    },
    "tags": [
     "raises-exception"
    ]
   },
   "outputs": [
    {
     "ename": "StopIteration",
     "evalue": "",
     "output_type": "error",
     "traceback": [
      "\u001b[0;31m---------------------------------------------------------------------------\u001b[0m",
      "\u001b[0;31mStopIteration\u001b[0m                             Traceback (most recent call last)",
      "Cell \u001b[0;32mIn[50], line 1\u001b[0m\n\u001b[0;32m----> 1\u001b[0m \u001b[38;5;28;43mnext\u001b[39;49m\u001b[43m(\u001b[49m\u001b[43mmy_iterator\u001b[49m\u001b[43m)\u001b[49m\n",
      "\u001b[0;31mStopIteration\u001b[0m: "
     ]
    }
   ],
   "source": [
    "next(my_iterator)"
   ]
  },
  {
   "cell_type": "markdown",
   "id": "04a3765d",
   "metadata": {},
   "source": [
    "All iterators are also iterables, meaning you can get an iterator from an iterator (it’ll give you itself back):"
   ]
  },
  {
   "cell_type": "code",
   "execution_count": 51,
   "id": "d10c0dbd",
   "metadata": {},
   "outputs": [
    {
     "data": {
      "text/plain": [
       "True"
      ]
     },
     "execution_count": 51,
     "metadata": {},
     "output_type": "execute_result"
    }
   ],
   "source": [
    "my_iterator = iter([1, 2])\n",
    "other_iterator = iter(my_iterator)\n",
    "my_iterator == other_iterator"
   ]
  },
  {
   "cell_type": "markdown",
   "id": "4be3305b",
   "metadata": {},
   "source": [
    "You can iterate on iterators:"
   ]
  },
  {
   "cell_type": "code",
   "execution_count": 52,
   "id": "ce5eb5ea",
   "metadata": {},
   "outputs": [
    {
     "name": "stdout",
     "output_type": "stream",
     "text": [
      "1\n",
      "2\n"
     ]
    }
   ],
   "source": [
    "for item in my_iterator:\n",
    "    print(item)"
   ]
  },
  {
   "cell_type": "markdown",
   "id": "8c638e4b",
   "metadata": {},
   "source": [
    "Iterators are stateful, meaning once you’ve consumed an item from an iterator, it’s gone. After you’ve looped over an iterator once, it’ll be empty if you try to loop over it again:"
   ]
  },
  {
   "cell_type": "code",
   "execution_count": 53,
   "id": "22c3d418",
   "metadata": {},
   "outputs": [
    {
     "name": "stdout",
     "output_type": "stream",
     "text": [
      "[]\n"
     ]
    }
   ],
   "source": [
    "items_left = []\n",
    "for item in my_iterator:\n",
    "    items_left.append(item)\n",
    "print(items_left)"
   ]
  },
  {
   "cell_type": "markdown",
   "id": "c64be8fb",
   "metadata": {},
   "source": [
    "## 7. Generators\n",
    "\n",
    "Python generators are a simple way of creating iterators. Simply speaking, a generator is a function that returns an object (iterator) which we can iterate over (one value at a time).\n",
    "Read more on differences between iterables, iterators and generators [here](https://nvie.com/posts/iterators-vs-generators/).\n",
    "\n",
    "### 7.1. Generator functions\n",
    "\n",
    "Generator functions use `yield` keyword instead of `return`. The difference is that while a `return` statement terminates a function entirely, `yield` statement pauses the function saving all its states and later continues from there on successive calls."
   ]
  },
  {
   "cell_type": "code",
   "execution_count": 54,
   "id": "4df898e5",
   "metadata": {},
   "outputs": [
    {
     "data": {
      "text/plain": [
       "<generator object generator_func at 0x108070f60>"
      ]
     },
     "execution_count": 54,
     "metadata": {},
     "output_type": "execute_result"
    }
   ],
   "source": [
    "def generator_func():\n",
    "    yield 1\n",
    "    yield 2\n",
    "gen_obj = generator_func()\n",
    "gen_obj"
   ]
  },
  {
   "cell_type": "markdown",
   "id": "37184667",
   "metadata": {},
   "source": [
    "The resulting generator object is an iterator. We can get items from it using `next()`:"
   ]
  },
  {
   "cell_type": "code",
   "execution_count": 55,
   "id": "40d1ba7e",
   "metadata": {},
   "outputs": [
    {
     "name": "stdout",
     "output_type": "stream",
     "text": [
      "1\n",
      "2\n",
      "Generator exhausted.\n"
     ]
    }
   ],
   "source": [
    "while True:\n",
    "    try:\n",
    "        print(next(gen_obj))\n",
    "    except StopIteration:\n",
    "        print('Generator exhausted.')\n",
    "        break"
   ]
  },
  {
   "cell_type": "markdown",
   "id": "353bbe0a",
   "metadata": {},
   "source": [
    "Normally, generator functions are implemented with a loop having a suitable terminating condition."
   ]
  },
  {
   "cell_type": "code",
   "execution_count": 34,
   "id": "be60f5c1",
   "metadata": {},
   "outputs": [],
   "source": [
    "def squares(start, stop):\n",
    "    for i in range(start, stop):\n",
    "        yield i ** 2"
   ]
  },
  {
   "cell_type": "code",
   "execution_count": 35,
   "id": "de62b899",
   "metadata": {},
   "outputs": [
    {
     "name": "stdout",
     "output_type": "stream",
     "text": [
      "10000\n",
      "10201\n",
      "10404\n",
      "10609\n",
      "10816\n"
     ]
    }
   ],
   "source": [
    "for num in squares(100, 105):\n",
    "    print(num)"
   ]
  },
  {
   "cell_type": "markdown",
   "id": "69f285c5",
   "metadata": {},
   "source": [
    "### 7.2. Generator expressions\n",
    "\n",
    "Simple generators can be easily created on the fly using generator expressions. Generator expressions look very similar to list comprehension, but they use parantheses instead of square brackets.\n",
    "\n",
    "They have lazy execution (producing items only when asked for). For this reason, a generator expression is much more memory efficient than an equivalent list comprehension."
   ]
  },
  {
   "cell_type": "code",
   "execution_count": 58,
   "id": "b8cf9cf7",
   "metadata": {},
   "outputs": [
    {
     "name": "stdout",
     "output_type": "stream",
     "text": [
      "<generator object <genexpr> at 0x108110860>\n",
      "10000\n",
      "10201\n",
      "10404\n",
      "10609\n",
      "10816\n"
     ]
    }
   ],
   "source": [
    "squares_generator = (x ** 2 for x in range(100, 105))\n",
    "print(squares_generator)\n",
    "for num in squares_generator:\n",
    "    print(num)"
   ]
  },
  {
   "cell_type": "markdown",
   "id": "bcc54173",
   "metadata": {},
   "source": [
    "### Exercises 7\n",
    "\n",
    "1. Create a generator function that receives a parameter `max_nr` and yields a random number between `1` and `max_nr`, indefinitely. From outside, iterate it in a loop that stops after 10 cycles. \n",
    "1. Write a generator function that yields unique elements from an iterable received as parameter.\n",
    "1. Write a generator function that takes a path and a file extension as positional-only arguments (both as strings), and a boolean `recursive` as keyword-only argument. The function will yield all files with the `extension` extension in `path`; if `recursive` is true, if will also search inside subdirectories of `path`. Use `os.walk` or `glob.iglob`."
   ]
  },
  {
   "cell_type": "markdown",
   "id": "9630ec28",
   "metadata": {},
   "source": [
    "## 8. Anonymous functions (`lambda`)\n",
    "\n",
    "Python lambdas are short, anonymous functions, subject to a more restrictive but more concise syntax than regular Python functions. They are throw away functions, one purpose only, used mainly as parameters to functions that expect callables.\n",
    "\n",
    "#### Syntax: `lambda arguments: expression`\n",
    "\n",
    "A lambda function can have any number of arguments but can have only one expression. It cannot contain any statements and it returns a function object."
   ]
  },
  {
   "cell_type": "code",
   "execution_count": 59,
   "id": "42e731d0",
   "metadata": {},
   "outputs": [
    {
     "data": {
      "text/plain": [
       "<function __main__.<lambda>(x)>"
      ]
     },
     "execution_count": 59,
     "metadata": {},
     "output_type": "execute_result"
    }
   ],
   "source": [
    "lambda x: x + 2"
   ]
  },
  {
   "cell_type": "code",
   "execution_count": 60,
   "id": "f047063d",
   "metadata": {},
   "outputs": [
    {
     "data": {
      "text/plain": [
       "225"
      ]
     },
     "execution_count": 60,
     "metadata": {},
     "output_type": "execute_result"
    }
   ],
   "source": [
    "(lambda x: x ** 2)(15)"
   ]
  },
  {
   "cell_type": "code",
   "execution_count": 61,
   "id": "cc124a59",
   "metadata": {},
   "outputs": [
    {
     "data": {
      "text/plain": [
       "4"
      ]
     },
     "execution_count": 61,
     "metadata": {},
     "output_type": "execute_result"
    }
   ],
   "source": [
    "(lambda x, y: x.index(y))(\"say something\", \"some\")"
   ]
  },
  {
   "cell_type": "markdown",
   "id": "b444ae76",
   "metadata": {},
   "source": [
    "## 9. Built-in functions (`filter`, `map`, `enumerate`, `sorted`, `zip`)\n",
    "\n",
    "These are some of the most important built-in functions that receive iterables as parameters and produce iterables.\n",
    "\n",
    "#### `filter(function, iterable)`\n",
    "Construct an iterator from those elements of iterable for which function returns true."
   ]
  },
  {
   "cell_type": "code",
   "execution_count": 62,
   "id": "9cb2f000",
   "metadata": {},
   "outputs": [
    {
     "name": "stdout",
     "output_type": "stream",
     "text": [
      "(0, 1)\n",
      "hello\n"
     ]
    }
   ],
   "source": [
    "for x in filter(len, [(), [], (0, 1), '', 'hello']):\n",
    "    print(x)"
   ]
  },
  {
   "cell_type": "code",
   "execution_count": 63,
   "id": "7c880e03",
   "metadata": {},
   "outputs": [
    {
     "name": "stdout",
     "output_type": "stream",
     "text": [
      "2\n",
      "6\n",
      "8\n"
     ]
    }
   ],
   "source": [
    "for nr in filter(lambda x: x % 2 == 0, [2, 1, 6, 8, 3, 5]):\n",
    "    print(nr)"
   ]
  },
  {
   "cell_type": "markdown",
   "id": "29fd5937",
   "metadata": {},
   "source": [
    "#### `map(function, iterable)`\n",
    "Return an iterator that applies function to every item of iterable, yielding the results."
   ]
  },
  {
   "cell_type": "code",
   "execution_count": 64,
   "id": "cbe00056",
   "metadata": {},
   "outputs": [
    {
     "name": "stdout",
     "output_type": "stream",
     "text": [
      "Paris\n",
      "London\n",
      "Milan\n"
     ]
    }
   ],
   "source": [
    "for x in map(str.capitalize, ['paris', 'london', 'milan']):\n",
    "    print(x)"
   ]
  },
  {
   "cell_type": "code",
   "execution_count": 65,
   "id": "abb99364",
   "metadata": {},
   "outputs": [
    {
     "name": "stdout",
     "output_type": "stream",
     "text": [
      "0\n",
      "1\n",
      "8\n",
      "27\n",
      "64\n"
     ]
    }
   ],
   "source": [
    "for nr in map(lambda x: x ** 3, range(5)):\n",
    "    print(nr)"
   ]
  },
  {
   "cell_type": "markdown",
   "id": "b4fa82f1",
   "metadata": {},
   "source": [
    "#### `enumerate(iterable, start=0)`\n",
    "Returns an enumerate object which is an iterator that yields tuples containing a count (from start which defaults to 0) and the values obtained from iterating over iterable."
   ]
  },
  {
   "cell_type": "code",
   "execution_count": 66,
   "id": "48b0e0b6",
   "metadata": {},
   "outputs": [
    {
     "name": "stdout",
     "output_type": "stream",
     "text": [
      "0 h\n",
      "1 e\n",
      "2 l\n",
      "3 l\n",
      "4 o\n"
     ]
    }
   ],
   "source": [
    "for index, char in enumerate(\"hello\"):\n",
    "    print(index, char)"
   ]
  },
  {
   "cell_type": "markdown",
   "id": "e85e3b1c",
   "metadata": {},
   "source": [
    "#### `sorted(iterable, key=None, reverse=False)`\n",
    "Return a new sorted list from the items in iterable.\n",
    "\n",
    "Has two optional arguments which must be specified as keyword arguments:\n",
    "\n",
    "* `key` specifies a function of one argument that is used to extract a comparison key from each element in iterable (for example, `key=str.lower`). The default value is None (compare the elements directly).\n",
    "* `reverse` is a boolean value. If set to True, then the list elements are sorted as if each comparison were reversed."
   ]
  },
  {
   "cell_type": "code",
   "execution_count": 67,
   "id": "a2c3ec84",
   "metadata": {},
   "outputs": [
    {
     "data": {
      "text/plain": [
       "['hello', 'bye', 'hi']"
      ]
     },
     "execution_count": 67,
     "metadata": {},
     "output_type": "execute_result"
    }
   ],
   "source": [
    "sorted(('hi', 'hello', 'bye'), key=len, reverse=True)"
   ]
  },
  {
   "cell_type": "markdown",
   "id": "8f3c1e94",
   "metadata": {},
   "source": [
    "#### `zip(*iterables)`\n",
    "Make an iterator that aggregates elements from each of the iterables.\n",
    "\n",
    "Returns an iterator of tuples, where the i-th tuple contains the i-th element from each of the argument sequences or iterables. The iterator stops when the shortest input iterable is exhausted."
   ]
  },
  {
   "cell_type": "code",
   "execution_count": 2,
   "id": "8bb3554f",
   "metadata": {},
   "outputs": [
    {
     "name": "stdout",
     "output_type": "stream",
     "text": [
      "Anne 20 h\n",
      "Luke 27 e\n",
      "Jane 34 l\n"
     ]
    }
   ],
   "source": [
    "for name, age, char in zip(['Anne', 'Luke', 'Jane'], range(20, 40, 7), iter(\"hello\")):\n",
    "    print(name, age, char)"
   ]
  },
  {
   "cell_type": "markdown",
   "id": "bdd60797",
   "metadata": {},
   "source": [
    "### Exercises 9\n",
    "\n",
    "1. Write a function `filter_short_words(word_list, n)` that returns the words in `word_list` shorter than `n`. Use `filter` built-in function and a lambda function.\n",
    "1. Write a function that takes a list of tuples, where each tuple contains two integers, and returns an iterable containing the product of the two integers in each tuple. Use the `map` function and a lambda function to implement this.\n",
    "1. Write a function that receives any number of strings and returns the list of unique strings ordered by number of appearances (most frequent → least frequent). \n",
    "Use `sorted` built-in function.\n",
    "    \n",
    "    E.g. `f('hello', 'there', 'hello', 'hi', 'hi', 'hello')` -> `['hello', 'hi', 'there']`\n",
    "1. Write your own implementation for map function (or any other function mentioned above).\n",
    "\n",
    "\n",
    "## 10. `itertools` module\n",
    "\n",
    "`itertools` is a standard library module that provides a collection of fast, memory-efficient tools for performing iterative tasks. These tools are designed to work with iterators and can be used to construct and manipulate iterators for various combinatorial and algebraic operations. The `itertools` module offers several functions that make it easy to work with infinite and finite iterators, and it helps to create and manipulate complex iterators with less code.\n",
    "\n",
    "\n",
    "### Infinite Iterators\n",
    "\n",
    "1. **`itertools.count(start=0, step=1)`**\n",
    "   - Generates an infinite sequence of numbers, starting from `start` and incremented by `step`."
   ]
  },
  {
   "cell_type": "code",
   "execution_count": 69,
   "id": "f4678202-3e6a-48f4-bccb-501ef6ddce92",
   "metadata": {},
   "outputs": [
    {
     "name": "stdout",
     "output_type": "stream",
     "text": [
      "10 12 14 16 18 20 "
     ]
    }
   ],
   "source": [
    "import itertools\n",
    "\n",
    "for num in itertools.count(10, 2):\n",
    "    if num > 20:\n",
    "        break\n",
    "    print(num, end=\" \")"
   ]
  },
  {
   "cell_type": "markdown",
   "id": "c28721d1-de0c-4849-aaca-9d4005012f90",
   "metadata": {},
   "source": [
    "2. **`itertools.cycle(iterable)`**\n",
    "   - Cycles through the elements of an iterable indefinitely."
   ]
  },
  {
   "cell_type": "code",
   "execution_count": 70,
   "id": "46370b57-4e22-42fa-b4ea-2645370e0c70",
   "metadata": {},
   "outputs": [
    {
     "name": "stdout",
     "output_type": "stream",
     "text": [
      "A B C D A B C D A B C "
     ]
    }
   ],
   "source": [
    "count = 0\n",
    "for item in itertools.cycle('ABCD'):\n",
    "    if count > 10:\n",
    "        break\n",
    "    print(item, end=\" \")\n",
    "    count += 1"
   ]
  },
  {
   "cell_type": "markdown",
   "id": "1a892bf2-d604-4852-a64f-5419058d7a92",
   "metadata": {},
   "source": [
    "3. **`itertools.repeat(object, times=None)`**\n",
    "   - Repeats an object a specified number of times (or indefinitely if `times` is `None`)."
   ]
  },
  {
   "cell_type": "code",
   "execution_count": 71,
   "id": "0fe423da-017b-4179-a586-4a3b5bed24cb",
   "metadata": {},
   "outputs": [
    {
     "name": "stdout",
     "output_type": "stream",
     "text": [
      "hello\n",
      "hello\n",
      "hello\n"
     ]
    }
   ],
   "source": [
    "for item in itertools.repeat(\"hello\", 3):\n",
    "    print(item)"
   ]
  },
  {
   "cell_type": "markdown",
   "id": "d312cb66-3af6-4c1c-83c6-c5ccfed1c0e2",
   "metadata": {},
   "source": [
    "### Combinatoric Iterators\n",
    "\n",
    "1. **`itertools.product(*iterables, repeat=1)`**\n",
    "   - Computes the Cartesian product of input iterables."
   ]
  },
  {
   "cell_type": "code",
   "execution_count": 72,
   "id": "94940838-fea8-4366-ab97-193e8bb79efe",
   "metadata": {},
   "outputs": [
    {
     "name": "stdout",
     "output_type": "stream",
     "text": [
      "('A', '1')\n",
      "('A', '2')\n",
      "('B', '1')\n",
      "('B', '2')\n"
     ]
    }
   ],
   "source": [
    "for item in itertools.product(\"AB\", \"12\"):\n",
    "    print(item)"
   ]
  },
  {
   "cell_type": "markdown",
   "id": "2c9bc15c-592c-4a57-9e24-6dfb92e8c216",
   "metadata": {},
   "source": [
    "2. **`itertools.permutations(iterable, r=None)`**\n",
    "   - Generates all possible permutations of the elements in the iterable."
   ]
  },
  {
   "cell_type": "code",
   "execution_count": 73,
   "id": "ebd37883-aa5f-4860-bc9c-164c46a0e9e1",
   "metadata": {},
   "outputs": [
    {
     "name": "stdout",
     "output_type": "stream",
     "text": [
      "('A', 'B')\n",
      "('A', 'C')\n",
      "('B', 'A')\n",
      "('B', 'C')\n",
      "('C', 'A')\n",
      "('C', 'B')\n"
     ]
    }
   ],
   "source": [
    "for item in itertools.permutations(\"ABC\", 2):\n",
    "    print(item)"
   ]
  },
  {
   "cell_type": "markdown",
   "id": "2bab9914-42bb-4d11-9fca-b28cad618ed5",
   "metadata": {},
   "source": [
    "3. **`itertools.combinations(iterable, r)`**\n",
    "   - Generates all possible combinations of `r` elements from the iterable."
   ]
  },
  {
   "cell_type": "code",
   "execution_count": 74,
   "id": "c65f2bb0-6797-4d84-a083-32165e5ba108",
   "metadata": {},
   "outputs": [
    {
     "name": "stdout",
     "output_type": "stream",
     "text": [
      "('A', 'B')\n",
      "('A', 'C')\n",
      "('B', 'C')\n"
     ]
    }
   ],
   "source": [
    "for item in itertools.combinations(\"ABC\", 2):\n",
    "    print(item)"
   ]
  },
  {
   "cell_type": "markdown",
   "id": "19632538-5813-4d00-bafb-a0166bef587f",
   "metadata": {},
   "source": [
    "### Filtering Iterators\n",
    "\n",
    "1. **`itertools.compress(data, selectors)`**\n",
    "   - Filters elements from `data` using `selectors` (another iterable of boolean values)."
   ]
  },
  {
   "cell_type": "code",
   "execution_count": 75,
   "id": "cb34a7a3-2590-4e60-a27a-c230eba65498",
   "metadata": {},
   "outputs": [
    {
     "name": "stdout",
     "output_type": "stream",
     "text": [
      "['A', 'C', 'E']\n"
     ]
    }
   ],
   "source": [
    "data = \"ABCDEF\"\n",
    "selectors = [1, 0, 1, 0, 1, 0]\n",
    "result = itertools.compress(data, selectors)\n",
    "print(list(result))"
   ]
  },
  {
   "cell_type": "markdown",
   "id": "95d5f738-04e1-4b33-a0da-88650253dd8c",
   "metadata": {},
   "source": [
    "2. **`itertools.dropwhile(predicate, iterable)`**\n",
    "   - Drops elements from the iterable as long as the predicate is true, then returns the rest."
   ]
  },
  {
   "cell_type": "code",
   "execution_count": 76,
   "id": "0a836490-357e-492b-9259-18a4296ba2a4",
   "metadata": {},
   "outputs": [
    {
     "data": {
      "text/plain": [
       "[6, 4, 1]"
      ]
     },
     "execution_count": 76,
     "metadata": {},
     "output_type": "execute_result"
    }
   ],
   "source": [
    "result = itertools.dropwhile(lambda x: x < 5, [1, 4, 6, 4, 1])\n",
    "list(result)"
   ]
  },
  {
   "cell_type": "markdown",
   "id": "b0d37151-6f14-4835-a00e-2d6cfc24ffb8",
   "metadata": {},
   "source": [
    "3. **`itertools.takewhile(predicate, iterable)`**\n",
    "   - Returns elements from the iterable as long as the predicate is true."
   ]
  },
  {
   "cell_type": "code",
   "execution_count": 77,
   "id": "44c557ff-cb32-42b3-a948-d2bee75916e9",
   "metadata": {},
   "outputs": [
    {
     "data": {
      "text/plain": [
       "[1, 4]"
      ]
     },
     "execution_count": 77,
     "metadata": {},
     "output_type": "execute_result"
    }
   ],
   "source": [
    "result = itertools.takewhile(lambda x: x < 5, [1, 4, 6, 4, 1])\n",
    "list(result)"
   ]
  },
  {
   "cell_type": "markdown",
   "id": "a772dc8c-939c-4bf5-83bd-d62e09e5c09f",
   "metadata": {},
   "source": [
    "### Combining Iterators\n",
    "\n",
    "1. **`itertools.chain(*iterables)`**\n",
    "   - Combines multiple iterables into a single sequence."
   ]
  },
  {
   "cell_type": "code",
   "execution_count": 78,
   "id": "06f56ae4-ab6d-40de-8f5f-89dbcb667087",
   "metadata": {},
   "outputs": [
    {
     "data": {
      "text/plain": [
       "['A', 'B', 'C', 0, 1, 2, 7, 8, 9]"
      ]
     },
     "execution_count": 78,
     "metadata": {},
     "output_type": "execute_result"
    }
   ],
   "source": [
    "result = itertools.chain(\"ABC\", range(3), [7, 8, 9])\n",
    "list(result)"
   ]
  },
  {
   "cell_type": "markdown",
   "id": "7c114a59-008e-42f5-83c6-5a0621126cbf",
   "metadata": {},
   "source": [
    "2. **`itertools.chain.from_iterable(iterable)`**\n",
    "   - Combines iterables from a single iterable of iterables."
   ]
  },
  {
   "cell_type": "code",
   "execution_count": 79,
   "id": "f89abf21-7b72-4a4e-9d52-af6ee87303e6",
   "metadata": {},
   "outputs": [
    {
     "data": {
      "text/plain": [
       "['A', 'B', 'C', 0, 1, 2, 7, 8, 9]"
      ]
     },
     "execution_count": 79,
     "metadata": {},
     "output_type": "execute_result"
    }
   ],
   "source": [
    "result = itertools.chain.from_iterable([\"ABC\", range(3), [7, 8, 9]])\n",
    "list(result)"
   ]
  },
  {
   "cell_type": "markdown",
   "id": "19862040-9883-4499-9e92-02d6a2b665f8",
   "metadata": {},
   "source": [
    "3. **`itertools.islice(iterable, start, stop, step)`**\n",
    "   - Returns selected elements from the iterable, similar to slicing."
   ]
  },
  {
   "cell_type": "code",
   "execution_count": 80,
   "id": "852e483f-e570-4b8c-85c6-410cd978b648",
   "metadata": {},
   "outputs": [],
   "source": [
    "result = itertools.islice(\"ABCDEFG\", 2, 5)"
   ]
  },
  {
   "cell_type": "code",
   "execution_count": 81,
   "id": "6ec99459-0114-4f67-9619-039869e35680",
   "metadata": {},
   "outputs": [
    {
     "data": {
      "text/plain": [
       "['C', 'D', 'E']"
      ]
     },
     "execution_count": 81,
     "metadata": {},
     "output_type": "execute_result"
    }
   ],
   "source": [
    "list(result)"
   ]
  },
  {
   "cell_type": "markdown",
   "id": "96adbe86-08d6-41e5-9286-fa06150d41f4",
   "metadata": {},
   "source": [
    "### Grouping Iterators\n",
    "\n",
    "1. **`itertools.groupby(iterable, key=None)`**\n",
    "   - Groups adjacent elements of the iterable for which `key(item)` returns the same value. Generally, the iterable needs to already be sorted on the same key function."
   ]
  },
  {
   "cell_type": "code",
   "execution_count": 82,
   "id": "e90b4661-13ac-4d49-a717-86c8e4b7c418",
   "metadata": {},
   "outputs": [
    {
     "data": {
      "text/plain": [
       "['a',\n",
       " 'or',\n",
       " 'of',\n",
       " 'new',\n",
       " 'the',\n",
       " 'the',\n",
       " 'key',\n",
       " 'time',\n",
       " 'break',\n",
       " 'group',\n",
       " 'every',\n",
       " 'value',\n",
       " 'changes',\n",
       " 'function',\n",
       " 'generates']"
      ]
     },
     "execution_count": 82,
     "metadata": {},
     "output_type": "execute_result"
    }
   ],
   "source": [
    "words = ['generates', 'a', 'break', 'or', 'new', 'group', 'every', 'time', 'the', 'value', 'of', 'the', 'key', 'function', 'changes']\n",
    "words.sort(key=len)\n",
    "words"
   ]
  },
  {
   "cell_type": "code",
   "execution_count": 83,
   "id": "dc4578da-6186-49b0-8a7e-75382ed59ce7",
   "metadata": {},
   "outputs": [
    {
     "name": "stdout",
     "output_type": "stream",
     "text": [
      "1 ['a']\n",
      "2 ['or', 'of']\n",
      "3 ['new', 'the', 'the', 'key']\n",
      "4 ['time']\n",
      "5 ['break', 'group', 'every', 'value']\n",
      "7 ['changes']\n",
      "8 ['function']\n",
      "9 ['generates']\n"
     ]
    }
   ],
   "source": [
    "for key, group in itertools.groupby(words, key=len):\n",
    "    print(key, list(group))"
   ]
  },
  {
   "cell_type": "markdown",
   "id": "8e2e70de-455e-4390-a4e5-88f9a6596f16",
   "metadata": {},
   "source": [
    "### Utility Functions\n",
    "\n",
    "1. **`itertools.tee(iterable, n=2)`**\n",
    "   - Returns `n` independent iterators from a single iterable."
   ]
  },
  {
   "cell_type": "code",
   "execution_count": 84,
   "id": "b368473d-3687-47a1-bb78-97b815447c64",
   "metadata": {},
   "outputs": [
    {
     "name": "stdout",
     "output_type": "stream",
     "text": [
      "[1, 2, 3, 4]\n",
      "[1, 2, 3, 4]\n"
     ]
    }
   ],
   "source": [
    "data = [1, 2, 3, 4]\n",
    "iter1, iter2 = itertools.tee(data, 2)\n",
    "print(list(iter1))\n",
    "print(list(iter2))"
   ]
  },
  {
   "cell_type": "markdown",
   "id": "68c29496-c3eb-4b47-b7fe-93ee8ea6cb88",
   "metadata": {},
   "source": [
    "2. **`itertools.zip_longest(*iterables, fillvalue=None)`**\n",
    "   - Zips iterables together, filling in missing values with `fillvalue`."
   ]
  },
  {
   "cell_type": "code",
   "execution_count": 85,
   "id": "d498b82f-508c-4d42-a2d1-d2a03948b5f0",
   "metadata": {},
   "outputs": [
    {
     "name": "stdout",
     "output_type": "stream",
     "text": [
      "[(1, 'a'), (2, 'b'), (3, '-')]\n"
     ]
    }
   ],
   "source": [
    "data1 = [1, 2, 3]\n",
    "data2 = \"ab\"\n",
    "result = itertools.zip_longest(data1, data2, fillvalue='-')\n",
    "print(list(result))"
   ]
  },
  {
   "cell_type": "markdown",
   "id": "8f1fade9-b8c2-4de0-a94c-0a275541ebd7",
   "metadata": {},
   "source": [
    "3. **`itertools.starmap(func, seq)`**\n",
    "   - Similar to built-in `map`, but works with functions with multiple arguments. `seq` will be an iterable of n-length sequences, where `n` is the number of parameters expected by `func`. Returns an iterator containing: `func(*seq[0]), func(*seq[1]), ...`"
   ]
  },
  {
   "cell_type": "code",
   "execution_count": 86,
   "id": "cdf4dcd8-77d8-487b-9934-f196392b0502",
   "metadata": {},
   "outputs": [
    {
     "data": {
      "text/plain": [
       "[49, 27, 1, 256]"
      ]
     },
     "execution_count": 86,
     "metadata": {},
     "output_type": "execute_result"
    }
   ],
   "source": [
    "data = [(7, 2), (3, 3), (100, 0), (4, 4)]\n",
    "result = itertools.starmap(pow, data)\n",
    "list(result)"
   ]
  },
  {
   "cell_type": "markdown",
   "id": "b4259978-5b3c-48e1-beef-a7fc55c6080d",
   "metadata": {},
   "source": [
    "### Exercises 10\n",
    "\n",
    "1. Generate all possible combinations of rolling two six-sided dice.\n",
    "1. Solve the same problem as exercise 9.2 above, but with `starmap`.\n",
    "1. Try out other functions in `itertools` module."
   ]
  }
 ],
 "metadata": {
  "kernelspec": {
   "display_name": "Python 3 (ipykernel)",
   "language": "python",
   "name": "python3"
  },
  "language_info": {
   "codemirror_mode": {
    "name": "ipython",
    "version": 3
   },
   "file_extension": ".py",
   "mimetype": "text/x-python",
   "name": "python",
   "nbconvert_exporter": "python",
   "pygments_lexer": "ipython3",
   "version": "3.13.3"
  }
 },
 "nbformat": 4,
 "nbformat_minor": 5
}
